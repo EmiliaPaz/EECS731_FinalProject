{
 "cells": [
  {
   "cell_type": "code",
   "execution_count": 1,
   "metadata": {},
   "outputs": [],
   "source": [
    "import pandas as pd\n",
    "import numpy as np\n",
    "import matplotlib.pylab as plt\n",
    "import seaborn as sns"
   ]
  },
  {
   "cell_type": "code",
   "execution_count": null,
   "metadata": {},
   "outputs": [
    {
     "name": "stderr",
     "output_type": "stream",
     "text": [
      "//anaconda3/lib/python3.7/site-packages/IPython/core/interactiveshell.py:3057: DtypeWarning: Columns (12,13,14,15,18,19,20,45,46,55,59) have mixed types. Specify dtype option on import or set low_memory=False.\n",
      "  interactivity=interactivity, compiler=compiler, result=result)\n"
     ]
    }
   ],
   "source": [
    "df_damaged = pd.read_csv('../data/processed/damagedProperty.csv')\n",
    "df_eviction = pd.read_csv('../data/processed/Eviction.csv')\n",
    "df_fire = pd.read_csv('../data/processed/fireIncidents.csv')\n",
    "df_graffiti = pd.read_csv('../data/processed/graffiti.csv')\n",
    "df_homeless = pd.read_csv('../data/processed/homelessConcerns.csv')\n",
    "df_illegalp = pd.read_csv('../data/processed/illegalPostings.csv')\n",
    "df_incidents = pd.read_csv('../data/processed/incidents.csv')\n",
    "df_noise = pd.read_csv('../data/processed/noiseReports.csv')"
   ]
  },
  {
   "cell_type": "markdown",
   "metadata": {},
   "source": [
    "Use same name for columns"
   ]
  },
  {
   "cell_type": "code",
   "execution_count": null,
   "metadata": {},
   "outputs": [],
   "source": [
    "df_damaged.info()"
   ]
  },
  {
   "cell_type": "code",
   "execution_count": null,
   "metadata": {},
   "outputs": [],
   "source": [
    "df_eviction.info()"
   ]
  },
  {
   "cell_type": "code",
   "execution_count": null,
   "metadata": {},
   "outputs": [],
   "source": [
    "df_fire.info()"
   ]
  },
  {
   "cell_type": "code",
   "execution_count": null,
   "metadata": {
    "scrolled": false
   },
   "outputs": [],
   "source": [
    "df_eviction.rename(columns={'SupervisorDistrict':'Supervisor District',\n",
    "                           'EvictionID':'ID'}, inplace=True)\n",
    "df_fire.rename(columns={'Arrival DtTm':'Date',\n",
    "                       'Incident Number':'ID'}, inplace=True)\n",
    "df_damaged.rename(columns={'Opened':'Date',\n",
    "                          'CaseID':'ID'},  inplace=True)\n",
    "df_graffiti.rename(columns={'Opened':'Date',\n",
    "                           'CaseID':'ID'},  inplace=True)\n",
    "df_homeless.rename(columns={'Opened':'Date',\n",
    "                           'CaseID':'ID'},  inplace=True)\n",
    "df_illegalp.rename(columns={'Opened':'Date',\n",
    "                           'CaseID':'ID'},  inplace=True)\n",
    "df_noise.rename(columns={'Opened':'Date',\n",
    "                        'CaseID':'ID'},  inplace=True)"
   ]
  },
  {
   "cell_type": "code",
   "execution_count": null,
   "metadata": {},
   "outputs": [],
   "source": [
    "df_damaged['Damaged'] = 1 \n",
    "df_eviction['Eviction'] = 1\n",
    "df_fire['Fire Incident'] = 1\n",
    "df_graffiti['Graffiti'] = 1\n",
    "df_homeless['Homeless Concern'] = 1\n",
    "df_illegalp['Illegal Postings'] = 1\n",
    "df_noise['Noise Complaints'] = 1\n",
    "\n",
    "df_damaged['Category'] = \"damaged property\"\n",
    "df_eviction['Category'] = \"eviction\"\n",
    "df_fire['Category'] = \"fire incident\"\n",
    "df_graffiti['Category'] = \"graffiti\"\n",
    "df_homeless['Category'] = \"homeless concern\"\n",
    "df_illegalp['Category'] = \"illegal postings\"\n",
    "df_noise['Category'] = \"noise complaint\"\n",
    "\n",
    "df = []"
   ]
  },
  {
   "cell_type": "markdown",
   "metadata": {},
   "source": [
    "Merge datasets"
   ]
  },
  {
   "cell_type": "code",
   "execution_count": null,
   "metadata": {},
   "outputs": [],
   "source": [
    "df = df_damaged[['ID','Date','Year','Month','Day','Supervisor District', 'Category','Damaged']].append(df_eviction[['ID','Date','Year','Month','Day','Category','Supervisor District','Eviction']], sort=False)\n",
    "df.head()"
   ]
  },
  {
   "cell_type": "code",
   "execution_count": null,
   "metadata": {},
   "outputs": [],
   "source": [
    "df.tail()"
   ]
  },
  {
   "cell_type": "code",
   "execution_count": null,
   "metadata": {},
   "outputs": [],
   "source": [
    "df.fillna(0, inplace=True)\n",
    "df.head()"
   ]
  },
  {
   "cell_type": "code",
   "execution_count": null,
   "metadata": {},
   "outputs": [],
   "source": [
    "df = df.append(df_fire[['ID','Date','Year','Month','Day', 'Category','Supervisor District','Fire Incident']], sort=False)\n",
    "df.head()"
   ]
  },
  {
   "cell_type": "code",
   "execution_count": null,
   "metadata": {},
   "outputs": [],
   "source": [
    "df = df.append(df_graffiti[['ID','Date','Year','Month','Day', 'Category','Supervisor District','Graffiti']], sort=False)\n",
    "df.head()"
   ]
  },
  {
   "cell_type": "code",
   "execution_count": null,
   "metadata": {},
   "outputs": [],
   "source": [
    "df = df.append(df_homeless[['ID','Date','Year','Month','Day', 'Category','Supervisor District','Homeless Concern']], sort=False)\n",
    "df.head()"
   ]
  },
  {
   "cell_type": "code",
   "execution_count": null,
   "metadata": {},
   "outputs": [],
   "source": [
    "df = df.append(df_illegalp[['ID','Date','Year','Month','Day', 'Category','Supervisor District','Illegal Postings']], sort=False)\n",
    "df.head()"
   ]
  },
  {
   "cell_type": "code",
   "execution_count": null,
   "metadata": {},
   "outputs": [],
   "source": [
    "df = df.append(df_noise[['ID','Date','Year','Month','Day', 'Category','Supervisor District','Noise Complaints']], sort=False)\n",
    "df.head()"
   ]
  },
  {
   "cell_type": "code",
   "execution_count": null,
   "metadata": {},
   "outputs": [],
   "source": [
    "df.fillna(0, inplace=True)\n",
    "df.head()"
   ]
  },
  {
   "cell_type": "code",
   "execution_count": null,
   "metadata": {
    "scrolled": true
   },
   "outputs": [],
   "source": [
    "df.tail()"
   ]
  },
  {
   "cell_type": "markdown",
   "metadata": {},
   "source": [
    "## Encode"
   ]
  },
  {
   "cell_type": "code",
   "execution_count": null,
   "metadata": {},
   "outputs": [],
   "source": [
    "from sklearn import preprocessing\n",
    "le = preprocessing.LabelEncoder()\n",
    "df['CategoryLE'] = le.fit_transform(df[\"Category\"].astype(str))"
   ]
  },
  {
   "cell_type": "markdown",
   "metadata": {},
   "source": [
    "## Linear Regression"
   ]
  },
  {
   "cell_type": "code",
   "execution_count": null,
   "metadata": {},
   "outputs": [],
   "source": [
    "from sklearn.model_selection import train_test_split\n",
    "from sklearn.linear_model import LinearRegression"
   ]
  },
  {
   "cell_type": "code",
   "execution_count": null,
   "metadata": {},
   "outputs": [],
   "source": [
    "# See the relation between off and def columns\n",
    "sns.jointplot(x=df['CategoryLE'],y=df['Supervisor District'],\n",
    "              joint_kws={'alpha':0.4, 's':5, 'color':'orange'},\n",
    "              marginal_kws={'color':'blue'})\n"
   ]
  },
  {
   "cell_type": "code",
   "execution_count": null,
   "metadata": {},
   "outputs": [],
   "source": [
    "# Split the data between 80% train and 20% test\n",
    "labels = df['Supervisor District']\n",
    "features = df[['Damaged','Eviction','Fire Incident','Graffiti',\n",
    "                        'Homeless Concern','Illegal Postings', 'Noise Complaints']]\n",
    "train_features, test_features, train_labels, test_labels = train_test_split(features,\n",
    "                                                                            labels, \n",
    "                                                                            test_size=0.20)\n",
    "\n",
    "# Model the data\n",
    "model = LinearRegression()\n",
    "model.fit(train_features, train_labels)\n",
    "model.score(test_features, test_labels)"
   ]
  },
  {
   "cell_type": "code",
   "execution_count": null,
   "metadata": {},
   "outputs": [],
   "source": [
    "pred_labels = model.predict(test_features) \n",
    "sns.regplot(x = test_labels, \n",
    "            y = pred_labels, \n",
    "            data = model,\n",
    "            line_kws={\"color\":\"orange\",\"alpha\":0.5,\"lw\":2}\n",
    "           )"
   ]
  },
  {
   "cell_type": "markdown",
   "metadata": {},
   "source": [
    "## Other test"
   ]
  },
  {
   "cell_type": "code",
   "execution_count": null,
   "metadata": {},
   "outputs": [],
   "source": [
    "from scipy.cluster.hierarchy import linkage\n",
    "from scipy.cluster.hierarchy import dendrogram\n",
    "from sklearn.preprocessing import StandardScaler\n",
    "\n",
    "# Rescaling the attributes so they have a comparable scale\n",
    "rfm_df = df[['CategoryLE','Supervisor District']]\n",
    "\n",
    "# # Instantiate\n",
    "scaler = StandardScaler()\n",
    "\n",
    "# fit_transform\n",
    "rfm_df_scaled = scaler.fit_transform(rfm_df)\n",
    "\n",
    "rfm_df_scaled = pd.DataFrame(rfm_df_scaled)\n",
    "rfm_df_scaled.columns = ['rating','ratingCount']\n",
    "rfm_df_scaled.head()\n",
    "\n",
    "mergings = linkage(rfm_df_scaled, method=\"single\", metric='euclidean')\n",
    "dendrogram(mergings)\n",
    "plt.show()"
   ]
  },
  {
   "cell_type": "markdown",
   "metadata": {},
   "source": [
    "## Visualization"
   ]
  },
  {
   "cell_type": "code",
   "execution_count": null,
   "metadata": {},
   "outputs": [],
   "source": [
    "# # Load an example dataset with long-form data\n",
    "\n",
    "# Plot the responses for different events and regions\n",
    "sns.lineplot(x=\"Date\", y=\"CategoryLE\",\n",
    "             hue=\"Supervisor District\",\n",
    "             data=df)"
   ]
  },
  {
   "cell_type": "code",
   "execution_count": null,
   "metadata": {},
   "outputs": [],
   "source": [
    "dots = sns.load_dataset(\"df\")\n",
    "\n",
    "# Define a palette to ensure that colors will be\n",
    "# shared across the facets\n",
    "# palette = dict(zip(dots..unique(),\n",
    "#                    sns.color_palette(\"rocket_r\", 6)))\n",
    "\n",
    "# Plot the lines on two facets\n",
    "sns.relplot(x=\"Date\", y=\"CategoryLE\",\n",
    "            hue=\"Supervisor District\", size=\"choice\", col=\"align\",\n",
    "            size_order=[\"T1\", \"T2\"], palette=palette,\n",
    "            height=5, aspect=.75, facet_kws=dict(sharex=False),\n",
    "            kind=\"line\", legend=\"full\", data=dots)"
   ]
  }
 ],
 "metadata": {
  "kernelspec": {
   "display_name": "Python 3",
   "language": "python",
   "name": "python3"
  },
  "language_info": {
   "codemirror_mode": {
    "name": "ipython",
    "version": 3
   },
   "file_extension": ".py",
   "mimetype": "text/x-python",
   "name": "python",
   "nbconvert_exporter": "python",
   "pygments_lexer": "ipython3",
   "version": "3.7.3"
  }
 },
 "nbformat": 4,
 "nbformat_minor": 2
}
