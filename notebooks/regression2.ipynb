{
 "cells": [
  {
   "cell_type": "markdown",
   "metadata": {},
   "source": [
    "# Regression"
   ]
  },
  {
   "cell_type": "code",
   "execution_count": 1,
   "metadata": {},
   "outputs": [],
   "source": [
    "import pandas as pd \n",
    "import numpy as np"
   ]
  },
  {
   "cell_type": "markdown",
   "metadata": {},
   "source": [
    "## 1. Import Data"
   ]
  },
  {
   "cell_type": "code",
   "execution_count": 2,
   "metadata": {},
   "outputs": [],
   "source": [
    "df_eviction = pd.read_csv('../data/processed/Eviction.csv')\n",
    "df_incidents = pd.read_csv('../data/processed/incidents.csv')"
   ]
  },
  {
   "cell_type": "code",
   "execution_count": 3,
   "metadata": {},
   "outputs": [
    {
     "data": {
      "text/html": [
       "<div>\n",
       "<style scoped>\n",
       "    .dataframe tbody tr th:only-of-type {\n",
       "        vertical-align: middle;\n",
       "    }\n",
       "\n",
       "    .dataframe tbody tr th {\n",
       "        vertical-align: top;\n",
       "    }\n",
       "\n",
       "    .dataframe thead th {\n",
       "        text-align: right;\n",
       "    }\n",
       "</style>\n",
       "<table border=\"1\" class=\"dataframe\">\n",
       "  <thead>\n",
       "    <tr style=\"text-align: right;\">\n",
       "      <th></th>\n",
       "      <th>EvictionID</th>\n",
       "      <th>Address</th>\n",
       "      <th>City</th>\n",
       "      <th>State</th>\n",
       "      <th>Zipcode</th>\n",
       "      <th>Date</th>\n",
       "      <th>Nonpayment</th>\n",
       "      <th>Breach</th>\n",
       "      <th>Nuisance</th>\n",
       "      <th>IllegalUse</th>\n",
       "      <th>...</th>\n",
       "      <th>Development</th>\n",
       "      <th>GoodSamaritanEnds</th>\n",
       "      <th>SupervisorDistrict</th>\n",
       "      <th>Neighborhoods</th>\n",
       "      <th>Location</th>\n",
       "      <th>X</th>\n",
       "      <th>Y</th>\n",
       "      <th>Day</th>\n",
       "      <th>Month</th>\n",
       "      <th>Year</th>\n",
       "    </tr>\n",
       "  </thead>\n",
       "  <tbody>\n",
       "    <tr>\n",
       "      <th>0</th>\n",
       "      <td>m192806</td>\n",
       "      <td>700 block of kearny  street</td>\n",
       "      <td>san francisco</td>\n",
       "      <td>ca</td>\n",
       "      <td>94111</td>\n",
       "      <td>2019-10-18</td>\n",
       "      <td>False</td>\n",
       "      <td>True</td>\n",
       "      <td>False</td>\n",
       "      <td>False</td>\n",
       "      <td>...</td>\n",
       "      <td>False</td>\n",
       "      <td>False</td>\n",
       "      <td>3.0</td>\n",
       "      <td>chinatown</td>\n",
       "      <td>-122.40476763634015 37.79466465355738</td>\n",
       "      <td>-122.404768</td>\n",
       "      <td>37.794665</td>\n",
       "      <td>18</td>\n",
       "      <td>10</td>\n",
       "      <td>2019</td>\n",
       "    </tr>\n",
       "    <tr>\n",
       "      <th>1</th>\n",
       "      <td>m192020</td>\n",
       "      <td>400 block of 35th  avenue</td>\n",
       "      <td>san francisco</td>\n",
       "      <td>ca</td>\n",
       "      <td>94121</td>\n",
       "      <td>2019-08-16</td>\n",
       "      <td>False</td>\n",
       "      <td>False</td>\n",
       "      <td>False</td>\n",
       "      <td>False</td>\n",
       "      <td>...</td>\n",
       "      <td>False</td>\n",
       "      <td>False</td>\n",
       "      <td>1.0</td>\n",
       "      <td>outer richmond</td>\n",
       "      <td>-122.4954513144922 37.780562090999126</td>\n",
       "      <td>-122.495451</td>\n",
       "      <td>37.780562</td>\n",
       "      <td>16</td>\n",
       "      <td>8</td>\n",
       "      <td>2019</td>\n",
       "    </tr>\n",
       "    <tr>\n",
       "      <th>2</th>\n",
       "      <td>m192145</td>\n",
       "      <td>200 block of font  boulevard</td>\n",
       "      <td>san francisco</td>\n",
       "      <td>ca</td>\n",
       "      <td>94132</td>\n",
       "      <td>2019-08-28</td>\n",
       "      <td>False</td>\n",
       "      <td>True</td>\n",
       "      <td>False</td>\n",
       "      <td>False</td>\n",
       "      <td>...</td>\n",
       "      <td>False</td>\n",
       "      <td>False</td>\n",
       "      <td>7.0</td>\n",
       "      <td>lakeshore</td>\n",
       "      <td>-122.47509247803765 37.71643640083831</td>\n",
       "      <td>-122.475092</td>\n",
       "      <td>37.716436</td>\n",
       "      <td>28</td>\n",
       "      <td>8</td>\n",
       "      <td>2019</td>\n",
       "    </tr>\n",
       "    <tr>\n",
       "      <th>3</th>\n",
       "      <td>m191890</td>\n",
       "      <td>0 block of levant  street</td>\n",
       "      <td>san francisco</td>\n",
       "      <td>ca</td>\n",
       "      <td>94114</td>\n",
       "      <td>2019-08-02</td>\n",
       "      <td>False</td>\n",
       "      <td>False</td>\n",
       "      <td>False</td>\n",
       "      <td>False</td>\n",
       "      <td>...</td>\n",
       "      <td>False</td>\n",
       "      <td>False</td>\n",
       "      <td>8.0</td>\n",
       "      <td>castro/upper market</td>\n",
       "      <td>-122.44212894562347 37.764255519062026</td>\n",
       "      <td>-122.442129</td>\n",
       "      <td>37.764256</td>\n",
       "      <td>2</td>\n",
       "      <td>8</td>\n",
       "      <td>2019</td>\n",
       "    </tr>\n",
       "    <tr>\n",
       "      <th>4</th>\n",
       "      <td>m192140</td>\n",
       "      <td>0 block of bucareli  drive</td>\n",
       "      <td>san francisco</td>\n",
       "      <td>ca</td>\n",
       "      <td>94132</td>\n",
       "      <td>2019-08-28</td>\n",
       "      <td>False</td>\n",
       "      <td>True</td>\n",
       "      <td>False</td>\n",
       "      <td>False</td>\n",
       "      <td>...</td>\n",
       "      <td>False</td>\n",
       "      <td>False</td>\n",
       "      <td>7.0</td>\n",
       "      <td>lakeshore</td>\n",
       "      <td>-122.4793742747656 37.71746280191635</td>\n",
       "      <td>-122.479374</td>\n",
       "      <td>37.717463</td>\n",
       "      <td>28</td>\n",
       "      <td>8</td>\n",
       "      <td>2019</td>\n",
       "    </tr>\n",
       "  </tbody>\n",
       "</table>\n",
       "<p>5 rows × 33 columns</p>\n",
       "</div>"
      ],
      "text/plain": [
       "  EvictionID                       Address           City State  Zipcode  \\\n",
       "0    m192806   700 block of kearny  street  san francisco    ca    94111   \n",
       "1    m192020     400 block of 35th  avenue  san francisco    ca    94121   \n",
       "2    m192145  200 block of font  boulevard  san francisco    ca    94132   \n",
       "3    m191890     0 block of levant  street  san francisco    ca    94114   \n",
       "4    m192140    0 block of bucareli  drive  san francisco    ca    94132   \n",
       "\n",
       "         Date  Nonpayment  Breach  Nuisance  IllegalUse  ...   Development  \\\n",
       "0  2019-10-18       False    True     False       False  ...         False   \n",
       "1  2019-08-16       False   False     False       False  ...         False   \n",
       "2  2019-08-28       False    True     False       False  ...         False   \n",
       "3  2019-08-02       False   False     False       False  ...         False   \n",
       "4  2019-08-28       False    True     False       False  ...         False   \n",
       "\n",
       "   GoodSamaritanEnds  SupervisorDistrict        Neighborhoods  \\\n",
       "0              False                 3.0            chinatown   \n",
       "1              False                 1.0       outer richmond   \n",
       "2              False                 7.0            lakeshore   \n",
       "3              False                 8.0  castro/upper market   \n",
       "4              False                 7.0            lakeshore   \n",
       "\n",
       "                                 Location           X          Y  Day  Month  \\\n",
       "0   -122.40476763634015 37.79466465355738 -122.404768  37.794665   18     10   \n",
       "1   -122.4954513144922 37.780562090999126 -122.495451  37.780562   16      8   \n",
       "2   -122.47509247803765 37.71643640083831 -122.475092  37.716436   28      8   \n",
       "3  -122.44212894562347 37.764255519062026 -122.442129  37.764256    2      8   \n",
       "4    -122.4793742747656 37.71746280191635 -122.479374  37.717463   28      8   \n",
       "\n",
       "   Year  \n",
       "0  2019  \n",
       "1  2019  \n",
       "2  2019  \n",
       "3  2019  \n",
       "4  2019  \n",
       "\n",
       "[5 rows x 33 columns]"
      ]
     },
     "execution_count": 3,
     "metadata": {},
     "output_type": "execute_result"
    }
   ],
   "source": [
    "df_eviction.head()"
   ]
  },
  {
   "cell_type": "code",
   "execution_count": 4,
   "metadata": {},
   "outputs": [
    {
     "data": {
      "text/html": [
       "<div>\n",
       "<style scoped>\n",
       "    .dataframe tbody tr th:only-of-type {\n",
       "        vertical-align: middle;\n",
       "    }\n",
       "\n",
       "    .dataframe tbody tr th {\n",
       "        vertical-align: top;\n",
       "    }\n",
       "\n",
       "    .dataframe thead th {\n",
       "        text-align: right;\n",
       "    }\n",
       "</style>\n",
       "<table border=\"1\" class=\"dataframe\">\n",
       "  <thead>\n",
       "    <tr style=\"text-align: right;\">\n",
       "      <th></th>\n",
       "      <th>Unnamed: 0</th>\n",
       "      <th>IncidentNum</th>\n",
       "      <th>Category</th>\n",
       "      <th>Description</th>\n",
       "      <th>DayOfWeek</th>\n",
       "      <th>Date</th>\n",
       "      <th>Time</th>\n",
       "      <th>PdDistrict</th>\n",
       "      <th>Resolution</th>\n",
       "      <th>Address</th>\n",
       "      <th>X</th>\n",
       "      <th>Y</th>\n",
       "      <th>Location</th>\n",
       "      <th>PdId</th>\n",
       "      <th>Year</th>\n",
       "      <th>Month</th>\n",
       "      <th>Day</th>\n",
       "    </tr>\n",
       "  </thead>\n",
       "  <tbody>\n",
       "    <tr>\n",
       "      <th>0</th>\n",
       "      <td>0</td>\n",
       "      <td>110308742</td>\n",
       "      <td>missing person</td>\n",
       "      <td>found person</td>\n",
       "      <td>friday</td>\n",
       "      <td>2011-04-15</td>\n",
       "      <td>16:00:00</td>\n",
       "      <td>taraval</td>\n",
       "      <td>located</td>\n",
       "      <td>0 block of crespi dr</td>\n",
       "      <td>-122.476328</td>\n",
       "      <td>37.719687</td>\n",
       "      <td>point (-122.476327815126 37.7196874952717)</td>\n",
       "      <td>1.103087e+13</td>\n",
       "      <td>2011.0</td>\n",
       "      <td>4.0</td>\n",
       "      <td>15.0</td>\n",
       "    </tr>\n",
       "    <tr>\n",
       "      <th>1</th>\n",
       "      <td>1</td>\n",
       "      <td>90316914</td>\n",
       "      <td>warrants</td>\n",
       "      <td>warrant arrest</td>\n",
       "      <td>thursday</td>\n",
       "      <td>2009-03-26</td>\n",
       "      <td>12:28:00</td>\n",
       "      <td>southern</td>\n",
       "      <td>arrest, booked</td>\n",
       "      <td>1000 block of market st</td>\n",
       "      <td>-122.411340</td>\n",
       "      <td>37.781271</td>\n",
       "      <td>point (-122.411339562557 37.7812707434494)</td>\n",
       "      <td>9.031691e+12</td>\n",
       "      <td>2009.0</td>\n",
       "      <td>3.0</td>\n",
       "      <td>26.0</td>\n",
       "    </tr>\n",
       "    <tr>\n",
       "      <th>2</th>\n",
       "      <td>2</td>\n",
       "      <td>130132311</td>\n",
       "      <td>secondary codes</td>\n",
       "      <td>domestic violence</td>\n",
       "      <td>friday</td>\n",
       "      <td>2013-02-15</td>\n",
       "      <td>02:00:00</td>\n",
       "      <td>park</td>\n",
       "      <td>arrest, booked</td>\n",
       "      <td>castro st / market st</td>\n",
       "      <td>-122.435188</td>\n",
       "      <td>37.762670</td>\n",
       "      <td>point (-122.435187699349 37.7626702770872)</td>\n",
       "      <td>1.301323e+13</td>\n",
       "      <td>2013.0</td>\n",
       "      <td>2.0</td>\n",
       "      <td>15.0</td>\n",
       "    </tr>\n",
       "    <tr>\n",
       "      <th>3</th>\n",
       "      <td>3</td>\n",
       "      <td>80052833</td>\n",
       "      <td>other offenses</td>\n",
       "      <td>drivers license, suspended or revoked</td>\n",
       "      <td>tuesday</td>\n",
       "      <td>2008-01-15</td>\n",
       "      <td>20:13:00</td>\n",
       "      <td>mission</td>\n",
       "      <td>arrest, cited</td>\n",
       "      <td>valencia st / 16th st</td>\n",
       "      <td>-122.421886</td>\n",
       "      <td>37.764918</td>\n",
       "      <td>point (-122.421886357981 37.7649178909424)</td>\n",
       "      <td>8.005283e+12</td>\n",
       "      <td>2008.0</td>\n",
       "      <td>1.0</td>\n",
       "      <td>15.0</td>\n",
       "    </tr>\n",
       "    <tr>\n",
       "      <th>4</th>\n",
       "      <td>4</td>\n",
       "      <td>70535770</td>\n",
       "      <td>secondary codes</td>\n",
       "      <td>domestic violence</td>\n",
       "      <td>saturday</td>\n",
       "      <td>2007-05-26</td>\n",
       "      <td>18:10:00</td>\n",
       "      <td>mission</td>\n",
       "      <td>arrest, booked</td>\n",
       "      <td>2800 block of folsom st</td>\n",
       "      <td>-122.413935</td>\n",
       "      <td>37.751693</td>\n",
       "      <td>point (-122.413935404044 37.7516932889916)</td>\n",
       "      <td>7.053577e+12</td>\n",
       "      <td>2007.0</td>\n",
       "      <td>5.0</td>\n",
       "      <td>26.0</td>\n",
       "    </tr>\n",
       "  </tbody>\n",
       "</table>\n",
       "</div>"
      ],
      "text/plain": [
       "   Unnamed: 0  IncidentNum         Category  \\\n",
       "0           0    110308742   missing person   \n",
       "1           1     90316914         warrants   \n",
       "2           2    130132311  secondary codes   \n",
       "3           3     80052833   other offenses   \n",
       "4           4     70535770  secondary codes   \n",
       "\n",
       "                             Description DayOfWeek        Date      Time  \\\n",
       "0                           found person    friday  2011-04-15  16:00:00   \n",
       "1                         warrant arrest  thursday  2009-03-26  12:28:00   \n",
       "2                      domestic violence    friday  2013-02-15  02:00:00   \n",
       "3  drivers license, suspended or revoked   tuesday  2008-01-15  20:13:00   \n",
       "4                      domestic violence  saturday  2007-05-26  18:10:00   \n",
       "\n",
       "  PdDistrict      Resolution                  Address           X          Y  \\\n",
       "0    taraval         located     0 block of crespi dr -122.476328  37.719687   \n",
       "1   southern  arrest, booked  1000 block of market st -122.411340  37.781271   \n",
       "2       park  arrest, booked    castro st / market st -122.435188  37.762670   \n",
       "3    mission   arrest, cited    valencia st / 16th st -122.421886  37.764918   \n",
       "4    mission  arrest, booked  2800 block of folsom st -122.413935  37.751693   \n",
       "\n",
       "                                     Location          PdId    Year  Month  \\\n",
       "0  point (-122.476327815126 37.7196874952717)  1.103087e+13  2011.0    4.0   \n",
       "1  point (-122.411339562557 37.7812707434494)  9.031691e+12  2009.0    3.0   \n",
       "2  point (-122.435187699349 37.7626702770872)  1.301323e+13  2013.0    2.0   \n",
       "3  point (-122.421886357981 37.7649178909424)  8.005283e+12  2008.0    1.0   \n",
       "4  point (-122.413935404044 37.7516932889916)  7.053577e+12  2007.0    5.0   \n",
       "\n",
       "    Day  \n",
       "0  15.0  \n",
       "1  26.0  \n",
       "2  15.0  \n",
       "3  15.0  \n",
       "4  26.0  "
      ]
     },
     "execution_count": 4,
     "metadata": {},
     "output_type": "execute_result"
    }
   ],
   "source": [
    "df_incidents.head()"
   ]
  },
  {
   "cell_type": "code",
   "execution_count": 5,
   "metadata": {},
   "outputs": [
    {
     "data": {
      "text/plain": [
       "PdDistrict\n",
       "bayview       104001\n",
       "central       104608\n",
       "ingleside      91032\n",
       "mission       139486\n",
       "northern      128454\n",
       "park           58570\n",
       "richmond       54407\n",
       "southern      187745\n",
       "taraval        78714\n",
       "tenderloin     90745\n",
       "Name: IncidentNum, dtype: int64"
      ]
     },
     "execution_count": 5,
     "metadata": {},
     "output_type": "execute_result"
    }
   ],
   "source": [
    "districts = df_incidents.groupby(['PdDistrict']).IncidentNum.count()\n",
    "districts"
   ]
  },
  {
   "cell_type": "code",
   "execution_count": 6,
   "metadata": {},
   "outputs": [
    {
     "data": {
      "text/html": [
       "<div>\n",
       "<style scoped>\n",
       "    .dataframe tbody tr th:only-of-type {\n",
       "        vertical-align: middle;\n",
       "    }\n",
       "\n",
       "    .dataframe tbody tr th {\n",
       "        vertical-align: top;\n",
       "    }\n",
       "\n",
       "    .dataframe thead th {\n",
       "        text-align: right;\n",
       "    }\n",
       "</style>\n",
       "<table border=\"1\" class=\"dataframe\">\n",
       "  <thead>\n",
       "    <tr style=\"text-align: right;\">\n",
       "      <th></th>\n",
       "      <th>EvictionID</th>\n",
       "      <th>Address</th>\n",
       "      <th>City</th>\n",
       "      <th>State</th>\n",
       "      <th>Zipcode</th>\n",
       "      <th>Date</th>\n",
       "      <th>Nonpayment</th>\n",
       "      <th>Breach</th>\n",
       "      <th>Nuisance</th>\n",
       "      <th>IllegalUse</th>\n",
       "      <th>...</th>\n",
       "      <th>GoodSamaritanEnds</th>\n",
       "      <th>SupervisorDistrict</th>\n",
       "      <th>Neighborhoods</th>\n",
       "      <th>Location</th>\n",
       "      <th>X</th>\n",
       "      <th>Y</th>\n",
       "      <th>Day</th>\n",
       "      <th>Month</th>\n",
       "      <th>Year</th>\n",
       "      <th>PdDistrict</th>\n",
       "    </tr>\n",
       "  </thead>\n",
       "  <tbody>\n",
       "    <tr>\n",
       "      <th>0</th>\n",
       "      <td>m192806</td>\n",
       "      <td>700 block of kearny  street</td>\n",
       "      <td>san francisco</td>\n",
       "      <td>ca</td>\n",
       "      <td>94111</td>\n",
       "      <td>2019-10-18</td>\n",
       "      <td>False</td>\n",
       "      <td>True</td>\n",
       "      <td>False</td>\n",
       "      <td>False</td>\n",
       "      <td>...</td>\n",
       "      <td>False</td>\n",
       "      <td>3.0</td>\n",
       "      <td>chinatown</td>\n",
       "      <td>-122.40476763634015 37.79466465355738</td>\n",
       "      <td>-122.404768</td>\n",
       "      <td>37.794665</td>\n",
       "      <td>18</td>\n",
       "      <td>10</td>\n",
       "      <td>2019</td>\n",
       "      <td>central</td>\n",
       "    </tr>\n",
       "    <tr>\n",
       "      <th>1</th>\n",
       "      <td>m192020</td>\n",
       "      <td>400 block of 35th  avenue</td>\n",
       "      <td>san francisco</td>\n",
       "      <td>ca</td>\n",
       "      <td>94121</td>\n",
       "      <td>2019-08-16</td>\n",
       "      <td>False</td>\n",
       "      <td>False</td>\n",
       "      <td>False</td>\n",
       "      <td>False</td>\n",
       "      <td>...</td>\n",
       "      <td>False</td>\n",
       "      <td>1.0</td>\n",
       "      <td>outer richmond</td>\n",
       "      <td>-122.4954513144922 37.780562090999126</td>\n",
       "      <td>-122.495451</td>\n",
       "      <td>37.780562</td>\n",
       "      <td>16</td>\n",
       "      <td>8</td>\n",
       "      <td>2019</td>\n",
       "      <td>richmond</td>\n",
       "    </tr>\n",
       "    <tr>\n",
       "      <th>2</th>\n",
       "      <td>m192145</td>\n",
       "      <td>200 block of font  boulevard</td>\n",
       "      <td>san francisco</td>\n",
       "      <td>ca</td>\n",
       "      <td>94132</td>\n",
       "      <td>2019-08-28</td>\n",
       "      <td>False</td>\n",
       "      <td>True</td>\n",
       "      <td>False</td>\n",
       "      <td>False</td>\n",
       "      <td>...</td>\n",
       "      <td>False</td>\n",
       "      <td>7.0</td>\n",
       "      <td>lakeshore</td>\n",
       "      <td>-122.47509247803765 37.71643640083831</td>\n",
       "      <td>-122.475092</td>\n",
       "      <td>37.716436</td>\n",
       "      <td>28</td>\n",
       "      <td>8</td>\n",
       "      <td>2019</td>\n",
       "      <td>taraval</td>\n",
       "    </tr>\n",
       "    <tr>\n",
       "      <th>3</th>\n",
       "      <td>m191890</td>\n",
       "      <td>0 block of levant  street</td>\n",
       "      <td>san francisco</td>\n",
       "      <td>ca</td>\n",
       "      <td>94114</td>\n",
       "      <td>2019-08-02</td>\n",
       "      <td>False</td>\n",
       "      <td>False</td>\n",
       "      <td>False</td>\n",
       "      <td>False</td>\n",
       "      <td>...</td>\n",
       "      <td>False</td>\n",
       "      <td>8.0</td>\n",
       "      <td>castro/upper market</td>\n",
       "      <td>-122.44212894562347 37.764255519062026</td>\n",
       "      <td>-122.442129</td>\n",
       "      <td>37.764256</td>\n",
       "      <td>2</td>\n",
       "      <td>8</td>\n",
       "      <td>2019</td>\n",
       "      <td>mission</td>\n",
       "    </tr>\n",
       "    <tr>\n",
       "      <th>4</th>\n",
       "      <td>m192140</td>\n",
       "      <td>0 block of bucareli  drive</td>\n",
       "      <td>san francisco</td>\n",
       "      <td>ca</td>\n",
       "      <td>94132</td>\n",
       "      <td>2019-08-28</td>\n",
       "      <td>False</td>\n",
       "      <td>True</td>\n",
       "      <td>False</td>\n",
       "      <td>False</td>\n",
       "      <td>...</td>\n",
       "      <td>False</td>\n",
       "      <td>7.0</td>\n",
       "      <td>lakeshore</td>\n",
       "      <td>-122.4793742747656 37.71746280191635</td>\n",
       "      <td>-122.479374</td>\n",
       "      <td>37.717463</td>\n",
       "      <td>28</td>\n",
       "      <td>8</td>\n",
       "      <td>2019</td>\n",
       "      <td>taraval</td>\n",
       "    </tr>\n",
       "  </tbody>\n",
       "</table>\n",
       "<p>5 rows × 34 columns</p>\n",
       "</div>"
      ],
      "text/plain": [
       "  EvictionID                       Address           City State  Zipcode  \\\n",
       "0    m192806   700 block of kearny  street  san francisco    ca    94111   \n",
       "1    m192020     400 block of 35th  avenue  san francisco    ca    94121   \n",
       "2    m192145  200 block of font  boulevard  san francisco    ca    94132   \n",
       "3    m191890     0 block of levant  street  san francisco    ca    94114   \n",
       "4    m192140    0 block of bucareli  drive  san francisco    ca    94132   \n",
       "\n",
       "         Date  Nonpayment  Breach  Nuisance  IllegalUse     ...      \\\n",
       "0  2019-10-18       False    True     False       False     ...       \n",
       "1  2019-08-16       False   False     False       False     ...       \n",
       "2  2019-08-28       False    True     False       False     ...       \n",
       "3  2019-08-02       False   False     False       False     ...       \n",
       "4  2019-08-28       False    True     False       False     ...       \n",
       "\n",
       "   GoodSamaritanEnds  SupervisorDistrict        Neighborhoods  \\\n",
       "0              False                 3.0            chinatown   \n",
       "1              False                 1.0       outer richmond   \n",
       "2              False                 7.0            lakeshore   \n",
       "3              False                 8.0  castro/upper market   \n",
       "4              False                 7.0            lakeshore   \n",
       "\n",
       "                                 Location           X          Y  Day  Month  \\\n",
       "0   -122.40476763634015 37.79466465355738 -122.404768  37.794665   18     10   \n",
       "1   -122.4954513144922 37.780562090999126 -122.495451  37.780562   16      8   \n",
       "2   -122.47509247803765 37.71643640083831 -122.475092  37.716436   28      8   \n",
       "3  -122.44212894562347 37.764255519062026 -122.442129  37.764256    2      8   \n",
       "4    -122.4793742747656 37.71746280191635 -122.479374  37.717463   28      8   \n",
       "\n",
       "   Year  PdDistrict  \n",
       "0  2019     central  \n",
       "1  2019    richmond  \n",
       "2  2019     taraval  \n",
       "3  2019     mission  \n",
       "4  2019     taraval  \n",
       "\n",
       "[5 rows x 34 columns]"
      ]
     },
     "execution_count": 6,
     "metadata": {},
     "output_type": "execute_result"
    }
   ],
   "source": [
    "ngbh_dist = {\n",
    "    'bayview hunters point': 'bayview',\n",
    "    'bernal heights': 'ingleside',\n",
    "    'castro/upper market': 'mission',\n",
    "    'chinatown': 'central',\n",
    "    'excelsior': 'ingleside',\n",
    "    'financial district/south beach': 'central',\n",
    "    'glen park': 'ingleside',\n",
    "    'golden gate park': 'richmond',\n",
    "    'haight ashbury': 'park',\n",
    "    'hayes valley': 'northern',\n",
    "    'inner richmond': 'richmond',\n",
    "    'inner sunset': 'taraval',\n",
    "    'japantown': 'northern',\n",
    "    'lakeshore': 'taraval',\n",
    "    'lincoln park': 'richmond',\n",
    "    'lone mountain/usf': 'park',\n",
    "    'marina': 'northern',\n",
    "    'mclaren park': 'ingleside',\n",
    "    'mission' : 'mission',\n",
    "    'mission bay': 'bayview',\n",
    "    'nob hill': 'central',\n",
    "    'noe valley': 'mission',\n",
    "    'north beach': 'central',\n",
    "    'oceanview/merced/ingleside': 'ingleside',\n",
    "    'outer mission': 'ingleside',\n",
    "    'outer richmond': 'richmond',\n",
    "    'pacific heights': 'northern',\n",
    "    'portola': 'bayview',\n",
    "    'potrero hill': 'bayview',\n",
    "    'presidio': 'richmond',\n",
    "    'presidio heights': 'richmond',\n",
    "    'russian hill': 'central',\n",
    "    'seacliff': 'richmond',\n",
    "    'south of market': 'southern',\n",
    "    'sunset/parkside': 'taraval',\n",
    "    'tenderloin': 'tenderloin',\n",
    "    'treasure island': 'southern',\n",
    "    'twin peaks': 'park',\n",
    "    'visitacion valley': 'ingleside',\n",
    "    'west of twin peaks': 'ingleside',\n",
    "    'western addition': 'northern'\n",
    "}\n",
    "df_eviction[\"PdDistrict\"] = df_eviction[\"Neighborhoods\"].apply(lambda x: ngbh_dist.get(x))\n",
    "df_eviction.head()"
   ]
  },
  {
   "cell_type": "code",
   "execution_count": 7,
   "metadata": {},
   "outputs": [
    {
     "data": {
      "text/plain": [
       "PdDistrict\n",
       "bayview       2249\n",
       "central       3988\n",
       "ingleside     5428\n",
       "mission       7356\n",
       "northern      4567\n",
       "park          2441\n",
       "richmond      3696\n",
       "southern      1483\n",
       "taraval       5562\n",
       "tenderloin    2582\n",
       "Name: PdDistrict, dtype: int64"
      ]
     },
     "execution_count": 7,
     "metadata": {},
     "output_type": "execute_result"
    }
   ],
   "source": [
    "evictions=df_eviction.groupby('PdDistrict').PdDistrict.count()\n",
    "evictions"
   ]
  },
  {
   "cell_type": "code",
   "execution_count": 43,
   "metadata": {},
   "outputs": [
    {
     "data": {
      "text/plain": [
       "PdDistrict\n",
       "bayview       104001\n",
       "central       104608\n",
       "ingleside      91032\n",
       "mission       139486\n",
       "northern      128454\n",
       "park           58570\n",
       "richmond       54407\n",
       "southern      187745\n",
       "taraval        78714\n",
       "tenderloin     90745\n",
       "Name: PdDistrict, dtype: int64"
      ]
     },
     "execution_count": 43,
     "metadata": {},
     "output_type": "execute_result"
    }
   ],
   "source": [
    "incidents=df_incidents.groupby('PdDistrict').PdDistrict.count()\n",
    "incidents"
   ]
  },
  {
   "cell_type": "code",
   "execution_count": 9,
   "metadata": {},
   "outputs": [
    {
     "data": {
      "text/plain": [
       "[0.05715084366741208,\n",
       " 0.1013417361252287,\n",
       " 0.137934539540557,\n",
       " 0.1869282374466355,\n",
       " 0.1160550924984753,\n",
       " 0.06202988412278918,\n",
       " 0.09392152876600936,\n",
       " 0.037685505183980485,\n",
       " 0.14133970319170563,\n",
       " 0.06561292945720675]"
      ]
     },
     "execution_count": 9,
     "metadata": {},
     "output_type": "execute_result"
    }
   ],
   "source": [
    "evList=[]\n",
    "for x in range(0, len(evictions)):\n",
    "    evList.append(evictions[x])\n",
    "evtotal=sum(evList)\n",
    "evPerc=[]\n",
    "for x in evList:\n",
    "    evPerc.append(x/evtotal)\n",
    "evPerc"
   ]
  },
  {
   "cell_type": "code",
   "execution_count": 34,
   "metadata": {},
   "outputs": [
    {
     "ename": "TypeError",
     "evalue": "'int' object is not iterable",
     "output_type": "error",
     "traceback": [
      "\u001b[1;31m---------------------------------------------------------------------------\u001b[0m",
      "\u001b[1;31mTypeError\u001b[0m                                 Traceback (most recent call last)",
      "\u001b[1;32m<ipython-input-34-00b0b24ab8df>\u001b[0m in \u001b[0;36m<module>\u001b[1;34m()\u001b[0m\n\u001b[0;32m      1\u001b[0m \u001b[0mincList\u001b[0m\u001b[1;33m=\u001b[0m\u001b[1;33m[\u001b[0m\u001b[1;33m]\u001b[0m\u001b[1;33m\u001b[0m\u001b[0m\n\u001b[0;32m      2\u001b[0m \u001b[0mnameList\u001b[0m\u001b[1;33m=\u001b[0m\u001b[1;33m[\u001b[0m\u001b[1;33m]\u001b[0m\u001b[1;33m\u001b[0m\u001b[0m\n\u001b[1;32m----> 3\u001b[1;33m \u001b[1;32mfor\u001b[0m \u001b[0mname\u001b[0m\u001b[1;33m,\u001b[0m \u001b[0mx\u001b[0m \u001b[1;32min\u001b[0m \u001b[0mincidents\u001b[0m\u001b[1;33m:\u001b[0m\u001b[1;33m\u001b[0m\u001b[0m\n\u001b[0m\u001b[0;32m      4\u001b[0m     \u001b[0mnameList\u001b[0m\u001b[1;33m.\u001b[0m\u001b[0mappend\u001b[0m\u001b[1;33m(\u001b[0m\u001b[0mname\u001b[0m\u001b[1;33m)\u001b[0m\u001b[1;33m\u001b[0m\u001b[0m\n\u001b[0;32m      5\u001b[0m     \u001b[0mincList\u001b[0m\u001b[1;33m.\u001b[0m\u001b[0mappend\u001b[0m\u001b[1;33m(\u001b[0m\u001b[0mx\u001b[0m\u001b[1;33m)\u001b[0m\u001b[1;33m\u001b[0m\u001b[0m\n",
      "\u001b[1;31mTypeError\u001b[0m: 'int' object is not iterable"
     ]
    }
   ],
   "source": [
    "incList=[]\n",
    "nameList=[]\n",
    "for name, x in incidents:\n",
    "    nameList.append(name)\n",
    "    incList.append(x)\n",
    "inctotal=sum(incList)\n",
    "incPerc=[]\n",
    "for x in incList:\n",
    "    incPerc.append(x/inctotal)\n",
    "incPerc"
   ]
  },
  {
   "cell_type": "code",
   "execution_count": 68,
   "metadata": {},
   "outputs": [
    {
     "data": {
      "image/png": "[encoded data removed]",
      "text/plain": [
       "<Figure size 432x288 with 1 Axes>"
      ]
     },
     "metadata": {},
     "output_type": "display_data"
    }
   ],
   "source": [
    "import matplotlib.pyplot as plt\n",
    "import seaborn as sns\n",
    "\n",
    "sns.set_style(\"darkgrid\", {\"axes.facecolor\": \".9\"})\n",
    "\n",
    "plt.scatter(evPerc, incPerc)\n",
    "plt.show()"
   ]
  },
  {
   "cell_type": "code",
   "execution_count": 13,
   "metadata": {},
   "outputs": [
    {
     "data": {
      "text/html": [
       "<div>\n",
       "<style scoped>\n",
       "    .dataframe tbody tr th:only-of-type {\n",
       "        vertical-align: middle;\n",
       "    }\n",
       "\n",
       "    .dataframe tbody tr th {\n",
       "        vertical-align: top;\n",
       "    }\n",
       "\n",
       "    .dataframe thead th {\n",
       "        text-align: right;\n",
       "    }\n",
       "</style>\n",
       "<table border=\"1\" class=\"dataframe\">\n",
       "  <thead>\n",
       "    <tr style=\"text-align: right;\">\n",
       "      <th></th>\n",
       "      <th>Evictions</th>\n",
       "      <th>Indicents</th>\n",
       "    </tr>\n",
       "  </thead>\n",
       "  <tbody>\n",
       "    <tr>\n",
       "      <th>0</th>\n",
       "      <td>0.057151</td>\n",
       "      <td>0.100217</td>\n",
       "    </tr>\n",
       "    <tr>\n",
       "      <th>1</th>\n",
       "      <td>0.101342</td>\n",
       "      <td>0.100802</td>\n",
       "    </tr>\n",
       "    <tr>\n",
       "      <th>2</th>\n",
       "      <td>0.137935</td>\n",
       "      <td>0.087720</td>\n",
       "    </tr>\n",
       "    <tr>\n",
       "      <th>3</th>\n",
       "      <td>0.186928</td>\n",
       "      <td>0.134410</td>\n",
       "    </tr>\n",
       "    <tr>\n",
       "      <th>4</th>\n",
       "      <td>0.116055</td>\n",
       "      <td>0.123780</td>\n",
       "    </tr>\n",
       "    <tr>\n",
       "      <th>5</th>\n",
       "      <td>0.062030</td>\n",
       "      <td>0.056439</td>\n",
       "    </tr>\n",
       "    <tr>\n",
       "      <th>6</th>\n",
       "      <td>0.093922</td>\n",
       "      <td>0.052427</td>\n",
       "    </tr>\n",
       "    <tr>\n",
       "      <th>7</th>\n",
       "      <td>0.037686</td>\n",
       "      <td>0.180913</td>\n",
       "    </tr>\n",
       "    <tr>\n",
       "      <th>8</th>\n",
       "      <td>0.141340</td>\n",
       "      <td>0.075850</td>\n",
       "    </tr>\n",
       "    <tr>\n",
       "      <th>9</th>\n",
       "      <td>0.065613</td>\n",
       "      <td>0.087443</td>\n",
       "    </tr>\n",
       "  </tbody>\n",
       "</table>\n",
       "</div>"
      ],
      "text/plain": [
       "   Evictions  Indicents\n",
       "0   0.057151   0.100217\n",
       "1   0.101342   0.100802\n",
       "2   0.137935   0.087720\n",
       "3   0.186928   0.134410\n",
       "4   0.116055   0.123780\n",
       "5   0.062030   0.056439\n",
       "6   0.093922   0.052427\n",
       "7   0.037686   0.180913\n",
       "8   0.141340   0.075850\n",
       "9   0.065613   0.087443"
      ]
     },
     "execution_count": 13,
     "metadata": {},
     "output_type": "execute_result"
    }
   ],
   "source": [
    "dict = {'Evictions': evPerc, 'Indicents': incPerc, 'Name': }   \n",
    "df_perc = pd.DataFrame(dict) \n",
    "df_perc"
   ]
  },
  {
   "cell_type": "code",
   "execution_count": 29,
   "metadata": {},
   "outputs": [
    {
     "data": {
      "text/plain": [
       "PdDistrict\n",
       "bayview       104001\n",
       "central       104608\n",
       "ingleside      91032\n",
       "mission       139486\n",
       "northern      128454\n",
       "park           58570\n",
       "richmond       54407\n",
       "southern      187745\n",
       "taraval        78714\n",
       "tenderloin     90745\n",
       "Name: PdDistrict, dtype: int64"
      ]
     },
     "execution_count": 29,
     "metadata": {},
     "output_type": "execute_result"
    }
   ],
   "source": [
    "incidents"
   ]
  },
  {
   "cell_type": "code",
   "execution_count": 58,
   "metadata": {},
   "outputs": [
    {
     "data": {
      "text/plain": [
       "['bayview',\n",
       " 'central',\n",
       " 'ingleside',\n",
       " 'mission',\n",
       " 'northern',\n",
       " 'park',\n",
       " 'richmond',\n",
       " 'southern',\n",
       " 'taraval',\n",
       " 'tenderloin']"
      ]
     },
     "execution_count": 58,
     "metadata": {},
     "output_type": "execute_result"
    }
   ],
   "source": [
    "list1=df_eviction['PdDistrict'].unique()\n",
    "list1=list(list1)\n",
    "list1=sorted(list1)\n",
    "list1"
   ]
  },
  {
   "cell_type": "code",
   "execution_count": 62,
   "metadata": {},
   "outputs": [
    {
     "data": {
      "text/html": [
       "<div>\n",
       "<style scoped>\n",
       "    .dataframe tbody tr th:only-of-type {\n",
       "        vertical-align: middle;\n",
       "    }\n",
       "\n",
       "    .dataframe tbody tr th {\n",
       "        vertical-align: top;\n",
       "    }\n",
       "\n",
       "    .dataframe thead th {\n",
       "        text-align: right;\n",
       "    }\n",
       "</style>\n",
       "<table border=\"1\" class=\"dataframe\">\n",
       "  <thead>\n",
       "    <tr style=\"text-align: right;\">\n",
       "      <th></th>\n",
       "      <th>Eviction</th>\n",
       "      <th>Incidents</th>\n",
       "    </tr>\n",
       "  </thead>\n",
       "  <tbody>\n",
       "    <tr>\n",
       "      <th>bayview</th>\n",
       "      <td>0.057151</td>\n",
       "      <td>0.100217</td>\n",
       "    </tr>\n",
       "    <tr>\n",
       "      <th>central</th>\n",
       "      <td>0.101342</td>\n",
       "      <td>0.100802</td>\n",
       "    </tr>\n",
       "    <tr>\n",
       "      <th>ingleside</th>\n",
       "      <td>0.137935</td>\n",
       "      <td>0.087720</td>\n",
       "    </tr>\n",
       "    <tr>\n",
       "      <th>mission</th>\n",
       "      <td>0.186928</td>\n",
       "      <td>0.134410</td>\n",
       "    </tr>\n",
       "    <tr>\n",
       "      <th>northern</th>\n",
       "      <td>0.116055</td>\n",
       "      <td>0.123780</td>\n",
       "    </tr>\n",
       "    <tr>\n",
       "      <th>park</th>\n",
       "      <td>0.062030</td>\n",
       "      <td>0.056439</td>\n",
       "    </tr>\n",
       "    <tr>\n",
       "      <th>richmond</th>\n",
       "      <td>0.093922</td>\n",
       "      <td>0.052427</td>\n",
       "    </tr>\n",
       "    <tr>\n",
       "      <th>southern</th>\n",
       "      <td>0.037686</td>\n",
       "      <td>0.180913</td>\n",
       "    </tr>\n",
       "    <tr>\n",
       "      <th>taraval</th>\n",
       "      <td>0.141340</td>\n",
       "      <td>0.075850</td>\n",
       "    </tr>\n",
       "    <tr>\n",
       "      <th>tenderloin</th>\n",
       "      <td>0.065613</td>\n",
       "      <td>0.087443</td>\n",
       "    </tr>\n",
       "  </tbody>\n",
       "</table>\n",
       "</div>"
      ],
      "text/plain": [
       "            Eviction  Incidents\n",
       "bayview     0.057151   0.100217\n",
       "central     0.101342   0.100802\n",
       "ingleside   0.137935   0.087720\n",
       "mission     0.186928   0.134410\n",
       "northern    0.116055   0.123780\n",
       "park        0.062030   0.056439\n",
       "richmond    0.093922   0.052427\n",
       "southern    0.037686   0.180913\n",
       "taraval     0.141340   0.075850\n",
       "tenderloin  0.065613   0.087443"
      ]
     },
     "execution_count": 62,
     "metadata": {},
     "output_type": "execute_result"
    }
   ],
   "source": [
    "df = pd.DataFrame({'Eviction': evPerc,'Incidents': incPerc}, index=list1)\n",
    "df"
   ]
  },
  {
   "cell_type": "code",
   "execution_count": 63,
   "metadata": {},
   "outputs": [
    {
     "data": {
      "image/png": "[encoded data removed]",
      "text/plain": [
       "<Figure size 432x288 with 1 Axes>"
      ]
     },
     "metadata": {},
     "output_type": "display_data"
    }
   ],
   "source": [
    "fig,ax=plt.subplots()\n",
    "plt.scatter(df['Eviction'], df['Incidents'])\n",
    "ax.legend()\n",
    "plt.show()"
   ]
  },
  {
   "cell_type": "code",
   "execution_count": 70,
   "metadata": {},
   "outputs": [
    {
     "data": {
      "image/png": "[encoded data removed]",
      "text/plain": [
       "<Figure size 432x288 with 1 Axes>"
      ]
     },
     "metadata": {},
     "output_type": "display_data"
    }
   ],
   "source": [
    "df.index.name = 'name'\n",
    "\n",
    "for name,row in df.iterrows():\n",
    "  plt.scatter(row['Eviction'],row['Incidents'], label=name)\n",
    "\n",
    "plt.xlabel('Eviction')\n",
    "plt.ylabel('Incidents')\n",
    "plt.legend()\n",
    "plt.show()"
   ]
  },
  {
   "cell_type": "code",
   "execution_count": 96,
   "metadata": {},
   "outputs": [
    {
     "name": "stdout",
     "output_type": "stream",
     "text": [
      "[[0.05715084]\n",
      " [0.10134174]\n",
      " [0.13793454]\n",
      " [0.18692824]\n",
      " [0.11605509]\n",
      " [0.06202988]\n",
      " [0.09392153]\n",
      " [0.03768551]\n",
      " [0.1413397 ]\n",
      " [0.06561293]]\n"
     ]
    }
   ],
   "source": [
    "from sklearn.model_selection import train_test_split \n",
    "from sklearn.linear_model import LinearRegression\n",
    "from sklearn import metrics\n",
    "\n",
    "X = df['Eviction'].values.reshape(-1,1)\n",
    "y = df['Incidents'].values.reshape(-1,1)\n",
    "print(X)\n",
    "\n",
    "X_train, X_test, y_train, y_test = train_test_split(X, y, test_size=0.2, random_state=0)"
   ]
  },
  {
   "cell_type": "code",
   "execution_count": 81,
   "metadata": {
    "scrolled": false
   },
   "outputs": [
    {
     "data": {
      "text/plain": [
       "LinearRegression(copy_X=True, fit_intercept=True, n_jobs=None, normalize=False)"
      ]
     },
     "execution_count": 81,
     "metadata": {},
     "output_type": "execute_result"
    }
   ],
   "source": [
    "regressor = LinearRegression()  \n",
    "regressor.fit(X_train, y_train) #training the algorithm"
   ]
  },
  {
   "cell_type": "code",
   "execution_count": 82,
   "metadata": {},
   "outputs": [
    {
     "data": {
      "text/plain": [
       "array([[0.10784075],\n",
       "       [0.10807469]])"
      ]
     },
     "execution_count": 82,
     "metadata": {},
     "output_type": "execute_result"
    }
   ],
   "source": [
    "y_pred = regressor.predict(X_test)\n",
    "y_pred"
   ]
  },
  {
   "cell_type": "code",
   "execution_count": 83,
   "metadata": {},
   "outputs": [],
   "source": [
    "y_pred = [y for x in y_pred for y in x]\n",
    "y_test = [y for x in y_test for y in x]\n",
    "X_test = [y for x in X_test for y in x]\n",
    "X_train = [y for x in X_train for y in x]\n",
    "y_train = [y for x in y_train for y in x]"
   ]
  },
  {
   "cell_type": "code",
   "execution_count": 84,
   "metadata": {},
   "outputs": [
    {
     "data": {
      "text/html": [
       "<div>\n",
       "<style scoped>\n",
       "    .dataframe tbody tr th:only-of-type {\n",
       "        vertical-align: middle;\n",
       "    }\n",
       "\n",
       "    .dataframe tbody tr th {\n",
       "        vertical-align: top;\n",
       "    }\n",
       "\n",
       "    .dataframe thead th {\n",
       "        text-align: right;\n",
       "    }\n",
       "</style>\n",
       "<table border=\"1\" class=\"dataframe\">\n",
       "  <thead>\n",
       "    <tr style=\"text-align: right;\">\n",
       "      <th></th>\n",
       "      <th>Actual</th>\n",
       "      <th>Predicted</th>\n",
       "    </tr>\n",
       "  </thead>\n",
       "  <tbody>\n",
       "    <tr>\n",
       "      <th>0</th>\n",
       "      <td>0.08772</td>\n",
       "      <td>0.107841</td>\n",
       "    </tr>\n",
       "    <tr>\n",
       "      <th>1</th>\n",
       "      <td>0.07585</td>\n",
       "      <td>0.108075</td>\n",
       "    </tr>\n",
       "  </tbody>\n",
       "</table>\n",
       "</div>"
      ],
      "text/plain": [
       "    Actual  Predicted\n",
       "0  0.08772   0.107841\n",
       "1  0.07585   0.108075"
      ]
     },
     "execution_count": 84,
     "metadata": {},
     "output_type": "execute_result"
    }
   ],
   "source": [
    "dict = {'Actual': y_test, 'Predicted': y_pred}   \n",
    "df_pred = pd.DataFrame(dict) \n",
    "df_pred"
   ]
  },
  {
   "cell_type": "code",
   "execution_count": 88,
   "metadata": {},
   "outputs": [
    {
     "data": {
      "image/png": "[encoded data removed]",
      "text/plain": [
       "<Figure size 432x288 with 1 Axes>"
      ]
     },
     "metadata": {},
     "output_type": "display_data"
    }
   ],
   "source": [
    "df.index.name = 'name'\n",
    "\n",
    "for name,row in df.iterrows():\n",
    "  plt.scatter(row['Eviction'],row['Incidents'], label=name)\n",
    "\n",
    "plt.plot(X_test, y_pred, color='blue', linewidth=3)\n",
    "plt.xlabel('Eviction')\n",
    "plt.ylabel('Incidents')\n",
    "plt.legend()\n",
    "plt.show()"
   ]
  },
  {
   "cell_type": "code",
   "execution_count": 91,
   "metadata": {},
   "outputs": [
    {
     "data": {
      "image/png": "[encoded data removed]",
      "text/plain": [
       "<Figure size 432x288 with 1 Axes>"
      ]
     },
     "metadata": {},
     "output_type": "display_data"
    }
   ],
   "source": [
    "plt.scatter(evPerc, incPerc,  color='black')\n",
    "plt.plot(y_test, y_pred, color='blue', linewidth=3)\n",
    "plt.show()"
   ]
  },
  {
   "cell_type": "code",
   "execution_count": 94,
   "metadata": {},
   "outputs": [
    {
     "ename": "TypeError",
     "evalue": "only integer scalar arrays can be converted to a scalar index",
     "output_type": "error",
     "traceback": [
      "\u001b[1;31m---------------------------------------------------------------------------\u001b[0m",
      "\u001b[1;31mTypeError\u001b[0m                                 Traceback (most recent call last)",
      "\u001b[1;32m<ipython-input-94-83d71ebe2d7e>\u001b[0m in \u001b[0;36m<module>\u001b[1;34m()\u001b[0m\n\u001b[1;32m----> 1\u001b[1;33m \u001b[0msns\u001b[0m\u001b[1;33m.\u001b[0m\u001b[0mregplot\u001b[0m\u001b[1;33m(\u001b[0m\u001b[0mx\u001b[0m \u001b[1;33m=\u001b[0m \u001b[0my_test\u001b[0m\u001b[1;33m,\u001b[0m \u001b[0my\u001b[0m\u001b[1;33m=\u001b[0m\u001b[0my_pred\u001b[0m\u001b[1;33m,\u001b[0m \u001b[0mdata\u001b[0m\u001b[1;33m=\u001b[0m\u001b[0mregressor\u001b[0m\u001b[1;33m,\u001b[0m \u001b[0mline_kws\u001b[0m\u001b[1;33m=\u001b[0m\u001b[1;33m{\u001b[0m\u001b[1;34m\"color\"\u001b[0m\u001b[1;33m:\u001b[0m\u001b[1;34m\"orange\"\u001b[0m\u001b[1;33m}\u001b[0m\u001b[1;33m)\u001b[0m\u001b[1;33m\u001b[0m\u001b[0m\n\u001b[0m",
      "\u001b[1;32mC:\\Program Files (x86)\\Microsoft Visual Studio\\Shared\\Anaconda3_64\\lib\\site-packages\\seaborn\\regression.py\u001b[0m in \u001b[0;36mregplot\u001b[1;34m(x, y, data, x_estimator, x_bins, x_ci, scatter, fit_reg, ci, n_boot, units, order, logistic, lowess, robust, logx, x_partial, y_partial, truncate, dropna, x_jitter, y_jitter, label, color, marker, scatter_kws, line_kws, ax)\u001b[0m\n\u001b[0;32m    780\u001b[0m                                  \u001b[0morder\u001b[0m\u001b[1;33m,\u001b[0m \u001b[0mlogistic\u001b[0m\u001b[1;33m,\u001b[0m \u001b[0mlowess\u001b[0m\u001b[1;33m,\u001b[0m \u001b[0mrobust\u001b[0m\u001b[1;33m,\u001b[0m \u001b[0mlogx\u001b[0m\u001b[1;33m,\u001b[0m\u001b[1;33m\u001b[0m\u001b[0m\n\u001b[0;32m    781\u001b[0m                                  \u001b[0mx_partial\u001b[0m\u001b[1;33m,\u001b[0m \u001b[0my_partial\u001b[0m\u001b[1;33m,\u001b[0m \u001b[0mtruncate\u001b[0m\u001b[1;33m,\u001b[0m \u001b[0mdropna\u001b[0m\u001b[1;33m,\u001b[0m\u001b[1;33m\u001b[0m\u001b[0m\n\u001b[1;32m--> 782\u001b[1;33m                                  x_jitter, y_jitter, color, label)\n\u001b[0m\u001b[0;32m    783\u001b[0m \u001b[1;33m\u001b[0m\u001b[0m\n\u001b[0;32m    784\u001b[0m     \u001b[1;32mif\u001b[0m \u001b[0max\u001b[0m \u001b[1;32mis\u001b[0m \u001b[1;32mNone\u001b[0m\u001b[1;33m:\u001b[0m\u001b[1;33m\u001b[0m\u001b[0m\n",
      "\u001b[1;32mC:\\Program Files (x86)\\Microsoft Visual Studio\\Shared\\Anaconda3_64\\lib\\site-packages\\seaborn\\regression.py\u001b[0m in \u001b[0;36m__init__\u001b[1;34m(self, x, y, data, x_estimator, x_bins, x_ci, scatter, fit_reg, ci, n_boot, units, order, logistic, lowess, robust, logx, x_partial, y_partial, truncate, dropna, x_jitter, y_jitter, color, label)\u001b[0m\n\u001b[0;32m    109\u001b[0m         \u001b[1;31m# Drop null observations\u001b[0m\u001b[1;33m\u001b[0m\u001b[1;33m\u001b[0m\u001b[0m\n\u001b[0;32m    110\u001b[0m         \u001b[1;32mif\u001b[0m \u001b[0mdropna\u001b[0m\u001b[1;33m:\u001b[0m\u001b[1;33m\u001b[0m\u001b[0m\n\u001b[1;32m--> 111\u001b[1;33m             \u001b[0mself\u001b[0m\u001b[1;33m.\u001b[0m\u001b[0mdropna\u001b[0m\u001b[1;33m(\u001b[0m\u001b[1;34m\"x\"\u001b[0m\u001b[1;33m,\u001b[0m \u001b[1;34m\"y\"\u001b[0m\u001b[1;33m,\u001b[0m \u001b[1;34m\"units\"\u001b[0m\u001b[1;33m,\u001b[0m \u001b[1;34m\"x_partial\"\u001b[0m\u001b[1;33m,\u001b[0m \u001b[1;34m\"y_partial\"\u001b[0m\u001b[1;33m)\u001b[0m\u001b[1;33m\u001b[0m\u001b[0m\n\u001b[0m\u001b[0;32m    112\u001b[0m \u001b[1;33m\u001b[0m\u001b[0m\n\u001b[0;32m    113\u001b[0m         \u001b[1;31m# Regress nuisance variables out of the data\u001b[0m\u001b[1;33m\u001b[0m\u001b[1;33m\u001b[0m\u001b[0m\n",
      "\u001b[1;32mC:\\Program Files (x86)\\Microsoft Visual Studio\\Shared\\Anaconda3_64\\lib\\site-packages\\seaborn\\regression.py\u001b[0m in \u001b[0;36mdropna\u001b[1;34m(self, *vars)\u001b[0m\n\u001b[0;32m     62\u001b[0m             \u001b[0mval\u001b[0m \u001b[1;33m=\u001b[0m \u001b[0mgetattr\u001b[0m\u001b[1;33m(\u001b[0m\u001b[0mself\u001b[0m\u001b[1;33m,\u001b[0m \u001b[0mvar\u001b[0m\u001b[1;33m)\u001b[0m\u001b[1;33m\u001b[0m\u001b[0m\n\u001b[0;32m     63\u001b[0m             \u001b[1;32mif\u001b[0m \u001b[0mval\u001b[0m \u001b[1;32mis\u001b[0m \u001b[1;32mnot\u001b[0m \u001b[1;32mNone\u001b[0m\u001b[1;33m:\u001b[0m\u001b[1;33m\u001b[0m\u001b[0m\n\u001b[1;32m---> 64\u001b[1;33m                 \u001b[0msetattr\u001b[0m\u001b[1;33m(\u001b[0m\u001b[0mself\u001b[0m\u001b[1;33m,\u001b[0m \u001b[0mvar\u001b[0m\u001b[1;33m,\u001b[0m \u001b[0mval\u001b[0m\u001b[1;33m[\u001b[0m\u001b[0mnot_na\u001b[0m\u001b[1;33m]\u001b[0m\u001b[1;33m)\u001b[0m\u001b[1;33m\u001b[0m\u001b[0m\n\u001b[0m\u001b[0;32m     65\u001b[0m \u001b[1;33m\u001b[0m\u001b[0m\n\u001b[0;32m     66\u001b[0m     \u001b[1;32mdef\u001b[0m \u001b[0mplot\u001b[0m\u001b[1;33m(\u001b[0m\u001b[0mself\u001b[0m\u001b[1;33m,\u001b[0m \u001b[0max\u001b[0m\u001b[1;33m)\u001b[0m\u001b[1;33m:\u001b[0m\u001b[1;33m\u001b[0m\u001b[0m\n",
      "\u001b[1;31mTypeError\u001b[0m: only integer scalar arrays can be converted to a scalar index"
     ]
    }
   ],
   "source": [
    "sns.regplot(x = y_test, y=y_pred, data=regressor, line_kws={\"color\":\"orange\"})"
   ]
  },
  {
   "cell_type": "code",
   "execution_count": 97,
   "metadata": {},
   "outputs": [
    {
     "name": "stdout",
     "output_type": "stream",
     "text": [
      "[[0.06870088]]\n"
     ]
    }
   ],
   "source": [
    "print(regressor.coef_)"
   ]
  },
  {
   "cell_type": "code",
   "execution_count": null,
   "metadata": {},
   "outputs": [],
   "source": []
  }
 ],
 "metadata": {
  "kernelspec": {
   "display_name": "Python 3",
   "language": "python",
   "name": "python3"
  },
  "language_info": {
   "codemirror_mode": {
    "name": "ipython",
    "version": 3
   },
   "file_extension": ".py",
   "mimetype": "text/x-python",
   "name": "python",
   "nbconvert_exporter": "python",
   "pygments_lexer": "ipython3",
   "version": "3.6.5"
  }
 },
 "nbformat": 4,
 "nbformat_minor": 2
}
