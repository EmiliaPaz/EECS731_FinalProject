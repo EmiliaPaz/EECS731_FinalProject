{
 "cells": [
  {
   "cell_type": "markdown",
   "metadata": {},
   "source": [
    "# Regression"
   ]
  },
  {
   "cell_type": "code",
   "execution_count": 1,
   "metadata": {},
   "outputs": [],
   "source": [
    "import pandas as pd \n",
    "import numpy as np"
   ]
  },
  {
   "cell_type": "markdown",
   "metadata": {},
   "source": [
    "## 1. Import Data"
   ]
  },
  {
   "cell_type": "code",
   "execution_count": 2,
   "metadata": {},
   "outputs": [],
   "source": [
    "df_eviction = pd.read_csv('../data/processed/Eviction.csv')\n",
    "df_incidents = pd.read_csv('../data/processed/incidents.csv')"
   ]
  },
  {
   "cell_type": "code",
   "execution_count": 3,
   "metadata": {},
   "outputs": [
    {
     "data": {
      "text/html": [
       "<div>\n",
       "<style scoped>\n",
       "    .dataframe tbody tr th:only-of-type {\n",
       "        vertical-align: middle;\n",
       "    }\n",
       "\n",
       "    .dataframe tbody tr th {\n",
       "        vertical-align: top;\n",
       "    }\n",
       "\n",
       "    .dataframe thead th {\n",
       "        text-align: right;\n",
       "    }\n",
       "</style>\n",
       "<table border=\"1\" class=\"dataframe\">\n",
       "  <thead>\n",
       "    <tr style=\"text-align: right;\">\n",
       "      <th></th>\n",
       "      <th>EvictionID</th>\n",
       "      <th>Address</th>\n",
       "      <th>City</th>\n",
       "      <th>State</th>\n",
       "      <th>Zipcode</th>\n",
       "      <th>Date</th>\n",
       "      <th>Nonpayment</th>\n",
       "      <th>Breach</th>\n",
       "      <th>Nuisance</th>\n",
       "      <th>IllegalUse</th>\n",
       "      <th>...</th>\n",
       "      <th>Development</th>\n",
       "      <th>GoodSamaritanEnds</th>\n",
       "      <th>SupervisorDistrict</th>\n",
       "      <th>Neighborhoods</th>\n",
       "      <th>Location</th>\n",
       "      <th>X</th>\n",
       "      <th>Y</th>\n",
       "      <th>Day</th>\n",
       "      <th>Month</th>\n",
       "      <th>Year</th>\n",
       "    </tr>\n",
       "  </thead>\n",
       "  <tbody>\n",
       "    <tr>\n",
       "      <th>0</th>\n",
       "      <td>m192806</td>\n",
       "      <td>700 block of kearny  street</td>\n",
       "      <td>san francisco</td>\n",
       "      <td>ca</td>\n",
       "      <td>94111</td>\n",
       "      <td>2019-10-18</td>\n",
       "      <td>False</td>\n",
       "      <td>True</td>\n",
       "      <td>False</td>\n",
       "      <td>False</td>\n",
       "      <td>...</td>\n",
       "      <td>False</td>\n",
       "      <td>False</td>\n",
       "      <td>3.0</td>\n",
       "      <td>chinatown</td>\n",
       "      <td>-122.40476763634015 37.79466465355738</td>\n",
       "      <td>-122.404768</td>\n",
       "      <td>37.794665</td>\n",
       "      <td>18</td>\n",
       "      <td>10</td>\n",
       "      <td>2019</td>\n",
       "    </tr>\n",
       "    <tr>\n",
       "      <th>1</th>\n",
       "      <td>m192020</td>\n",
       "      <td>400 block of 35th  avenue</td>\n",
       "      <td>san francisco</td>\n",
       "      <td>ca</td>\n",
       "      <td>94121</td>\n",
       "      <td>2019-08-16</td>\n",
       "      <td>False</td>\n",
       "      <td>False</td>\n",
       "      <td>False</td>\n",
       "      <td>False</td>\n",
       "      <td>...</td>\n",
       "      <td>False</td>\n",
       "      <td>False</td>\n",
       "      <td>1.0</td>\n",
       "      <td>outer richmond</td>\n",
       "      <td>-122.4954513144922 37.780562090999126</td>\n",
       "      <td>-122.495451</td>\n",
       "      <td>37.780562</td>\n",
       "      <td>16</td>\n",
       "      <td>8</td>\n",
       "      <td>2019</td>\n",
       "    </tr>\n",
       "    <tr>\n",
       "      <th>2</th>\n",
       "      <td>m192145</td>\n",
       "      <td>200 block of font  boulevard</td>\n",
       "      <td>san francisco</td>\n",
       "      <td>ca</td>\n",
       "      <td>94132</td>\n",
       "      <td>2019-08-28</td>\n",
       "      <td>False</td>\n",
       "      <td>True</td>\n",
       "      <td>False</td>\n",
       "      <td>False</td>\n",
       "      <td>...</td>\n",
       "      <td>False</td>\n",
       "      <td>False</td>\n",
       "      <td>7.0</td>\n",
       "      <td>lakeshore</td>\n",
       "      <td>-122.47509247803765 37.71643640083831</td>\n",
       "      <td>-122.475092</td>\n",
       "      <td>37.716436</td>\n",
       "      <td>28</td>\n",
       "      <td>8</td>\n",
       "      <td>2019</td>\n",
       "    </tr>\n",
       "    <tr>\n",
       "      <th>3</th>\n",
       "      <td>m191890</td>\n",
       "      <td>0 block of levant  street</td>\n",
       "      <td>san francisco</td>\n",
       "      <td>ca</td>\n",
       "      <td>94114</td>\n",
       "      <td>2019-08-02</td>\n",
       "      <td>False</td>\n",
       "      <td>False</td>\n",
       "      <td>False</td>\n",
       "      <td>False</td>\n",
       "      <td>...</td>\n",
       "      <td>False</td>\n",
       "      <td>False</td>\n",
       "      <td>8.0</td>\n",
       "      <td>castro/upper market</td>\n",
       "      <td>-122.44212894562347 37.764255519062026</td>\n",
       "      <td>-122.442129</td>\n",
       "      <td>37.764256</td>\n",
       "      <td>2</td>\n",
       "      <td>8</td>\n",
       "      <td>2019</td>\n",
       "    </tr>\n",
       "    <tr>\n",
       "      <th>4</th>\n",
       "      <td>m192140</td>\n",
       "      <td>0 block of bucareli  drive</td>\n",
       "      <td>san francisco</td>\n",
       "      <td>ca</td>\n",
       "      <td>94132</td>\n",
       "      <td>2019-08-28</td>\n",
       "      <td>False</td>\n",
       "      <td>True</td>\n",
       "      <td>False</td>\n",
       "      <td>False</td>\n",
       "      <td>...</td>\n",
       "      <td>False</td>\n",
       "      <td>False</td>\n",
       "      <td>7.0</td>\n",
       "      <td>lakeshore</td>\n",
       "      <td>-122.4793742747656 37.71746280191635</td>\n",
       "      <td>-122.479374</td>\n",
       "      <td>37.717463</td>\n",
       "      <td>28</td>\n",
       "      <td>8</td>\n",
       "      <td>2019</td>\n",
       "    </tr>\n",
       "  </tbody>\n",
       "</table>\n",
       "<p>5 rows × 33 columns</p>\n",
       "</div>"
      ],
      "text/plain": [
       "  EvictionID                       Address           City State  Zipcode  \\\n",
       "0    m192806   700 block of kearny  street  san francisco    ca    94111   \n",
       "1    m192020     400 block of 35th  avenue  san francisco    ca    94121   \n",
       "2    m192145  200 block of font  boulevard  san francisco    ca    94132   \n",
       "3    m191890     0 block of levant  street  san francisco    ca    94114   \n",
       "4    m192140    0 block of bucareli  drive  san francisco    ca    94132   \n",
       "\n",
       "         Date  Nonpayment  Breach  Nuisance  IllegalUse  ...   Development  \\\n",
       "0  2019-10-18       False    True     False       False  ...         False   \n",
       "1  2019-08-16       False   False     False       False  ...         False   \n",
       "2  2019-08-28       False    True     False       False  ...         False   \n",
       "3  2019-08-02       False   False     False       False  ...         False   \n",
       "4  2019-08-28       False    True     False       False  ...         False   \n",
       "\n",
       "   GoodSamaritanEnds  SupervisorDistrict        Neighborhoods  \\\n",
       "0              False                 3.0            chinatown   \n",
       "1              False                 1.0       outer richmond   \n",
       "2              False                 7.0            lakeshore   \n",
       "3              False                 8.0  castro/upper market   \n",
       "4              False                 7.0            lakeshore   \n",
       "\n",
       "                                 Location           X          Y  Day  Month  \\\n",
       "0   -122.40476763634015 37.79466465355738 -122.404768  37.794665   18     10   \n",
       "1   -122.4954513144922 37.780562090999126 -122.495451  37.780562   16      8   \n",
       "2   -122.47509247803765 37.71643640083831 -122.475092  37.716436   28      8   \n",
       "3  -122.44212894562347 37.764255519062026 -122.442129  37.764256    2      8   \n",
       "4    -122.4793742747656 37.71746280191635 -122.479374  37.717463   28      8   \n",
       "\n",
       "   Year  \n",
       "0  2019  \n",
       "1  2019  \n",
       "2  2019  \n",
       "3  2019  \n",
       "4  2019  \n",
       "\n",
       "[5 rows x 33 columns]"
      ]
     },
     "execution_count": 3,
     "metadata": {},
     "output_type": "execute_result"
    }
   ],
   "source": [
    "df_eviction.head()"
   ]
  },
  {
   "cell_type": "code",
   "execution_count": 4,
   "metadata": {},
   "outputs": [
    {
     "data": {
      "text/html": [
       "<div>\n",
       "<style scoped>\n",
       "    .dataframe tbody tr th:only-of-type {\n",
       "        vertical-align: middle;\n",
       "    }\n",
       "\n",
       "    .dataframe tbody tr th {\n",
       "        vertical-align: top;\n",
       "    }\n",
       "\n",
       "    .dataframe thead th {\n",
       "        text-align: right;\n",
       "    }\n",
       "</style>\n",
       "<table border=\"1\" class=\"dataframe\">\n",
       "  <thead>\n",
       "    <tr style=\"text-align: right;\">\n",
       "      <th></th>\n",
       "      <th>Unnamed: 0</th>\n",
       "      <th>IncidentNum</th>\n",
       "      <th>Category</th>\n",
       "      <th>Description</th>\n",
       "      <th>DayOfWeek</th>\n",
       "      <th>Date</th>\n",
       "      <th>Time</th>\n",
       "      <th>PdDistrict</th>\n",
       "      <th>Resolution</th>\n",
       "      <th>Address</th>\n",
       "      <th>X</th>\n",
       "      <th>Y</th>\n",
       "      <th>Location</th>\n",
       "      <th>PdId</th>\n",
       "      <th>Year</th>\n",
       "      <th>Month</th>\n",
       "      <th>Day</th>\n",
       "    </tr>\n",
       "  </thead>\n",
       "  <tbody>\n",
       "    <tr>\n",
       "      <th>0</th>\n",
       "      <td>0</td>\n",
       "      <td>110308742</td>\n",
       "      <td>missing person</td>\n",
       "      <td>found person</td>\n",
       "      <td>friday</td>\n",
       "      <td>2011-04-15</td>\n",
       "      <td>16:00:00</td>\n",
       "      <td>taraval</td>\n",
       "      <td>located</td>\n",
       "      <td>0 block of crespi dr</td>\n",
       "      <td>-122.476328</td>\n",
       "      <td>37.719687</td>\n",
       "      <td>point (-122.476327815126 37.7196874952717)</td>\n",
       "      <td>1.103087e+13</td>\n",
       "      <td>2011.0</td>\n",
       "      <td>4.0</td>\n",
       "      <td>15.0</td>\n",
       "    </tr>\n",
       "    <tr>\n",
       "      <th>1</th>\n",
       "      <td>1</td>\n",
       "      <td>90316914</td>\n",
       "      <td>warrants</td>\n",
       "      <td>warrant arrest</td>\n",
       "      <td>thursday</td>\n",
       "      <td>2009-03-26</td>\n",
       "      <td>12:28:00</td>\n",
       "      <td>southern</td>\n",
       "      <td>arrest, booked</td>\n",
       "      <td>1000 block of market st</td>\n",
       "      <td>-122.411340</td>\n",
       "      <td>37.781271</td>\n",
       "      <td>point (-122.411339562557 37.7812707434494)</td>\n",
       "      <td>9.031691e+12</td>\n",
       "      <td>2009.0</td>\n",
       "      <td>3.0</td>\n",
       "      <td>26.0</td>\n",
       "    </tr>\n",
       "    <tr>\n",
       "      <th>2</th>\n",
       "      <td>2</td>\n",
       "      <td>130132311</td>\n",
       "      <td>secondary codes</td>\n",
       "      <td>domestic violence</td>\n",
       "      <td>friday</td>\n",
       "      <td>2013-02-15</td>\n",
       "      <td>02:00:00</td>\n",
       "      <td>park</td>\n",
       "      <td>arrest, booked</td>\n",
       "      <td>castro st / market st</td>\n",
       "      <td>-122.435188</td>\n",
       "      <td>37.762670</td>\n",
       "      <td>point (-122.435187699349 37.7626702770872)</td>\n",
       "      <td>1.301323e+13</td>\n",
       "      <td>2013.0</td>\n",
       "      <td>2.0</td>\n",
       "      <td>15.0</td>\n",
       "    </tr>\n",
       "    <tr>\n",
       "      <th>3</th>\n",
       "      <td>3</td>\n",
       "      <td>80052833</td>\n",
       "      <td>other offenses</td>\n",
       "      <td>drivers license, suspended or revoked</td>\n",
       "      <td>tuesday</td>\n",
       "      <td>2008-01-15</td>\n",
       "      <td>20:13:00</td>\n",
       "      <td>mission</td>\n",
       "      <td>arrest, cited</td>\n",
       "      <td>valencia st / 16th st</td>\n",
       "      <td>-122.421886</td>\n",
       "      <td>37.764918</td>\n",
       "      <td>point (-122.421886357981 37.7649178909424)</td>\n",
       "      <td>8.005283e+12</td>\n",
       "      <td>2008.0</td>\n",
       "      <td>1.0</td>\n",
       "      <td>15.0</td>\n",
       "    </tr>\n",
       "    <tr>\n",
       "      <th>4</th>\n",
       "      <td>4</td>\n",
       "      <td>70535770</td>\n",
       "      <td>secondary codes</td>\n",
       "      <td>domestic violence</td>\n",
       "      <td>saturday</td>\n",
       "      <td>2007-05-26</td>\n",
       "      <td>18:10:00</td>\n",
       "      <td>mission</td>\n",
       "      <td>arrest, booked</td>\n",
       "      <td>2800 block of folsom st</td>\n",
       "      <td>-122.413935</td>\n",
       "      <td>37.751693</td>\n",
       "      <td>point (-122.413935404044 37.7516932889916)</td>\n",
       "      <td>7.053577e+12</td>\n",
       "      <td>2007.0</td>\n",
       "      <td>5.0</td>\n",
       "      <td>26.0</td>\n",
       "    </tr>\n",
       "  </tbody>\n",
       "</table>\n",
       "</div>"
      ],
      "text/plain": [
       "   Unnamed: 0  IncidentNum         Category  \\\n",
       "0           0    110308742   missing person   \n",
       "1           1     90316914         warrants   \n",
       "2           2    130132311  secondary codes   \n",
       "3           3     80052833   other offenses   \n",
       "4           4     70535770  secondary codes   \n",
       "\n",
       "                             Description DayOfWeek        Date      Time  \\\n",
       "0                           found person    friday  2011-04-15  16:00:00   \n",
       "1                         warrant arrest  thursday  2009-03-26  12:28:00   \n",
       "2                      domestic violence    friday  2013-02-15  02:00:00   \n",
       "3  drivers license, suspended or revoked   tuesday  2008-01-15  20:13:00   \n",
       "4                      domestic violence  saturday  2007-05-26  18:10:00   \n",
       "\n",
       "  PdDistrict      Resolution                  Address           X          Y  \\\n",
       "0    taraval         located     0 block of crespi dr -122.476328  37.719687   \n",
       "1   southern  arrest, booked  1000 block of market st -122.411340  37.781271   \n",
       "2       park  arrest, booked    castro st / market st -122.435188  37.762670   \n",
       "3    mission   arrest, cited    valencia st / 16th st -122.421886  37.764918   \n",
       "4    mission  arrest, booked  2800 block of folsom st -122.413935  37.751693   \n",
       "\n",
       "                                     Location          PdId    Year  Month  \\\n",
       "0  point (-122.476327815126 37.7196874952717)  1.103087e+13  2011.0    4.0   \n",
       "1  point (-122.411339562557 37.7812707434494)  9.031691e+12  2009.0    3.0   \n",
       "2  point (-122.435187699349 37.7626702770872)  1.301323e+13  2013.0    2.0   \n",
       "3  point (-122.421886357981 37.7649178909424)  8.005283e+12  2008.0    1.0   \n",
       "4  point (-122.413935404044 37.7516932889916)  7.053577e+12  2007.0    5.0   \n",
       "\n",
       "    Day  \n",
       "0  15.0  \n",
       "1  26.0  \n",
       "2  15.0  \n",
       "3  15.0  \n",
       "4  26.0  "
      ]
     },
     "execution_count": 4,
     "metadata": {},
     "output_type": "execute_result"
    }
   ],
   "source": [
    "df_incidents.head()"
   ]
  },
  {
   "cell_type": "code",
   "execution_count": 5,
   "metadata": {},
   "outputs": [
    {
     "data": {
      "text/plain": [
       "PdDistrict\n",
       "bayview       104001\n",
       "central       104608\n",
       "ingleside      91032\n",
       "mission       139486\n",
       "northern      128454\n",
       "park           58570\n",
       "richmond       54407\n",
       "southern      187745\n",
       "taraval        78714\n",
       "tenderloin     90745\n",
       "Name: IncidentNum, dtype: int64"
      ]
     },
     "execution_count": 5,
     "metadata": {},
     "output_type": "execute_result"
    }
   ],
   "source": [
    "districts = df_incidents.groupby(['PdDistrict']).IncidentNum.count()\n",
    "districts"
   ]
  },
  {
   "cell_type": "code",
   "execution_count": 6,
   "metadata": {},
   "outputs": [
    {
     "data": {
      "text/html": [
       "<div>\n",
       "<style scoped>\n",
       "    .dataframe tbody tr th:only-of-type {\n",
       "        vertical-align: middle;\n",
       "    }\n",
       "\n",
       "    .dataframe tbody tr th {\n",
       "        vertical-align: top;\n",
       "    }\n",
       "\n",
       "    .dataframe thead th {\n",
       "        text-align: right;\n",
       "    }\n",
       "</style>\n",
       "<table border=\"1\" class=\"dataframe\">\n",
       "  <thead>\n",
       "    <tr style=\"text-align: right;\">\n",
       "      <th></th>\n",
       "      <th>EvictionID</th>\n",
       "      <th>Address</th>\n",
       "      <th>City</th>\n",
       "      <th>State</th>\n",
       "      <th>Zipcode</th>\n",
       "      <th>Date</th>\n",
       "      <th>Nonpayment</th>\n",
       "      <th>Breach</th>\n",
       "      <th>Nuisance</th>\n",
       "      <th>IllegalUse</th>\n",
       "      <th>...</th>\n",
       "      <th>GoodSamaritanEnds</th>\n",
       "      <th>SupervisorDistrict</th>\n",
       "      <th>Neighborhoods</th>\n",
       "      <th>Location</th>\n",
       "      <th>X</th>\n",
       "      <th>Y</th>\n",
       "      <th>Day</th>\n",
       "      <th>Month</th>\n",
       "      <th>Year</th>\n",
       "      <th>PdDistrict</th>\n",
       "    </tr>\n",
       "  </thead>\n",
       "  <tbody>\n",
       "    <tr>\n",
       "      <th>0</th>\n",
       "      <td>m192806</td>\n",
       "      <td>700 block of kearny  street</td>\n",
       "      <td>san francisco</td>\n",
       "      <td>ca</td>\n",
       "      <td>94111</td>\n",
       "      <td>2019-10-18</td>\n",
       "      <td>False</td>\n",
       "      <td>True</td>\n",
       "      <td>False</td>\n",
       "      <td>False</td>\n",
       "      <td>...</td>\n",
       "      <td>False</td>\n",
       "      <td>3.0</td>\n",
       "      <td>chinatown</td>\n",
       "      <td>-122.40476763634015 37.79466465355738</td>\n",
       "      <td>-122.404768</td>\n",
       "      <td>37.794665</td>\n",
       "      <td>18</td>\n",
       "      <td>10</td>\n",
       "      <td>2019</td>\n",
       "      <td>central</td>\n",
       "    </tr>\n",
       "    <tr>\n",
       "      <th>1</th>\n",
       "      <td>m192020</td>\n",
       "      <td>400 block of 35th  avenue</td>\n",
       "      <td>san francisco</td>\n",
       "      <td>ca</td>\n",
       "      <td>94121</td>\n",
       "      <td>2019-08-16</td>\n",
       "      <td>False</td>\n",
       "      <td>False</td>\n",
       "      <td>False</td>\n",
       "      <td>False</td>\n",
       "      <td>...</td>\n",
       "      <td>False</td>\n",
       "      <td>1.0</td>\n",
       "      <td>outer richmond</td>\n",
       "      <td>-122.4954513144922 37.780562090999126</td>\n",
       "      <td>-122.495451</td>\n",
       "      <td>37.780562</td>\n",
       "      <td>16</td>\n",
       "      <td>8</td>\n",
       "      <td>2019</td>\n",
       "      <td>richmond</td>\n",
       "    </tr>\n",
       "    <tr>\n",
       "      <th>2</th>\n",
       "      <td>m192145</td>\n",
       "      <td>200 block of font  boulevard</td>\n",
       "      <td>san francisco</td>\n",
       "      <td>ca</td>\n",
       "      <td>94132</td>\n",
       "      <td>2019-08-28</td>\n",
       "      <td>False</td>\n",
       "      <td>True</td>\n",
       "      <td>False</td>\n",
       "      <td>False</td>\n",
       "      <td>...</td>\n",
       "      <td>False</td>\n",
       "      <td>7.0</td>\n",
       "      <td>lakeshore</td>\n",
       "      <td>-122.47509247803765 37.71643640083831</td>\n",
       "      <td>-122.475092</td>\n",
       "      <td>37.716436</td>\n",
       "      <td>28</td>\n",
       "      <td>8</td>\n",
       "      <td>2019</td>\n",
       "      <td>taraval</td>\n",
       "    </tr>\n",
       "    <tr>\n",
       "      <th>3</th>\n",
       "      <td>m191890</td>\n",
       "      <td>0 block of levant  street</td>\n",
       "      <td>san francisco</td>\n",
       "      <td>ca</td>\n",
       "      <td>94114</td>\n",
       "      <td>2019-08-02</td>\n",
       "      <td>False</td>\n",
       "      <td>False</td>\n",
       "      <td>False</td>\n",
       "      <td>False</td>\n",
       "      <td>...</td>\n",
       "      <td>False</td>\n",
       "      <td>8.0</td>\n",
       "      <td>castro/upper market</td>\n",
       "      <td>-122.44212894562347 37.764255519062026</td>\n",
       "      <td>-122.442129</td>\n",
       "      <td>37.764256</td>\n",
       "      <td>2</td>\n",
       "      <td>8</td>\n",
       "      <td>2019</td>\n",
       "      <td>mission</td>\n",
       "    </tr>\n",
       "    <tr>\n",
       "      <th>4</th>\n",
       "      <td>m192140</td>\n",
       "      <td>0 block of bucareli  drive</td>\n",
       "      <td>san francisco</td>\n",
       "      <td>ca</td>\n",
       "      <td>94132</td>\n",
       "      <td>2019-08-28</td>\n",
       "      <td>False</td>\n",
       "      <td>True</td>\n",
       "      <td>False</td>\n",
       "      <td>False</td>\n",
       "      <td>...</td>\n",
       "      <td>False</td>\n",
       "      <td>7.0</td>\n",
       "      <td>lakeshore</td>\n",
       "      <td>-122.4793742747656 37.71746280191635</td>\n",
       "      <td>-122.479374</td>\n",
       "      <td>37.717463</td>\n",
       "      <td>28</td>\n",
       "      <td>8</td>\n",
       "      <td>2019</td>\n",
       "      <td>taraval</td>\n",
       "    </tr>\n",
       "  </tbody>\n",
       "</table>\n",
       "<p>5 rows × 34 columns</p>\n",
       "</div>"
      ],
      "text/plain": [
       "  EvictionID                       Address           City State  Zipcode  \\\n",
       "0    m192806   700 block of kearny  street  san francisco    ca    94111   \n",
       "1    m192020     400 block of 35th  avenue  san francisco    ca    94121   \n",
       "2    m192145  200 block of font  boulevard  san francisco    ca    94132   \n",
       "3    m191890     0 block of levant  street  san francisco    ca    94114   \n",
       "4    m192140    0 block of bucareli  drive  san francisco    ca    94132   \n",
       "\n",
       "         Date  Nonpayment  Breach  Nuisance  IllegalUse     ...      \\\n",
       "0  2019-10-18       False    True     False       False     ...       \n",
       "1  2019-08-16       False   False     False       False     ...       \n",
       "2  2019-08-28       False    True     False       False     ...       \n",
       "3  2019-08-02       False   False     False       False     ...       \n",
       "4  2019-08-28       False    True     False       False     ...       \n",
       "\n",
       "   GoodSamaritanEnds  SupervisorDistrict        Neighborhoods  \\\n",
       "0              False                 3.0            chinatown   \n",
       "1              False                 1.0       outer richmond   \n",
       "2              False                 7.0            lakeshore   \n",
       "3              False                 8.0  castro/upper market   \n",
       "4              False                 7.0            lakeshore   \n",
       "\n",
       "                                 Location           X          Y  Day  Month  \\\n",
       "0   -122.40476763634015 37.79466465355738 -122.404768  37.794665   18     10   \n",
       "1   -122.4954513144922 37.780562090999126 -122.495451  37.780562   16      8   \n",
       "2   -122.47509247803765 37.71643640083831 -122.475092  37.716436   28      8   \n",
       "3  -122.44212894562347 37.764255519062026 -122.442129  37.764256    2      8   \n",
       "4    -122.4793742747656 37.71746280191635 -122.479374  37.717463   28      8   \n",
       "\n",
       "   Year  PdDistrict  \n",
       "0  2019     central  \n",
       "1  2019    richmond  \n",
       "2  2019     taraval  \n",
       "3  2019     mission  \n",
       "4  2019     taraval  \n",
       "\n",
       "[5 rows x 34 columns]"
      ]
     },
     "execution_count": 6,
     "metadata": {},
     "output_type": "execute_result"
    }
   ],
   "source": [
    "ngbh_dist = {\n",
    "    'bayview hunters point': 'bayview',\n",
    "    'bernal heights': 'ingleside',\n",
    "    'castro/upper market': 'mission',\n",
    "    'chinatown': 'central',\n",
    "    'excelsior': 'ingleside',\n",
    "    'financial district/south beach': 'central',\n",
    "    'glen park': 'ingleside',\n",
    "    'golden gate park': 'richmond',\n",
    "    'haight ashbury': 'park',\n",
    "    'hayes valley': 'northern',\n",
    "    'inner richmond': 'richmond',\n",
    "    'inner sunset': 'taraval',\n",
    "    'japantown': 'northern',\n",
    "    'lakeshore': 'taraval',\n",
    "    'lincoln park': 'richmond',\n",
    "    'lone mountain/usf': 'park',\n",
    "    'marina': 'northern',\n",
    "    'mclaren park': 'ingleside',\n",
    "    'mission' : 'mission',\n",
    "    'mission bay': 'bayview',\n",
    "    'nob hill': 'central',\n",
    "    'noe valley': 'mission',\n",
    "    'north beach': 'central',\n",
    "    'oceanview/merced/ingleside': 'ingleside',\n",
    "    'outer mission': 'ingleside',\n",
    "    'outer richmond': 'richmond',\n",
    "    'pacific heights': 'northern',\n",
    "    'portola': 'bayview',\n",
    "    'potrero hill': 'bayview',\n",
    "    'presidio': 'richmond',\n",
    "    'presidio heights': 'richmond',\n",
    "    'russian hill': 'central',\n",
    "    'seacliff': 'richmond',\n",
    "    'south of market': 'southern',\n",
    "    'sunset/parkside': 'taraval',\n",
    "    'tenderloin': 'tenderloin',\n",
    "    'treasure island': 'southern',\n",
    "    'twin peaks': 'park',\n",
    "    'visitacion valley': 'ingleside',\n",
    "    'west of twin peaks': 'ingleside',\n",
    "    'western addition': 'northern'\n",
    "}\n",
    "df_eviction[\"PdDistrict\"] = df_eviction[\"Neighborhoods\"].apply(lambda x: ngbh_dist.get(x))\n",
    "df_eviction.head()"
   ]
  },
  {
   "cell_type": "code",
   "execution_count": 7,
   "metadata": {},
   "outputs": [
    {
     "data": {
      "text/plain": [
       "PdDistrict\n",
       "bayview       2249\n",
       "central       3988\n",
       "ingleside     5428\n",
       "mission       7356\n",
       "northern      4567\n",
       "park          2441\n",
       "richmond      3696\n",
       "southern      1483\n",
       "taraval       5562\n",
       "tenderloin    2582\n",
       "Name: PdDistrict, dtype: int64"
      ]
     },
     "execution_count": 7,
     "metadata": {},
     "output_type": "execute_result"
    }
   ],
   "source": [
    "evictions=df_eviction.groupby('PdDistrict').PdDistrict.count()\n",
    "evictions"
   ]
  },
  {
   "cell_type": "code",
   "execution_count": 8,
   "metadata": {
    "scrolled": true
   },
   "outputs": [
    {
     "data": {
      "text/plain": [
       "PdDistrict\n",
       "bayview       104001\n",
       "central       104608\n",
       "ingleside      91032\n",
       "mission       139486\n",
       "northern      128454\n",
       "park           58570\n",
       "richmond       54407\n",
       "southern      187745\n",
       "taraval        78714\n",
       "tenderloin     90745\n",
       "Name: PdDistrict, dtype: int64"
      ]
     },
     "execution_count": 8,
     "metadata": {},
     "output_type": "execute_result"
    }
   ],
   "source": [
    "incidents=df_incidents.groupby('PdDistrict').PdDistrict.count()\n",
    "incidents"
   ]
  },
  {
   "cell_type": "code",
   "execution_count": 9,
   "metadata": {},
   "outputs": [
    {
     "data": {
      "text/plain": [
       "[0.05715084366741208,\n",
       " 0.1013417361252287,\n",
       " 0.137934539540557,\n",
       " 0.1869282374466355,\n",
       " 0.1160550924984753,\n",
       " 0.06202988412278918,\n",
       " 0.09392152876600936,\n",
       " 0.037685505183980485,\n",
       " 0.14133970319170563,\n",
       " 0.06561292945720675]"
      ]
     },
     "execution_count": 9,
     "metadata": {},
     "output_type": "execute_result"
    }
   ],
   "source": [
    "evList=[]\n",
    "for x in range(0, len(evictions)):\n",
    "    evList.append(evictions[x])\n",
    "evtotal=sum(evList)\n",
    "evPerc=[]\n",
    "for x in evList:\n",
    "    evPerc.append(x/evtotal)\n",
    "evPerc"
   ]
  },
  {
   "cell_type": "code",
   "execution_count": 10,
   "metadata": {},
   "outputs": [
    {
     "data": {
      "text/plain": [
       "[0.10021661999572157,\n",
       " 0.10080153252865301,\n",
       " 0.08771953492226542,\n",
       " 0.13441039467623597,\n",
       " 0.12377982620292514,\n",
       " 0.05643875956144087,\n",
       " 0.0524272424698534,\n",
       " 0.18091335007448722,\n",
       " 0.07584976131328763,\n",
       " 0.08744297825512978]"
      ]
     },
     "execution_count": 10,
     "metadata": {},
     "output_type": "execute_result"
    }
   ],
   "source": [
    "incList=[]\n",
    "for x in range(0, len(incidents)):\n",
    "    incList.append(incidents[x])\n",
    "inctotal=sum(incList)\n",
    "incPerc=[]\n",
    "for x in incList:\n",
    "    incPerc.append(x/inctotal)\n",
    "incPerc"
   ]
  },
  {
   "cell_type": "code",
   "execution_count": 11,
   "metadata": {},
   "outputs": [
    {
     "data": {
      "text/plain": [
       "<Figure size 640x480 with 1 Axes>"
      ]
     },
     "metadata": {},
     "output_type": "display_data"
    }
   ],
   "source": [
    "import matplotlib.pyplot as plt\n",
    "import seaborn as sns\n",
    "\n",
    "sns.set_style(\"darkgrid\", {\"axes.facecolor\": \".9\"})\n",
    "\n",
    "plt.scatter(evPerc, incPerc)\n",
    "plt.show()"
   ]
  },
  {
   "cell_type": "code",
   "execution_count": 12,
   "metadata": {},
   "outputs": [
    {
     "data": {
      "text/html": [
       "<div>\n",
       "<style scoped>\n",
       "    .dataframe tbody tr th:only-of-type {\n",
       "        vertical-align: middle;\n",
       "    }\n",
       "\n",
       "    .dataframe tbody tr th {\n",
       "        vertical-align: top;\n",
       "    }\n",
       "\n",
       "    .dataframe thead th {\n",
       "        text-align: right;\n",
       "    }\n",
       "</style>\n",
       "<table border=\"1\" class=\"dataframe\">\n",
       "  <thead>\n",
       "    <tr style=\"text-align: right;\">\n",
       "      <th></th>\n",
       "      <th>Evictions</th>\n",
       "      <th>Indicents</th>\n",
       "    </tr>\n",
       "  </thead>\n",
       "  <tbody>\n",
       "    <tr>\n",
       "      <th>0</th>\n",
       "      <td>0.057151</td>\n",
       "      <td>0.100217</td>\n",
       "    </tr>\n",
       "    <tr>\n",
       "      <th>1</th>\n",
       "      <td>0.101342</td>\n",
       "      <td>0.100802</td>\n",
       "    </tr>\n",
       "    <tr>\n",
       "      <th>2</th>\n",
       "      <td>0.137935</td>\n",
       "      <td>0.087720</td>\n",
       "    </tr>\n",
       "    <tr>\n",
       "      <th>3</th>\n",
       "      <td>0.186928</td>\n",
       "      <td>0.134410</td>\n",
       "    </tr>\n",
       "    <tr>\n",
       "      <th>4</th>\n",
       "      <td>0.116055</td>\n",
       "      <td>0.123780</td>\n",
       "    </tr>\n",
       "    <tr>\n",
       "      <th>5</th>\n",
       "      <td>0.062030</td>\n",
       "      <td>0.056439</td>\n",
       "    </tr>\n",
       "    <tr>\n",
       "      <th>6</th>\n",
       "      <td>0.093922</td>\n",
       "      <td>0.052427</td>\n",
       "    </tr>\n",
       "    <tr>\n",
       "      <th>7</th>\n",
       "      <td>0.037686</td>\n",
       "      <td>0.180913</td>\n",
       "    </tr>\n",
       "    <tr>\n",
       "      <th>8</th>\n",
       "      <td>0.141340</td>\n",
       "      <td>0.075850</td>\n",
       "    </tr>\n",
       "    <tr>\n",
       "      <th>9</th>\n",
       "      <td>0.065613</td>\n",
       "      <td>0.087443</td>\n",
       "    </tr>\n",
       "  </tbody>\n",
       "</table>\n",
       "</div>"
      ],
      "text/plain": [
       "   Evictions  Indicents\n",
       "0   0.057151   0.100217\n",
       "1   0.101342   0.100802\n",
       "2   0.137935   0.087720\n",
       "3   0.186928   0.134410\n",
       "4   0.116055   0.123780\n",
       "5   0.062030   0.056439\n",
       "6   0.093922   0.052427\n",
       "7   0.037686   0.180913\n",
       "8   0.141340   0.075850\n",
       "9   0.065613   0.087443"
      ]
     },
     "execution_count": 12,
     "metadata": {},
     "output_type": "execute_result"
    }
   ],
   "source": [
    "dict = {'Evictions': evPerc, 'Indicents': incPerc }   \n",
    "df_perc = pd.DataFrame(dict) \n",
    "df_perc"
   ]
  },
  {
   "cell_type": "code",
   "execution_count": 13,
   "metadata": {},
   "outputs": [
    {
     "data": {
      "text/plain": [
       "PdDistrict\n",
       "bayview       104001\n",
       "central       104608\n",
       "ingleside      91032\n",
       "mission       139486\n",
       "northern      128454\n",
       "park           58570\n",
       "richmond       54407\n",
       "southern      187745\n",
       "taraval        78714\n",
       "tenderloin     90745\n",
       "Name: PdDistrict, dtype: int64"
      ]
     },
     "execution_count": 13,
     "metadata": {},
     "output_type": "execute_result"
    }
   ],
   "source": [
    "incidents"
   ]
  },
  {
   "cell_type": "code",
   "execution_count": 14,
   "metadata": {},
   "outputs": [
    {
     "data": {
      "text/plain": [
       "['bayview',\n",
       " 'central',\n",
       " 'ingleside',\n",
       " 'mission',\n",
       " 'northern',\n",
       " 'park',\n",
       " 'richmond',\n",
       " 'southern',\n",
       " 'taraval',\n",
       " 'tenderloin']"
      ]
     },
     "execution_count": 14,
     "metadata": {},
     "output_type": "execute_result"
    }
   ],
   "source": [
    "list1=df_eviction['PdDistrict'].unique()\n",
    "list1=list(list1)\n",
    "list1=sorted(list1)\n",
    "list1"
   ]
  },
  {
   "cell_type": "code",
   "execution_count": 15,
   "metadata": {},
   "outputs": [
    {
     "data": {
      "text/html": [
       "<div>\n",
       "<style scoped>\n",
       "    .dataframe tbody tr th:only-of-type {\n",
       "        vertical-align: middle;\n",
       "    }\n",
       "\n",
       "    .dataframe tbody tr th {\n",
       "        vertical-align: top;\n",
       "    }\n",
       "\n",
       "    .dataframe thead th {\n",
       "        text-align: right;\n",
       "    }\n",
       "</style>\n",
       "<table border=\"1\" class=\"dataframe\">\n",
       "  <thead>\n",
       "    <tr style=\"text-align: right;\">\n",
       "      <th></th>\n",
       "      <th>Eviction</th>\n",
       "      <th>Incidents</th>\n",
       "    </tr>\n",
       "  </thead>\n",
       "  <tbody>\n",
       "    <tr>\n",
       "      <th>bayview</th>\n",
       "      <td>0.057151</td>\n",
       "      <td>0.100217</td>\n",
       "    </tr>\n",
       "    <tr>\n",
       "      <th>central</th>\n",
       "      <td>0.101342</td>\n",
       "      <td>0.100802</td>\n",
       "    </tr>\n",
       "    <tr>\n",
       "      <th>ingleside</th>\n",
       "      <td>0.137935</td>\n",
       "      <td>0.087720</td>\n",
       "    </tr>\n",
       "    <tr>\n",
       "      <th>mission</th>\n",
       "      <td>0.186928</td>\n",
       "      <td>0.134410</td>\n",
       "    </tr>\n",
       "    <tr>\n",
       "      <th>northern</th>\n",
       "      <td>0.116055</td>\n",
       "      <td>0.123780</td>\n",
       "    </tr>\n",
       "    <tr>\n",
       "      <th>park</th>\n",
       "      <td>0.062030</td>\n",
       "      <td>0.056439</td>\n",
       "    </tr>\n",
       "    <tr>\n",
       "      <th>richmond</th>\n",
       "      <td>0.093922</td>\n",
       "      <td>0.052427</td>\n",
       "    </tr>\n",
       "    <tr>\n",
       "      <th>southern</th>\n",
       "      <td>0.037686</td>\n",
       "      <td>0.180913</td>\n",
       "    </tr>\n",
       "    <tr>\n",
       "      <th>taraval</th>\n",
       "      <td>0.141340</td>\n",
       "      <td>0.075850</td>\n",
       "    </tr>\n",
       "    <tr>\n",
       "      <th>tenderloin</th>\n",
       "      <td>0.065613</td>\n",
       "      <td>0.087443</td>\n",
       "    </tr>\n",
       "  </tbody>\n",
       "</table>\n",
       "</div>"
      ],
      "text/plain": [
       "            Eviction  Incidents\n",
       "bayview     0.057151   0.100217\n",
       "central     0.101342   0.100802\n",
       "ingleside   0.137935   0.087720\n",
       "mission     0.186928   0.134410\n",
       "northern    0.116055   0.123780\n",
       "park        0.062030   0.056439\n",
       "richmond    0.093922   0.052427\n",
       "southern    0.037686   0.180913\n",
       "taraval     0.141340   0.075850\n",
       "tenderloin  0.065613   0.087443"
      ]
     },
     "execution_count": 15,
     "metadata": {},
     "output_type": "execute_result"
    }
   ],
   "source": [
    "df = pd.DataFrame({'Eviction': evPerc,'Incidents': incPerc}, index=list1)\n",
    "df"
   ]
  },
  {
   "cell_type": "code",
   "execution_count": 16,
   "metadata": {},
   "outputs": [
    {
     "data": {
      "image/png": "[encoded data removed]",
      "text/plain": [
       "<Figure size 432x288 with 1 Axes>"
      ]
     },
     "metadata": {},
     "output_type": "display_data"
    }
   ],
   "source": [
    "fig,ax=plt.subplots()\n",
    "plt.scatter(df['Eviction'], df['Incidents'])\n",
    "ax.legend()\n",
    "plt.show()"
   ]
  },
  {
   "cell_type": "code",
   "execution_count": 17,
   "metadata": {},
   "outputs": [
    {
     "data": {
      "image/png": "[encoded data removed]",
      "text/plain": [
       "<Figure size 432x288 with 1 Axes>"
      ]
     },
     "metadata": {},
     "output_type": "display_data"
    }
   ],
   "source": [
    "df.index.name = 'name'\n",
    "\n",
    "for name,row in df.iterrows():\n",
    "  plt.scatter(row['Eviction'],row['Incidents'], label=name)\n",
    "\n",
    "plt.xlabel('Eviction')\n",
    "plt.ylabel('Incidents')\n",
    "plt.legend()\n",
    "plt.show()"
   ]
  },
  {
   "cell_type": "code",
   "execution_count": 18,
   "metadata": {},
   "outputs": [],
   "source": [
    "from sklearn.model_selection import train_test_split \n",
    "from sklearn.linear_model import LinearRegression\n",
    "from sklearn import metrics\n",
    "\n",
    "X = df['Eviction'].values.reshape(-1,1)\n",
    "y = df['Incidents'].values.reshape(-1,1)\n",
    "\n",
    "X_train, X_test, y_train, y_test = train_test_split(X, y, test_size=0.2, random_state=0)"
   ]
  },
  {
   "cell_type": "code",
   "execution_count": 19,
   "metadata": {
    "scrolled": false
   },
   "outputs": [
    {
     "data": {
      "text/plain": [
       "LinearRegression(copy_X=True, fit_intercept=True, n_jobs=None, normalize=False)"
      ]
     },
     "execution_count": 19,
     "metadata": {},
     "output_type": "execute_result"
    }
   ],
   "source": [
    "regressor = LinearRegression()  \n",
    "regressor.fit(X_train, y_train) #training the algorithm"
   ]
  },
  {
   "cell_type": "code",
   "execution_count": 20,
   "metadata": {},
   "outputs": [
    {
     "data": {
      "text/plain": [
       "array([[0.10784075],\n",
       "       [0.10807469]])"
      ]
     },
     "execution_count": 20,
     "metadata": {},
     "output_type": "execute_result"
    }
   ],
   "source": [
    "y_pred = regressor.predict(X_test)\n",
    "y_pred"
   ]
  },
  {
   "cell_type": "code",
   "execution_count": 21,
   "metadata": {},
   "outputs": [],
   "source": [
    "y_pred = [y for x in y_pred for y in x]\n",
    "y_test = [y for x in y_test for y in x]\n",
    "X_test = [y for x in X_test for y in x]\n",
    "X_train = [y for x in X_train for y in x]\n",
    "y_train = [y for x in y_train for y in x]"
   ]
  },
  {
   "cell_type": "code",
   "execution_count": 22,
   "metadata": {},
   "outputs": [
    {
     "data": {
      "text/html": [
       "<div>\n",
       "<style scoped>\n",
       "    .dataframe tbody tr th:only-of-type {\n",
       "        vertical-align: middle;\n",
       "    }\n",
       "\n",
       "    .dataframe tbody tr th {\n",
       "        vertical-align: top;\n",
       "    }\n",
       "\n",
       "    .dataframe thead th {\n",
       "        text-align: right;\n",
       "    }\n",
       "</style>\n",
       "<table border=\"1\" class=\"dataframe\">\n",
       "  <thead>\n",
       "    <tr style=\"text-align: right;\">\n",
       "      <th></th>\n",
       "      <th>Actual</th>\n",
       "      <th>Predicted</th>\n",
       "    </tr>\n",
       "  </thead>\n",
       "  <tbody>\n",
       "    <tr>\n",
       "      <th>0</th>\n",
       "      <td>0.08772</td>\n",
       "      <td>0.107841</td>\n",
       "    </tr>\n",
       "    <tr>\n",
       "      <th>1</th>\n",
       "      <td>0.07585</td>\n",
       "      <td>0.108075</td>\n",
       "    </tr>\n",
       "  </tbody>\n",
       "</table>\n",
       "</div>"
      ],
      "text/plain": [
       "    Actual  Predicted\n",
       "0  0.08772   0.107841\n",
       "1  0.07585   0.108075"
      ]
     },
     "execution_count": 22,
     "metadata": {},
     "output_type": "execute_result"
    }
   ],
   "source": [
    "dict = {'Actual': y_test, 'Predicted': y_pred}   \n",
    "df_pred = pd.DataFrame(dict) \n",
    "df_pred"
   ]
  },
  {
   "cell_type": "code",
   "execution_count": 23,
   "metadata": {},
   "outputs": [
    {
     "data": {
      "image/png": "[encoded data removed]",
      "text/plain": [
       "<Figure size 432x288 with 1 Axes>"
      ]
     },
     "metadata": {},
     "output_type": "display_data"
    }
   ],
   "source": [
    "df.index.name = 'name'\n",
    "\n",
    "for name,row in df.iterrows():\n",
    "  plt.scatter(row['Eviction'],row['Incidents'], label=name)\n",
    "\n",
    "plt.plot(X_test, y_pred, color='blue', linewidth=3)\n",
    "plt.xlabel('Eviction')\n",
    "plt.ylabel('Incidents')\n",
    "plt.legend()\n",
    "plt.show()"
   ]
  },
  {
   "cell_type": "code",
   "execution_count": 24,
   "metadata": {},
   "outputs": [
    {
     "data": {
      "image/png": "[encoded data removed]",
      "text/plain": [
       "<Figure size 432x288 with 1 Axes>"
      ]
     },
     "metadata": {},
     "output_type": "display_data"
    }
   ],
   "source": [
    "plt.scatter(evPerc, incPerc,  color='black')\n",
    "plt.plot(y_test, y_pred, color='blue', linewidth=3)\n",
    "plt.show()"
   ]
  },
  {
   "cell_type": "code",
   "execution_count": 25,
   "metadata": {},
   "outputs": [
    {
     "name": "stdout",
     "output_type": "stream",
     "text": [
      "[[0.06870088]]\n"
     ]
    }
   ],
   "source": [
    "print(regressor.coef_)"
   ]
  },
  {
   "cell_type": "code",
   "execution_count": 26,
   "metadata": {},
   "outputs": [
    {
     "data": {
      "text/plain": [
       "['EvictionID',\n",
       " 'Address',\n",
       " 'City',\n",
       " 'State',\n",
       " 'Zipcode',\n",
       " 'Date',\n",
       " 'Nonpayment',\n",
       " 'Breach',\n",
       " 'Nuisance',\n",
       " 'IllegalUse',\n",
       " 'FailureToSign',\n",
       " 'AccessDenial',\n",
       " 'Unapproved Subtenant',\n",
       " 'OwnerMoveIn',\n",
       " 'Demolition',\n",
       " 'CapitalImprovement',\n",
       " 'Rehab',\n",
       " 'Withdrawl',\n",
       " 'Condoconversion',\n",
       " 'Roomate',\n",
       " 'Other',\n",
       " 'LatePayments',\n",
       " 'LeadRemediation',\n",
       " 'Development',\n",
       " 'GoodSamaritanEnds',\n",
       " 'SupervisorDistrict',\n",
       " 'Neighborhoods',\n",
       " 'Location',\n",
       " 'X',\n",
       " 'Y',\n",
       " 'Day',\n",
       " 'Month',\n",
       " 'Year',\n",
       " 'PdDistrict']"
      ]
     },
     "execution_count": 26,
     "metadata": {},
     "output_type": "execute_result"
    }
   ],
   "source": [
    "colList=[]\n",
    "for col in df_eviction.columns:\n",
    "    colList.append(col) #list of attributes\n",
    "colList"
   ]
  },
  {
   "cell_type": "code",
   "execution_count": 27,
   "metadata": {},
   "outputs": [
    {
     "data": {
      "text/html": [
       "<div>\n",
       "<style scoped>\n",
       "    .dataframe tbody tr th:only-of-type {\n",
       "        vertical-align: middle;\n",
       "    }\n",
       "\n",
       "    .dataframe tbody tr th {\n",
       "        vertical-align: top;\n",
       "    }\n",
       "\n",
       "    .dataframe thead th {\n",
       "        text-align: right;\n",
       "    }\n",
       "</style>\n",
       "<table border=\"1\" class=\"dataframe\">\n",
       "  <thead>\n",
       "    <tr style=\"text-align: right;\">\n",
       "      <th></th>\n",
       "      <th>EvictionID</th>\n",
       "      <th>Address</th>\n",
       "      <th>City</th>\n",
       "      <th>State</th>\n",
       "      <th>Zipcode</th>\n",
       "      <th>Date</th>\n",
       "      <th>Nonpayment</th>\n",
       "      <th>Breach</th>\n",
       "      <th>Nuisance</th>\n",
       "      <th>IllegalUse</th>\n",
       "      <th>...</th>\n",
       "      <th>SupervisorDistrict</th>\n",
       "      <th>Neighborhoods</th>\n",
       "      <th>Location</th>\n",
       "      <th>X</th>\n",
       "      <th>Y</th>\n",
       "      <th>Day</th>\n",
       "      <th>Month</th>\n",
       "      <th>Year</th>\n",
       "      <th>PdDistrict</th>\n",
       "      <th>PdDistrictLE</th>\n",
       "    </tr>\n",
       "  </thead>\n",
       "  <tbody>\n",
       "    <tr>\n",
       "      <th>0</th>\n",
       "      <td>m192806</td>\n",
       "      <td>700 block of kearny  street</td>\n",
       "      <td>san francisco</td>\n",
       "      <td>ca</td>\n",
       "      <td>94111</td>\n",
       "      <td>2019-10-18</td>\n",
       "      <td>0</td>\n",
       "      <td>1</td>\n",
       "      <td>0</td>\n",
       "      <td>0</td>\n",
       "      <td>...</td>\n",
       "      <td>3.0</td>\n",
       "      <td>chinatown</td>\n",
       "      <td>-122.40476763634015 37.79466465355738</td>\n",
       "      <td>-122.404768</td>\n",
       "      <td>37.794665</td>\n",
       "      <td>18</td>\n",
       "      <td>10</td>\n",
       "      <td>2019</td>\n",
       "      <td>central</td>\n",
       "      <td>1</td>\n",
       "    </tr>\n",
       "    <tr>\n",
       "      <th>1</th>\n",
       "      <td>m192020</td>\n",
       "      <td>400 block of 35th  avenue</td>\n",
       "      <td>san francisco</td>\n",
       "      <td>ca</td>\n",
       "      <td>94121</td>\n",
       "      <td>2019-08-16</td>\n",
       "      <td>0</td>\n",
       "      <td>0</td>\n",
       "      <td>0</td>\n",
       "      <td>0</td>\n",
       "      <td>...</td>\n",
       "      <td>1.0</td>\n",
       "      <td>outer richmond</td>\n",
       "      <td>-122.4954513144922 37.780562090999126</td>\n",
       "      <td>-122.495451</td>\n",
       "      <td>37.780562</td>\n",
       "      <td>16</td>\n",
       "      <td>8</td>\n",
       "      <td>2019</td>\n",
       "      <td>richmond</td>\n",
       "      <td>6</td>\n",
       "    </tr>\n",
       "    <tr>\n",
       "      <th>2</th>\n",
       "      <td>m192145</td>\n",
       "      <td>200 block of font  boulevard</td>\n",
       "      <td>san francisco</td>\n",
       "      <td>ca</td>\n",
       "      <td>94132</td>\n",
       "      <td>2019-08-28</td>\n",
       "      <td>0</td>\n",
       "      <td>1</td>\n",
       "      <td>0</td>\n",
       "      <td>0</td>\n",
       "      <td>...</td>\n",
       "      <td>7.0</td>\n",
       "      <td>lakeshore</td>\n",
       "      <td>-122.47509247803765 37.71643640083831</td>\n",
       "      <td>-122.475092</td>\n",
       "      <td>37.716436</td>\n",
       "      <td>28</td>\n",
       "      <td>8</td>\n",
       "      <td>2019</td>\n",
       "      <td>taraval</td>\n",
       "      <td>8</td>\n",
       "    </tr>\n",
       "    <tr>\n",
       "      <th>3</th>\n",
       "      <td>m191890</td>\n",
       "      <td>0 block of levant  street</td>\n",
       "      <td>san francisco</td>\n",
       "      <td>ca</td>\n",
       "      <td>94114</td>\n",
       "      <td>2019-08-02</td>\n",
       "      <td>0</td>\n",
       "      <td>0</td>\n",
       "      <td>0</td>\n",
       "      <td>0</td>\n",
       "      <td>...</td>\n",
       "      <td>8.0</td>\n",
       "      <td>castro/upper market</td>\n",
       "      <td>-122.44212894562347 37.764255519062026</td>\n",
       "      <td>-122.442129</td>\n",
       "      <td>37.764256</td>\n",
       "      <td>2</td>\n",
       "      <td>8</td>\n",
       "      <td>2019</td>\n",
       "      <td>mission</td>\n",
       "      <td>3</td>\n",
       "    </tr>\n",
       "    <tr>\n",
       "      <th>4</th>\n",
       "      <td>m192140</td>\n",
       "      <td>0 block of bucareli  drive</td>\n",
       "      <td>san francisco</td>\n",
       "      <td>ca</td>\n",
       "      <td>94132</td>\n",
       "      <td>2019-08-28</td>\n",
       "      <td>0</td>\n",
       "      <td>1</td>\n",
       "      <td>0</td>\n",
       "      <td>0</td>\n",
       "      <td>...</td>\n",
       "      <td>7.0</td>\n",
       "      <td>lakeshore</td>\n",
       "      <td>-122.4793742747656 37.71746280191635</td>\n",
       "      <td>-122.479374</td>\n",
       "      <td>37.717463</td>\n",
       "      <td>28</td>\n",
       "      <td>8</td>\n",
       "      <td>2019</td>\n",
       "      <td>taraval</td>\n",
       "      <td>8</td>\n",
       "    </tr>\n",
       "    <tr>\n",
       "      <th>5</th>\n",
       "      <td>m191948</td>\n",
       "      <td>700 block of haight  street</td>\n",
       "      <td>san francisco</td>\n",
       "      <td>ca</td>\n",
       "      <td>94117</td>\n",
       "      <td>2019-08-09</td>\n",
       "      <td>0</td>\n",
       "      <td>1</td>\n",
       "      <td>0</td>\n",
       "      <td>0</td>\n",
       "      <td>...</td>\n",
       "      <td>5.0</td>\n",
       "      <td>haight ashbury</td>\n",
       "      <td>-122.43454290933225 37.77152964961175</td>\n",
       "      <td>-122.434543</td>\n",
       "      <td>37.771530</td>\n",
       "      <td>9</td>\n",
       "      <td>8</td>\n",
       "      <td>2019</td>\n",
       "      <td>park</td>\n",
       "      <td>5</td>\n",
       "    </tr>\n",
       "    <tr>\n",
       "      <th>6</th>\n",
       "      <td>m191509</td>\n",
       "      <td>2800 block of folsom  street</td>\n",
       "      <td>san francisco</td>\n",
       "      <td>ca</td>\n",
       "      <td>94110</td>\n",
       "      <td>2019-07-03</td>\n",
       "      <td>0</td>\n",
       "      <td>0</td>\n",
       "      <td>0</td>\n",
       "      <td>0</td>\n",
       "      <td>...</td>\n",
       "      <td>9.0</td>\n",
       "      <td>mission</td>\n",
       "      <td>-122.41407486280637 37.75169997912014</td>\n",
       "      <td>-122.414075</td>\n",
       "      <td>37.751700</td>\n",
       "      <td>3</td>\n",
       "      <td>7</td>\n",
       "      <td>2019</td>\n",
       "      <td>mission</td>\n",
       "      <td>3</td>\n",
       "    </tr>\n",
       "    <tr>\n",
       "      <th>7</th>\n",
       "      <td>m190093</td>\n",
       "      <td>200 block of montana  street</td>\n",
       "      <td>san francisco</td>\n",
       "      <td>ca</td>\n",
       "      <td>94112</td>\n",
       "      <td>2019-01-16</td>\n",
       "      <td>1</td>\n",
       "      <td>0</td>\n",
       "      <td>0</td>\n",
       "      <td>0</td>\n",
       "      <td>...</td>\n",
       "      <td>11.0</td>\n",
       "      <td>oceanview/merced/ingleside</td>\n",
       "      <td>-122.46142291178968 37.716526917892736</td>\n",
       "      <td>-122.461423</td>\n",
       "      <td>37.716527</td>\n",
       "      <td>16</td>\n",
       "      <td>1</td>\n",
       "      <td>2019</td>\n",
       "      <td>ingleside</td>\n",
       "      <td>2</td>\n",
       "    </tr>\n",
       "    <tr>\n",
       "      <th>8</th>\n",
       "      <td>m191965</td>\n",
       "      <td>1700 block of 28th  avenue</td>\n",
       "      <td>san francisco</td>\n",
       "      <td>ca</td>\n",
       "      <td>94122</td>\n",
       "      <td>2019-08-13</td>\n",
       "      <td>0</td>\n",
       "      <td>0</td>\n",
       "      <td>0</td>\n",
       "      <td>0</td>\n",
       "      <td>...</td>\n",
       "      <td>4.0</td>\n",
       "      <td>sunset/parkside</td>\n",
       "      <td>-122.48611379786693 37.75475202208017</td>\n",
       "      <td>-122.486114</td>\n",
       "      <td>37.754752</td>\n",
       "      <td>13</td>\n",
       "      <td>8</td>\n",
       "      <td>2019</td>\n",
       "      <td>taraval</td>\n",
       "      <td>8</td>\n",
       "    </tr>\n",
       "    <tr>\n",
       "      <th>9</th>\n",
       "      <td>m191851</td>\n",
       "      <td>1000 block of bush  street</td>\n",
       "      <td>san francisco</td>\n",
       "      <td>ca</td>\n",
       "      <td>94109</td>\n",
       "      <td>2019-08-05</td>\n",
       "      <td>0</td>\n",
       "      <td>0</td>\n",
       "      <td>1</td>\n",
       "      <td>0</td>\n",
       "      <td>...</td>\n",
       "      <td>3.0</td>\n",
       "      <td>nob hill</td>\n",
       "      <td>-122.41456113260082 37.789478817108304</td>\n",
       "      <td>-122.414561</td>\n",
       "      <td>37.789479</td>\n",
       "      <td>5</td>\n",
       "      <td>8</td>\n",
       "      <td>2019</td>\n",
       "      <td>central</td>\n",
       "      <td>1</td>\n",
       "    </tr>\n",
       "  </tbody>\n",
       "</table>\n",
       "<p>10 rows × 35 columns</p>\n",
       "</div>"
      ],
      "text/plain": [
       "  EvictionID                       Address           City State  Zipcode  \\\n",
       "0    m192806   700 block of kearny  street  san francisco    ca    94111   \n",
       "1    m192020     400 block of 35th  avenue  san francisco    ca    94121   \n",
       "2    m192145  200 block of font  boulevard  san francisco    ca    94132   \n",
       "3    m191890     0 block of levant  street  san francisco    ca    94114   \n",
       "4    m192140    0 block of bucareli  drive  san francisco    ca    94132   \n",
       "5    m191948   700 block of haight  street  san francisco    ca    94117   \n",
       "6    m191509  2800 block of folsom  street  san francisco    ca    94110   \n",
       "7    m190093  200 block of montana  street  san francisco    ca    94112   \n",
       "8    m191965    1700 block of 28th  avenue  san francisco    ca    94122   \n",
       "9    m191851    1000 block of bush  street  san francisco    ca    94109   \n",
       "\n",
       "         Date  Nonpayment  Breach  Nuisance  IllegalUse      ...       \\\n",
       "0  2019-10-18           0       1         0           0      ...        \n",
       "1  2019-08-16           0       0         0           0      ...        \n",
       "2  2019-08-28           0       1         0           0      ...        \n",
       "3  2019-08-02           0       0         0           0      ...        \n",
       "4  2019-08-28           0       1         0           0      ...        \n",
       "5  2019-08-09           0       1         0           0      ...        \n",
       "6  2019-07-03           0       0         0           0      ...        \n",
       "7  2019-01-16           1       0         0           0      ...        \n",
       "8  2019-08-13           0       0         0           0      ...        \n",
       "9  2019-08-05           0       0         1           0      ...        \n",
       "\n",
       "   SupervisorDistrict               Neighborhoods  \\\n",
       "0                 3.0                   chinatown   \n",
       "1                 1.0              outer richmond   \n",
       "2                 7.0                   lakeshore   \n",
       "3                 8.0         castro/upper market   \n",
       "4                 7.0                   lakeshore   \n",
       "5                 5.0              haight ashbury   \n",
       "6                 9.0                     mission   \n",
       "7                11.0  oceanview/merced/ingleside   \n",
       "8                 4.0             sunset/parkside   \n",
       "9                 3.0                    nob hill   \n",
       "\n",
       "                                 Location           X          Y  Day  Month  \\\n",
       "0   -122.40476763634015 37.79466465355738 -122.404768  37.794665   18     10   \n",
       "1   -122.4954513144922 37.780562090999126 -122.495451  37.780562   16      8   \n",
       "2   -122.47509247803765 37.71643640083831 -122.475092  37.716436   28      8   \n",
       "3  -122.44212894562347 37.764255519062026 -122.442129  37.764256    2      8   \n",
       "4    -122.4793742747656 37.71746280191635 -122.479374  37.717463   28      8   \n",
       "5   -122.43454290933225 37.77152964961175 -122.434543  37.771530    9      8   \n",
       "6   -122.41407486280637 37.75169997912014 -122.414075  37.751700    3      7   \n",
       "7  -122.46142291178968 37.716526917892736 -122.461423  37.716527   16      1   \n",
       "8   -122.48611379786693 37.75475202208017 -122.486114  37.754752   13      8   \n",
       "9  -122.41456113260082 37.789478817108304 -122.414561  37.789479    5      8   \n",
       "\n",
       "   Year  PdDistrict  PdDistrictLE  \n",
       "0  2019     central             1  \n",
       "1  2019    richmond             6  \n",
       "2  2019     taraval             8  \n",
       "3  2019     mission             3  \n",
       "4  2019     taraval             8  \n",
       "5  2019        park             5  \n",
       "6  2019     mission             3  \n",
       "7  2019   ingleside             2  \n",
       "8  2019     taraval             8  \n",
       "9  2019     central             1  \n",
       "\n",
       "[10 rows x 35 columns]"
      ]
     },
     "execution_count": 27,
     "metadata": {},
     "output_type": "execute_result"
    }
   ],
   "source": [
    "from sklearn import preprocessing\n",
    "le=preprocessing.LabelEncoder()\n",
    "\n",
    "goods=[]\n",
    "for x in range(6,25):\n",
    "    df_eviction[colList[x]] = le.fit_transform(df_eviction[colList[x]].astype(str))\n",
    "    goods.append(colList[x])\n",
    "\n",
    "df_eviction[\"PdDistrictLE\"] = le.fit_transform(df_eviction[\"PdDistrict\"].astype(str))\n",
    "\n",
    "df_eviction.head(10)"
   ]
  },
  {
   "cell_type": "code",
   "execution_count": 28,
   "metadata": {},
   "outputs": [
    {
     "data": {
      "text/plain": [
       "0.04982808958656626"
      ]
     },
     "execution_count": 28,
     "metadata": {},
     "output_type": "execute_result"
    }
   ],
   "source": [
    "labels = df_eviction['PdDistrictLE']\n",
    "features = df_eviction[goods]\n",
    "train_features, test_features, train_labels, test_labels = train_test_split(features,\n",
    "                                                                            labels, \n",
    "                                                                            test_size=0.20)\n",
    "# Model the data\n",
    "model = LinearRegression()\n",
    "model.fit(train_features, train_labels)\n",
    "model.score(test_features, test_labels)"
   ]
  },
  {
   "cell_type": "code",
   "execution_count": 29,
   "metadata": {},
   "outputs": [
    {
     "data": {
      "text/plain": [
       "<matplotlib.axes._subplots.AxesSubplot at 0x27dbfed9550>"
      ]
     },
     "execution_count": 29,
     "metadata": {},
     "output_type": "execute_result"
    },
    {
     "data": {
      "image/png": "[encoded data removed]",
      "text/plain": [
       "<Figure size 432x288 with 1 Axes>"
      ]
     },
     "metadata": {},
     "output_type": "display_data"
    }
   ],
   "source": [
    "pred_labels = model.predict(test_features) \n",
    "# Plot prediction and actual data\n",
    "sns.regplot(x = test_labels, \n",
    "            y = pred_labels, \n",
    "            data = model,\n",
    "            line_kws={\"color\":\"orange\",\"alpha\":0.5,\"lw\":2}\n",
    "           )"
   ]
  },
  {
   "cell_type": "code",
   "execution_count": 30,
   "metadata": {},
   "outputs": [
    {
     "name": "stdout",
     "output_type": "stream",
     "text": [
      "-0.03962298751335198 0.1039622987513352\n"
     ]
    }
   ],
   "source": [
    "from statistics import mean\n",
    "import numpy as np\n",
    "\n",
    "xs = np.array(evPerc)\n",
    "ys = np.array(incPerc)\n",
    "\n",
    "def best_fit_slope_and_intercept(xs,ys):\n",
    "    m = (((mean(xs)*mean(ys)) - mean(xs*ys)) /\n",
    "         ((mean(xs)*mean(xs)) - mean(xs*xs)))\n",
    "    \n",
    "    b = mean(ys) - m*mean(xs)\n",
    "    \n",
    "    return m, b\n",
    "\n",
    "m, b = best_fit_slope_and_intercept(xs,ys)\n",
    "\n",
    "print(m,b)"
   ]
  },
  {
   "cell_type": "code",
   "execution_count": 31,
   "metadata": {},
   "outputs": [],
   "source": [
    "regression_line = [(m*x)+b for x in xs]"
   ]
  },
  {
   "cell_type": "code",
   "execution_count": 32,
   "metadata": {},
   "outputs": [
    {
     "data": {
      "image/png": "[encoded data removed]",
      "text/plain": [
       "<Figure size 432x288 with 1 Axes>"
      ]
     },
     "metadata": {},
     "output_type": "display_data"
    }
   ],
   "source": [
    "df.index.name = 'name'\n",
    "\n",
    "for name,row in df.iterrows():\n",
    "  plt.scatter(row['Eviction'],row['Incidents'], label=name)\n",
    "\n",
    "plt.title(\"Number of Incidents vs Number of Evictions in a Police District\")\n",
    "plt.xlabel('Evictions (%)')\n",
    "plt.ylabel('Incidents (%)')\n",
    "plt.legend(title=\"Police Districts\")\n",
    "plt.plot(xs, regression_line)\n",
    "plt.xlim([.03, .19])\n",
    "plt.ylim([.03, .19])\n",
    "leg = plt.legend( loc = 'upper right', title=\"Police Districts\")\n",
    "\n",
    "plt.draw() # Draw the figure so you can find the positon of the legend. \n",
    "\n",
    "# Get the bounding box of the original legend\n",
    "bb = leg.get_bbox_to_anchor().inverse_transformed(ax.transAxes)\n",
    "\n",
    "# Change to location of the legend. \n",
    "xOffset = .3\n",
    "bb.x0 += xOffset\n",
    "bb.x1 += xOffset\n",
    "leg.set_bbox_to_anchor(bb, transform = ax.transAxes)\n",
    "plt.show()"
   ]
  },
  {
   "cell_type": "code",
   "execution_count": 33,
   "metadata": {},
   "outputs": [
    {
     "name": "stdout",
     "output_type": "stream",
     "text": [
      "coefficient of determination: 0.0022749830917798697\n"
     ]
    }
   ],
   "source": [
    "from sklearn.linear_model import LinearRegression\n",
    "model = LinearRegression()\n",
    "\n",
    "X = list(df['Eviction'])\n",
    "y = list(df['Incidents'])\n",
    "x = np.array(X).reshape((-1, 1))\n",
    "y = np.array(y)\n",
    "model.fit(x, y)\n",
    "model = LinearRegression().fit(x, y)\n",
    "r_sq = model.score(x, y)\n",
    "print('coefficient of determination:', r_sq)"
   ]
  },
  {
   "cell_type": "code",
   "execution_count": 34,
   "metadata": {},
   "outputs": [
    {
     "data": {
      "text/html": [
       "<div>\n",
       "<style scoped>\n",
       "    .dataframe tbody tr th:only-of-type {\n",
       "        vertical-align: middle;\n",
       "    }\n",
       "\n",
       "    .dataframe tbody tr th {\n",
       "        vertical-align: top;\n",
       "    }\n",
       "\n",
       "    .dataframe thead th {\n",
       "        text-align: right;\n",
       "    }\n",
       "</style>\n",
       "<table border=\"1\" class=\"dataframe\">\n",
       "  <thead>\n",
       "    <tr style=\"text-align: right;\">\n",
       "      <th></th>\n",
       "      <th>Eviction</th>\n",
       "      <th>Incidents</th>\n",
       "    </tr>\n",
       "    <tr>\n",
       "      <th>name</th>\n",
       "      <th></th>\n",
       "      <th></th>\n",
       "    </tr>\n",
       "  </thead>\n",
       "  <tbody>\n",
       "    <tr>\n",
       "      <th>bayview</th>\n",
       "      <td>0.057151</td>\n",
       "      <td>0.100217</td>\n",
       "    </tr>\n",
       "    <tr>\n",
       "      <th>central</th>\n",
       "      <td>0.101342</td>\n",
       "      <td>0.100802</td>\n",
       "    </tr>\n",
       "    <tr>\n",
       "      <th>ingleside</th>\n",
       "      <td>0.137935</td>\n",
       "      <td>0.087720</td>\n",
       "    </tr>\n",
       "    <tr>\n",
       "      <th>mission</th>\n",
       "      <td>0.186928</td>\n",
       "      <td>0.134410</td>\n",
       "    </tr>\n",
       "    <tr>\n",
       "      <th>northern</th>\n",
       "      <td>0.116055</td>\n",
       "      <td>0.123780</td>\n",
       "    </tr>\n",
       "    <tr>\n",
       "      <th>park</th>\n",
       "      <td>0.062030</td>\n",
       "      <td>0.056439</td>\n",
       "    </tr>\n",
       "    <tr>\n",
       "      <th>richmond</th>\n",
       "      <td>0.093922</td>\n",
       "      <td>0.052427</td>\n",
       "    </tr>\n",
       "    <tr>\n",
       "      <th>taraval</th>\n",
       "      <td>0.141340</td>\n",
       "      <td>0.075850</td>\n",
       "    </tr>\n",
       "    <tr>\n",
       "      <th>tenderloin</th>\n",
       "      <td>0.065613</td>\n",
       "      <td>0.087443</td>\n",
       "    </tr>\n",
       "  </tbody>\n",
       "</table>\n",
       "</div>"
      ],
      "text/plain": [
       "            Eviction  Incidents\n",
       "name                           \n",
       "bayview     0.057151   0.100217\n",
       "central     0.101342   0.100802\n",
       "ingleside   0.137935   0.087720\n",
       "mission     0.186928   0.134410\n",
       "northern    0.116055   0.123780\n",
       "park        0.062030   0.056439\n",
       "richmond    0.093922   0.052427\n",
       "taraval     0.141340   0.075850\n",
       "tenderloin  0.065613   0.087443"
      ]
     },
     "execution_count": 34,
     "metadata": {},
     "output_type": "execute_result"
    }
   ],
   "source": [
    "df=df.drop(['southern'])\n",
    "df"
   ]
  },
  {
   "cell_type": "code",
   "execution_count": 35,
   "metadata": {},
   "outputs": [
    {
     "name": "stdout",
     "output_type": "stream",
     "text": [
      "0.3217483820100879 0.05660705758151149\n"
     ]
    }
   ],
   "source": [
    "xs = np.array(list(df['Eviction']))\n",
    "ys = np.array(list(df['Incidents']))\n",
    "\n",
    "m, b = best_fit_slope_and_intercept(xs,ys)\n",
    "\n",
    "print(m,b)"
   ]
  },
  {
   "cell_type": "code",
   "execution_count": 36,
   "metadata": {},
   "outputs": [],
   "source": [
    "regression_line = [(m*x)+b for x in xs]"
   ]
  },
  {
   "cell_type": "code",
   "execution_count": 37,
   "metadata": {},
   "outputs": [
    {
     "data": {
      "image/png": "[encoded data removed]",
      "text/plain": [
       "<Figure size 432x288 with 1 Axes>"
      ]
     },
     "metadata": {},
     "output_type": "display_data"
    }
   ],
   "source": [
    "for name,row in df.iterrows():\n",
    "  plt.scatter(row['Eviction'],row['Incidents'], label=name)\n",
    "\n",
    "plt.title(\"Number of Incidents vs Number of Evictions in a Police District\")\n",
    "plt.xlabel('Evictions (%)')\n",
    "plt.ylabel('Incidents (%)')\n",
    "plt.legend(title=\"Police Districts\")\n",
    "plt.plot(xs, regression_line)\n",
    "plt.xlim([.03, .19])\n",
    "plt.ylim([.03, .19])\n",
    "leg = plt.legend( loc = 'upper right', title=\"Police Districts\")\n",
    "\n",
    "plt.draw() # Draw the figure so you can find the positon of the legend. \n",
    "\n",
    "# Get the bounding box of the original legend\n",
    "bb = leg.get_bbox_to_anchor().inverse_transformed(ax.transAxes)\n",
    "\n",
    "# Change to location of the legend. \n",
    "xOffset = .3\n",
    "bb.x0 += xOffset\n",
    "bb.x1 += xOffset\n",
    "leg.set_bbox_to_anchor(bb, transform = ax.transAxes)\n",
    "plt.show()"
   ]
  },
  {
   "cell_type": "code",
   "execution_count": 38,
   "metadata": {},
   "outputs": [
    {
     "data": {
      "text/plain": [
       "LinearRegression(copy_X=True, fit_intercept=True, n_jobs=None, normalize=False)"
      ]
     },
     "execution_count": 38,
     "metadata": {},
     "output_type": "execute_result"
    }
   ],
   "source": [
    "from sklearn.linear_model import LinearRegression\n",
    "model = LinearRegression()\n",
    "\n",
    "X = list(df['Eviction'])\n",
    "y = list(df['Incidents'])\n",
    "x = np.array(X).reshape((-1, 1))\n",
    "y = np.array(y)\n",
    "model.fit(x, y)"
   ]
  },
  {
   "cell_type": "code",
   "execution_count": 39,
   "metadata": {},
   "outputs": [],
   "source": [
    "model = LinearRegression().fit(x, y)"
   ]
  },
  {
   "cell_type": "code",
   "execution_count": 40,
   "metadata": {},
   "outputs": [
    {
     "name": "stdout",
     "output_type": "stream",
     "text": [
      "coefficient of determination: 0.2561066201735942\n"
     ]
    }
   ],
   "source": [
    "r_sq = model.score(x, y)\n",
    "print('coefficient of determination:', r_sq)"
   ]
  },
  {
   "cell_type": "code",
   "execution_count": 41,
   "metadata": {},
   "outputs": [
    {
     "ename": "SyntaxError",
     "evalue": "invalid syntax (<ipython-input-41-b4009d795603>, line 1)",
     "output_type": "error",
     "traceback": [
      "\u001b[1;36m  File \u001b[1;32m\"<ipython-input-41-b4009d795603>\"\u001b[1;36m, line \u001b[1;32m1\u001b[0m\n\u001b[1;33m    from \"../src/freatures/supervisor_districts.py\"\u001b[0m\n\u001b[1;37m                                                  ^\u001b[0m\n\u001b[1;31mSyntaxError\u001b[0m\u001b[1;31m:\u001b[0m invalid syntax\n"
     ]
    }
   ],
   "source": [
    "from \"../src/freatures/supervisor_districts.py\" "
   ]
  },
  {
   "cell_type": "code",
   "execution_count": null,
   "metadata": {},
   "outputs": [],
   "source": [
    "import numpy as np\n",
    "import pandas as pd\n",
    "import re\n",
    "from shapely.geometry import Point\n",
    "from shapely.geometry.polygon import Polygon\n",
    "\n",
    "class __SupervisorDistricts:\n",
    "\n",
    "  def __init__(self):\n",
    "    self.__shapes = self.__gen_shapes()\n",
    "\n",
    "  def __gen_shapes(self):\n",
    "    df = pd.read_csv(\"../../data/raw/Current_Supervisor_Districts.csv\").sort_values(by=\"supervisor\")\n",
    "    shapes = []\n",
    "    # test_df = [[\"Test1\", \"MULTIPOLYGON (((1 1, 1 2, 2 2, 2 1)))\"],\n",
    "    #            [\"Test2\", \"MULTIPOLYGON (((1 1, 1 2, 2 2, 2 1)), ((-1 -1, -1 -2, -2 -2, -2 -1)))\"]]\n",
    "    # for i, row in enumerate(test_df):\n",
    "    for i, row in enumerate(df.values):\n",
    "      coords_str = re.compile(r\"MULTIPOLYGON \\(\\(\\((.+)\\)\\)\\)\").match(row[1]).group(1)\n",
    "      coords_list = []\n",
    "      if coords_str.find(\")\") != -1:\n",
    "        coords_list = re.compile(r\"(.+)\\)\\), \\(\\((.+)\").match(coords_str).groups()\n",
    "      else:\n",
    "        coords_list = [coords_str]\n",
    "      for coords in coords_list:\n",
    "        coords_split = coords.split(\", \")\n",
    "        list_of_coords = []\n",
    "        for coord in coords_split:\n",
    "          coord = coord.split(\" \")\n",
    "          list_of_coords.append((float(coord[0]), float(coord[1])))\n",
    "        if len(shapes) == i:\n",
    "          shapes.append((row[0], Polygon(list_of_coords)))\n",
    "        else:\n",
    "          shapes[i] = (shapes[i][0], shapes[i][1].union(Polygon(list_of_coords)))\n",
    "    return shapes\n",
    "\n",
    "  def get_district(self, lat, lon):\n",
    "    p = Point(lat, lon)\n",
    "    for i, (name, shape) in enumerate(self.__shapes):\n",
    "      if shape.contains(p):\n",
    "        return {\"district_num\": i + 1, \"name\": name}\n",
    "    raise Exception(\"District not found for point ({}, {})\".format(lat, lon))\n",
    "\n",
    "sd = __SupervisorDistricts()"
   ]
  },
  {
   "cell_type": "code",
   "execution_count": null,
   "metadata": {},
   "outputs": [],
   "source": []
  },
  {
   "cell_type": "code",
   "execution_count": 42,
   "metadata": {},
   "outputs": [
    {
     "name": "stderr",
     "output_type": "stream",
     "text": [
      "C:\\Program Files (x86)\\Microsoft Visual Studio\\Shared\\Anaconda3_64\\lib\\site-packages\\IPython\\core\\interactiveshell.py:2785: DtypeWarning: Columns (12,13,14,15,18,19,20,45,46,55,59) have mixed types. Specify dtype option on import or set low_memory=False.\n",
      "  interactivity=interactivity, compiler=compiler, result=result)\n"
     ]
    }
   ],
   "source": [
    "\n"
   ]
  },
  {
   "cell_type": "markdown",
   "metadata": {},
   "source": [
    "https://pythonprogramming.net/how-to-program-best-fit-line-machine-learning-tutorial/"
   ]
  }
 ],
 "metadata": {
  "kernelspec": {
   "display_name": "Python 3",
   "language": "python",
   "name": "python3"
  },
  "language_info": {
   "codemirror_mode": {
    "name": "ipython",
    "version": 3
   },
   "file_extension": ".py",
   "mimetype": "text/x-python",
   "name": "python",
   "nbconvert_exporter": "python",
   "pygments_lexer": "ipython3",
   "version": "3.6.5"
  }
 },
 "nbformat": 4,
 "nbformat_minor": 2
}
