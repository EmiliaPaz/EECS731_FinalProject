{
 "cells": [
  {
   "cell_type": "code",
   "execution_count": 1,
   "metadata": {},
   "outputs": [],
   "source": [
    "import numpy as np\n",
    "import pandas as pd\n",
    "import matplotlib.pyplot as plt\n",
    "import seaborn as sns"
   ]
  },
  {
   "cell_type": "code",
   "execution_count": 2,
   "metadata": {},
   "outputs": [],
   "source": [
    "airbnb_df = pd.read_csv(\"../data/processed/sf_airbnb_listings_cleaned.csv\").drop(columns=[\"Unnamed: 0\", \"Unnamed: 0.1\"])\n",
    "damage_df = pd.read_csv(\"../data/processed/damagedProperty.csv\").drop(columns=[\"Unnamed: 0\"])\n",
    "homeless_df = pd.read_csv(\"../data/processed/homelessConcerns.csv\").drop(columns=[\"Unnamed: 0\"])\n",
    "noise_df = pd.read_csv(\"../data/processed/noiseReports.csv\").drop(columns=[\"Unnamed: 0\"])"
   ]
  },
  {
   "cell_type": "code",
   "execution_count": 3,
   "metadata": {},
   "outputs": [
    {
     "data": {
      "text/plain": [
       "summary                      New update: the house next door is under const...\n",
       "space                        Newly remodeled, modern, and bright garden uni...\n",
       "description                  New update: the house next door is under const...\n",
       "house_rules                  * No Pets - even visiting guests for a short t...\n",
       "host_listings_count                                                          1\n",
       "host_total_listings_count                                                    1\n",
       "neighborhood                                                  Western Addition\n",
       "zipcode                                                                  94117\n",
       "latitude                                                               37.7693\n",
       "longitude                                                             -122.434\n",
       "is_location_exact                                                            t\n",
       "room_type                                                      Entire home/apt\n",
       "accommodates                                                                 3\n",
       "bathrooms                                                                    1\n",
       "bedrooms                                                                     1\n",
       "beds                                                                         2\n",
       "amenities                    {TV,Cable TV,Internet,Wifi,Kitchen,Pets live o...\n",
       "price                                                                      170\n",
       "minimum_nights                                                               1\n",
       "maximum_nights                                                              30\n",
       "availability_30                                                              1\n",
       "availability_60                                                              3\n",
       "availability_90                                                              7\n",
       "availability_365                                                            92\n",
       "number_of_reviews                                                          192\n",
       "review_scores_rating                                                        97\n",
       "review_scores_location                                                      10\n",
       "review_scores_value                                                          9\n",
       "reviews_per_month                                                          1.6\n",
       "supervisor_district                                                          8\n",
       "Name: 0, dtype: object"
      ]
     },
     "execution_count": 3,
     "metadata": {},
     "output_type": "execute_result"
    }
   ],
   "source": [
    "airbnb_df.iloc[0]"
   ]
  },
  {
   "cell_type": "code",
   "execution_count": 4,
   "metadata": {},
   "outputs": [
    {
     "data": {
      "text/plain": [
       "CaseID                                                 11771122\n",
       "Opened                                      2019-12-04 16:24:00\n",
       "Closed                                                      NaN\n",
       "Updated                                     2019-12-04 17:00:02\n",
       "Status                                                     Open\n",
       "Status Notes                                           accepted\n",
       "Responsible Agency                         DPT Meter_Bike Queue\n",
       "Category                                       Damaged Property\n",
       "Request Type                              Damaged Parking_Meter\n",
       "Request Details                                   Parking_Meter\n",
       "Address                intersection of haight st and ashbury st\n",
       "Street                                                HAIGHT ST\n",
       "Supervisor District                                           5\n",
       "Neighborhood                                     haight ashbury\n",
       "Police District                                            park\n",
       "Y                                                         37.77\n",
       "X                                                      -122.447\n",
       "Point                              (37.77000809, -122.44692993)\n",
       "Source                                                    Phone\n",
       "Media URL                                                   NaN\n",
       "Year                                                       2019\n",
       "Month                                                        12\n",
       "Day                                                           4\n",
       "Name: 0, dtype: object"
      ]
     },
     "execution_count": 4,
     "metadata": {},
     "output_type": "execute_result"
    }
   ],
   "source": [
    "damage_df.iloc[0]"
   ]
  },
  {
   "cell_type": "code",
   "execution_count": 5,
   "metadata": {},
   "outputs": [
    {
     "data": {
      "text/plain": [
       "CaseID                                                    11770932\n",
       "Opened                                         2019-12-04 15:47:00\n",
       "Closed                                                         NaN\n",
       "Updated                                        2019-12-05 03:56:44\n",
       "Status                                                        Open\n",
       "Status Notes                                                closed\n",
       "Responsible Agency                Police - Homeless Concerns Queue\n",
       "Category                                         Homeless Concerns\n",
       "Request Type                                   Individual Concerns\n",
       "Request Details                                     homeless_other\n",
       "Address                759 clementina st, san francisco, ca, 94103\n",
       "Street                                               CLEMENTINA ST\n",
       "Supervisor District                                              6\n",
       "Neighborhood                                       south of market\n",
       "Police District                                           southern\n",
       "Y                                                          37.7747\n",
       "X                                                         -122.412\n",
       "Point                                 (37.77470701, -122.41150998)\n",
       "Source                                              Mobile/Open311\n",
       "Media URL                                                      NaN\n",
       "Year                                                          2019\n",
       "Month                                                           12\n",
       "Day                                                              4\n",
       "Name: 0, dtype: object"
      ]
     },
     "execution_count": 5,
     "metadata": {},
     "output_type": "execute_result"
    }
   ],
   "source": [
    "homeless_df.iloc[0]"
   ]
  },
  {
   "cell_type": "code",
   "execution_count": 6,
   "metadata": {},
   "outputs": [
    {
     "data": {
      "text/plain": [
       "CaseID                                                          11739107\n",
       "Opened                                               2019-11-26 10:58:00\n",
       "Closed                                               2019-11-26 11:31:00\n",
       "Updated                                              2019-11-26 11:31:00\n",
       "Status                                                            Closed\n",
       "Status Notes           Sent to DPH Consumer Protection Program distri...\n",
       "Responsible Agency              DPH - Environmental Health - Noise Queue\n",
       "Category                                                    Noise Report\n",
       "Request Type                                        mechanical_equipment\n",
       "Request Details                      Noise Report - mechanical_equipment\n",
       "Address                           3985 17th st, san francisco, ca, 94114\n",
       "Street                                                           17TH ST\n",
       "Supervisor District                                                    8\n",
       "Neighborhood                                                      castro\n",
       "Police District                                                  mission\n",
       "Y                                                                37.7624\n",
       "X                                                               -122.435\n",
       "Point                                       (37.76236343, -122.43470764)\n",
       "Source                                                             Phone\n",
       "Media URL                                                            NaN\n",
       "Year                                                                2019\n",
       "Month                                                                 11\n",
       "Day                                                                   26\n",
       "Name: 0, dtype: object"
      ]
     },
     "execution_count": 6,
     "metadata": {},
     "output_type": "execute_result"
    }
   ],
   "source": [
    "noise_df.iloc[0]"
   ]
  },
  {
   "cell_type": "code",
   "execution_count": 7,
   "metadata": {
    "scrolled": false
   },
   "outputs": [
    {
     "data": {
      "text/html": [
       "<div>\n",
       "<style scoped>\n",
       "    .dataframe tbody tr th:only-of-type {\n",
       "        vertical-align: middle;\n",
       "    }\n",
       "\n",
       "    .dataframe tbody tr th {\n",
       "        vertical-align: top;\n",
       "    }\n",
       "\n",
       "    .dataframe thead th {\n",
       "        text-align: right;\n",
       "    }\n",
       "</style>\n",
       "<table border=\"1\" class=\"dataframe\">\n",
       "  <thead>\n",
       "    <tr style=\"text-align: right;\">\n",
       "      <th></th>\n",
       "      <th>summary</th>\n",
       "      <th>space</th>\n",
       "      <th>description</th>\n",
       "      <th>house_rules</th>\n",
       "      <th>host_listings_count</th>\n",
       "      <th>host_total_listings_count</th>\n",
       "      <th>neighborhood</th>\n",
       "      <th>zipcode</th>\n",
       "      <th>latitude</th>\n",
       "      <th>longitude</th>\n",
       "      <th>...</th>\n",
       "      <th>availability_365</th>\n",
       "      <th>number_of_reviews</th>\n",
       "      <th>review_scores_rating</th>\n",
       "      <th>review_scores_location</th>\n",
       "      <th>review_scores_value</th>\n",
       "      <th>reviews_per_month</th>\n",
       "      <th>supervisor_district</th>\n",
       "      <th>num_property_damages_in_sd</th>\n",
       "      <th>num_homeless_concerns_in_sd</th>\n",
       "      <th>num_noise_complaints_in_sd</th>\n",
       "    </tr>\n",
       "  </thead>\n",
       "  <tbody>\n",
       "    <tr>\n",
       "      <th>0</th>\n",
       "      <td>New update: the house next door is under const...</td>\n",
       "      <td>Newly remodeled, modern, and bright garden uni...</td>\n",
       "      <td>New update: the house next door is under const...</td>\n",
       "      <td>* No Pets - even visiting guests for a short t...</td>\n",
       "      <td>1</td>\n",
       "      <td>1</td>\n",
       "      <td>Western Addition</td>\n",
       "      <td>94117</td>\n",
       "      <td>37.76931</td>\n",
       "      <td>-122.43386</td>\n",
       "      <td>...</td>\n",
       "      <td>92</td>\n",
       "      <td>192</td>\n",
       "      <td>97.0</td>\n",
       "      <td>10.0</td>\n",
       "      <td>9.0</td>\n",
       "      <td>1.60</td>\n",
       "      <td>8.0</td>\n",
       "      <td>6002.0</td>\n",
       "      <td>3562.0</td>\n",
       "      <td>2379.0</td>\n",
       "    </tr>\n",
       "    <tr>\n",
       "      <th>1</th>\n",
       "      <td>NaN</td>\n",
       "      <td>We live in a large Victorian house on a quiet ...</td>\n",
       "      <td>We live in a large Victorian house on a quiet ...</td>\n",
       "      <td>Please respect the house, the art work, the fu...</td>\n",
       "      <td>2</td>\n",
       "      <td>2</td>\n",
       "      <td>Bernal Heights</td>\n",
       "      <td>94110</td>\n",
       "      <td>37.74511</td>\n",
       "      <td>-122.42102</td>\n",
       "      <td>...</td>\n",
       "      <td>0</td>\n",
       "      <td>111</td>\n",
       "      <td>98.0</td>\n",
       "      <td>10.0</td>\n",
       "      <td>9.0</td>\n",
       "      <td>0.90</td>\n",
       "      <td>9.0</td>\n",
       "      <td>8609.0</td>\n",
       "      <td>4208.0</td>\n",
       "      <td>2762.0</td>\n",
       "    </tr>\n",
       "    <tr>\n",
       "      <th>2</th>\n",
       "      <td>Nice and good public transportation.  7 minute...</td>\n",
       "      <td>Room rental-sunny view room/sink/Wi Fi (inner ...</td>\n",
       "      <td>Nice and good public transportation.  7 minute...</td>\n",
       "      <td>No party, No smoking, not for any kinds of smo...</td>\n",
       "      <td>10</td>\n",
       "      <td>10</td>\n",
       "      <td>Haight Ashbury</td>\n",
       "      <td>94117</td>\n",
       "      <td>37.76669</td>\n",
       "      <td>-122.45250</td>\n",
       "      <td>...</td>\n",
       "      <td>365</td>\n",
       "      <td>17</td>\n",
       "      <td>85.0</td>\n",
       "      <td>9.0</td>\n",
       "      <td>8.0</td>\n",
       "      <td>0.14</td>\n",
       "      <td>5.0</td>\n",
       "      <td>11489.0</td>\n",
       "      <td>2490.0</td>\n",
       "      <td>2572.0</td>\n",
       "    </tr>\n",
       "    <tr>\n",
       "      <th>3</th>\n",
       "      <td>Nice and good public transportation.  7 minute...</td>\n",
       "      <td>Room rental Sunny view Rm/Wi-Fi/TV/sink/large ...</td>\n",
       "      <td>Nice and good public transportation.  7 minute...</td>\n",
       "      <td>no pet no smoke no party inside the building</td>\n",
       "      <td>10</td>\n",
       "      <td>10</td>\n",
       "      <td>Haight Ashbury</td>\n",
       "      <td>94117</td>\n",
       "      <td>37.76487</td>\n",
       "      <td>-122.45183</td>\n",
       "      <td>...</td>\n",
       "      <td>346</td>\n",
       "      <td>8</td>\n",
       "      <td>93.0</td>\n",
       "      <td>9.0</td>\n",
       "      <td>9.0</td>\n",
       "      <td>0.14</td>\n",
       "      <td>5.0</td>\n",
       "      <td>11489.0</td>\n",
       "      <td>2490.0</td>\n",
       "      <td>2572.0</td>\n",
       "    </tr>\n",
       "    <tr>\n",
       "      <th>4</th>\n",
       "      <td>Pls email before booking.  Interior featured i...</td>\n",
       "      <td>Please send us a quick message before booking ...</td>\n",
       "      <td>Pls email before booking.  Interior featured i...</td>\n",
       "      <td>House Manual and House Rules will be provided ...</td>\n",
       "      <td>2</td>\n",
       "      <td>2</td>\n",
       "      <td>Western Addition</td>\n",
       "      <td>94117</td>\n",
       "      <td>37.77525</td>\n",
       "      <td>-122.43637</td>\n",
       "      <td>...</td>\n",
       "      <td>90</td>\n",
       "      <td>27</td>\n",
       "      <td>97.0</td>\n",
       "      <td>10.0</td>\n",
       "      <td>9.0</td>\n",
       "      <td>0.23</td>\n",
       "      <td>5.0</td>\n",
       "      <td>11489.0</td>\n",
       "      <td>2490.0</td>\n",
       "      <td>2572.0</td>\n",
       "    </tr>\n",
       "  </tbody>\n",
       "</table>\n",
       "<p>5 rows × 33 columns</p>\n",
       "</div>"
      ],
      "text/plain": [
       "                                             summary  \\\n",
       "0  New update: the house next door is under const...   \n",
       "1                                                NaN   \n",
       "2  Nice and good public transportation.  7 minute...   \n",
       "3  Nice and good public transportation.  7 minute...   \n",
       "4  Pls email before booking.  Interior featured i...   \n",
       "\n",
       "                                               space  \\\n",
       "0  Newly remodeled, modern, and bright garden uni...   \n",
       "1  We live in a large Victorian house on a quiet ...   \n",
       "2  Room rental-sunny view room/sink/Wi Fi (inner ...   \n",
       "3  Room rental Sunny view Rm/Wi-Fi/TV/sink/large ...   \n",
       "4  Please send us a quick message before booking ...   \n",
       "\n",
       "                                         description  \\\n",
       "0  New update: the house next door is under const...   \n",
       "1  We live in a large Victorian house on a quiet ...   \n",
       "2  Nice and good public transportation.  7 minute...   \n",
       "3  Nice and good public transportation.  7 minute...   \n",
       "4  Pls email before booking.  Interior featured i...   \n",
       "\n",
       "                                         house_rules  host_listings_count  \\\n",
       "0  * No Pets - even visiting guests for a short t...                    1   \n",
       "1  Please respect the house, the art work, the fu...                    2   \n",
       "2  No party, No smoking, not for any kinds of smo...                   10   \n",
       "3       no pet no smoke no party inside the building                   10   \n",
       "4  House Manual and House Rules will be provided ...                    2   \n",
       "\n",
       "   host_total_listings_count      neighborhood zipcode  latitude  longitude  \\\n",
       "0                          1  Western Addition   94117  37.76931 -122.43386   \n",
       "1                          2    Bernal Heights   94110  37.74511 -122.42102   \n",
       "2                         10    Haight Ashbury   94117  37.76669 -122.45250   \n",
       "3                         10    Haight Ashbury   94117  37.76487 -122.45183   \n",
       "4                          2  Western Addition   94117  37.77525 -122.43637   \n",
       "\n",
       "   ... availability_365 number_of_reviews  review_scores_rating  \\\n",
       "0  ...               92               192                  97.0   \n",
       "1  ...                0               111                  98.0   \n",
       "2  ...              365                17                  85.0   \n",
       "3  ...              346                 8                  93.0   \n",
       "4  ...               90                27                  97.0   \n",
       "\n",
       "   review_scores_location  review_scores_value  reviews_per_month  \\\n",
       "0                    10.0                  9.0               1.60   \n",
       "1                    10.0                  9.0               0.90   \n",
       "2                     9.0                  8.0               0.14   \n",
       "3                     9.0                  9.0               0.14   \n",
       "4                    10.0                  9.0               0.23   \n",
       "\n",
       "  supervisor_district  num_property_damages_in_sd  \\\n",
       "0                 8.0                      6002.0   \n",
       "1                 9.0                      8609.0   \n",
       "2                 5.0                     11489.0   \n",
       "3                 5.0                     11489.0   \n",
       "4                 5.0                     11489.0   \n",
       "\n",
       "   num_homeless_concerns_in_sd  num_noise_complaints_in_sd  \n",
       "0                       3562.0                      2379.0  \n",
       "1                       4208.0                      2762.0  \n",
       "2                       2490.0                      2572.0  \n",
       "3                       2490.0                      2572.0  \n",
       "4                       2490.0                      2572.0  \n",
       "\n",
       "[5 rows x 33 columns]"
      ]
     },
     "execution_count": 7,
     "metadata": {},
     "output_type": "execute_result"
    }
   ],
   "source": [
    "airbnb_in_d = airbnb_df[\"supervisor_district\"].value_counts().rename(\"num_airbnb_in_sd\")\n",
    "damages_in_d = damage_df[\"Supervisor District\"].value_counts().rename(\"num_property_damages_in_sd\")\n",
    "homeless_in_d = homeless_df[\"Supervisor District\"].value_counts().rename(\"num_homeless_concerns_in_sd\")\n",
    "noises_in_d = noise_df[\"Supervisor District\"].value_counts().rename(\"num_noise_complaints_in_sd\")\n",
    "\n",
    "combined_df = airbnb_df.join(damages_in_d, on=[\"supervisor_district\"])\n",
    "combined_df = combined_df.join(homeless_in_d, on=[\"supervisor_district\"])\n",
    "combined_df = combined_df.join(noises_in_d, on=[\"supervisor_district\"])\n",
    "\n",
    "combined_df.head()"
   ]
  },
  {
   "cell_type": "code",
   "execution_count": 8,
   "metadata": {},
   "outputs": [],
   "source": [
    "sup_dis = pd.DataFrame(pd.Series(list(range(1, 12)), index=list(range(1,12)), name=\"supervisor_district\"))\n",
    "# pd.concat([sup_dis, airbnb_in_d, damages_in_d], axis=1)\n",
    "airbnb_in_d_df = pd.DataFrame(airbnb_in_d.rename(\"value\"))\n",
    "airbnb_in_d_df[\"feature\"] = \"Airbnb Listings\"\n",
    "damages_in_d_df = pd.DataFrame(damages_in_d.rename(\"value\"))\n",
    "damages_in_d_df[\"feature\"] = \"Property Damages\"\n",
    "homeless_in_d_df = pd.DataFrame(homeless_in_d.rename(\"value\"))\n",
    "homeless_in_d_df[\"feature\"] = \"Homeless Concerns\"\n",
    "noises_in_d_df = pd.DataFrame(noises_in_d.rename(\"value\"))\n",
    "noises_in_d_df[\"feature\"] = \"Noise Complaints\"\n",
    "\n",
    "airbnb_in_d_df = pd.merge(sup_dis, airbnb_in_d_df, left_index=True, right_index=True)\n",
    "damages_in_d_df = pd.merge(sup_dis, damages_in_d_df, left_index=True, right_index=True)\n",
    "homeless_in_d_df = pd.merge(sup_dis, homeless_in_d_df, left_index=True, right_index=True)\n",
    "noises_in_d_df = pd.merge(sup_dis, noises_in_d_df, left_index=True, right_index=True)\n",
    "\n",
    "combined_nums_df = pd.concat([airbnb_in_d_df, damages_in_d_df, homeless_in_d_df, noises_in_d_df], axis=0).reset_index()"
   ]
  },
  {
   "cell_type": "code",
   "execution_count": 9,
   "metadata": {
    "scrolled": false
   },
   "outputs": [
    {
     "data": {
      "image/png": "[encoded data removed]",
      "text/plain": [
       "<Figure size 864x360 with 1 Axes>"
      ]
     },
     "metadata": {
      "needs_background": "light"
     },
     "output_type": "display_data"
    }
   ],
   "source": [
    "plt.figure(figsize=(12, 5))\n",
    "plot = sns.barplot(x=\"supervisor_district\", y=\"value\", hue=\"feature\", data=combined_nums_df)\n",
    "plt.legend(bbox_to_anchor=(1.01, 1), loc=2, borderaxespad=0.)\n",
    "plt.title(\"Airbnb Listings per District, Dependent on Factors\")\n",
    "fig = plot.get_figure()\n",
    "fig.savefig( 'airbnb_combined_sd.png', dpi=300, transparent=False, format=\"png\", bbox_inches=\"tight\")"
   ]
  },
  {
   "cell_type": "code",
   "execution_count": 10,
   "metadata": {
    "scrolled": true
   },
   "outputs": [
    {
     "data": {
      "image/png": "[encoded data removed]",
      "text/plain": [
       "<Figure size 864x360 with 1 Axes>"
      ]
     },
     "metadata": {
      "needs_background": "light"
     },
     "output_type": "display_data"
    }
   ],
   "source": [
    "def normalize_value(x):\n",
    "    min_max = (x[\"value\"].min(), x[\"value\"].max())\n",
    "    x[\"value_norm\"] = x[\"value\"].apply(lambda x: x / min_max[1])\n",
    "    return x\n",
    "\n",
    "combined_nums_df = combined_nums_df.groupby(\"feature\").apply(normalize_value).reset_index().drop(columns=[\"index\"])\n",
    "\n",
    "plt.figure(figsize=(12, 5))\n",
    "plot = sns.barplot(x=\"supervisor_district\", y=\"value_norm\", hue=\"feature\", data=combined_nums_df)\n",
    "plt.legend(bbox_to_anchor=(1.01, 1), loc=2, borderaxespad=0.)\n",
    "plt.title(\"Airbnb Listings per District, Dependent on Factors, Normalized per Feature\")\n",
    "fig = plot.get_figure()\n",
    "fig.savefig( 'airbnb_combined_norm_sd.png', dpi=300, transparent=False, format=\"png\", bbox_inches=\"tight\")"
   ]
  }
 ],
 "metadata": {
  "kernelspec": {
   "display_name": "Python 3",
   "language": "python",
   "name": "python3"
  },
  "language_info": {
   "codemirror_mode": {
    "name": "ipython",
    "version": 3
   },
   "file_extension": ".py",
   "mimetype": "text/x-python",
   "name": "python",
   "nbconvert_exporter": "python",
   "pygments_lexer": "ipython3",
   "version": "3.5.2"
  }
 },
 "nbformat": 4,
 "nbformat_minor": 2
}
