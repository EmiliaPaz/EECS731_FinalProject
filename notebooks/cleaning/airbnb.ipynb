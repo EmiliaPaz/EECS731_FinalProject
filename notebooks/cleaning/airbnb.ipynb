{
 "cells": [
  {
   "cell_type": "code",
   "execution_count": 1,
   "metadata": {},
   "outputs": [],
   "source": [
    "import numpy as np\n",
    "import pandas as pd"
   ]
  },
  {
   "cell_type": "code",
   "execution_count": 2,
   "metadata": {
    "scrolled": false
   },
   "outputs": [
    {
     "data": {
      "text/html": [
       "<div>\n",
       "<style scoped>\n",
       "    .dataframe tbody tr th:only-of-type {\n",
       "        vertical-align: middle;\n",
       "    }\n",
       "\n",
       "    .dataframe tbody tr th {\n",
       "        vertical-align: top;\n",
       "    }\n",
       "\n",
       "    .dataframe thead th {\n",
       "        text-align: right;\n",
       "    }\n",
       "</style>\n",
       "<table border=\"1\" class=\"dataframe\">\n",
       "  <thead>\n",
       "    <tr style=\"text-align: right;\">\n",
       "      <th></th>\n",
       "      <th>id</th>\n",
       "      <th>listing_url</th>\n",
       "      <th>scrape_id</th>\n",
       "      <th>last_scraped</th>\n",
       "      <th>name</th>\n",
       "      <th>summary</th>\n",
       "      <th>space</th>\n",
       "      <th>description</th>\n",
       "      <th>experiences_offered</th>\n",
       "      <th>neighborhood_overview</th>\n",
       "      <th>...</th>\n",
       "      <th>instant_bookable</th>\n",
       "      <th>is_business_travel_ready</th>\n",
       "      <th>cancellation_policy</th>\n",
       "      <th>require_guest_profile_picture</th>\n",
       "      <th>require_guest_phone_verification</th>\n",
       "      <th>calculated_host_listings_count</th>\n",
       "      <th>calculated_host_listings_count_entire_homes</th>\n",
       "      <th>calculated_host_listings_count_private_rooms</th>\n",
       "      <th>calculated_host_listings_count_shared_rooms</th>\n",
       "      <th>reviews_per_month</th>\n",
       "    </tr>\n",
       "  </thead>\n",
       "  <tbody>\n",
       "    <tr>\n",
       "      <th>0</th>\n",
       "      <td>958</td>\n",
       "      <td>https://www.airbnb.com/rooms/958</td>\n",
       "      <td>2.019060e+13</td>\n",
       "      <td>6/2/19</td>\n",
       "      <td>Bright, Modern Garden Unit - 1BR/1B</td>\n",
       "      <td>New update: the house next door is under const...</td>\n",
       "      <td>Newly remodeled, modern, and bright garden uni...</td>\n",
       "      <td>New update: the house next door is under const...</td>\n",
       "      <td>none</td>\n",
       "      <td>*Quiet cul de sac in friendly neighborhood *St...</td>\n",
       "      <td>...</td>\n",
       "      <td>t</td>\n",
       "      <td>f</td>\n",
       "      <td>moderate</td>\n",
       "      <td>f</td>\n",
       "      <td>f</td>\n",
       "      <td>1</td>\n",
       "      <td>1</td>\n",
       "      <td>0</td>\n",
       "      <td>0</td>\n",
       "      <td>1.60</td>\n",
       "    </tr>\n",
       "    <tr>\n",
       "      <th>1</th>\n",
       "      <td>5858</td>\n",
       "      <td>https://www.airbnb.com/rooms/5858</td>\n",
       "      <td>2.019060e+13</td>\n",
       "      <td>6/2/19</td>\n",
       "      <td>Creative Sanctuary</td>\n",
       "      <td>NaN</td>\n",
       "      <td>We live in a large Victorian house on a quiet ...</td>\n",
       "      <td>We live in a large Victorian house on a quiet ...</td>\n",
       "      <td>none</td>\n",
       "      <td>I love how our neighborhood feels quiet but is...</td>\n",
       "      <td>...</td>\n",
       "      <td>f</td>\n",
       "      <td>f</td>\n",
       "      <td>strict_14_with_grace_period</td>\n",
       "      <td>f</td>\n",
       "      <td>f</td>\n",
       "      <td>1</td>\n",
       "      <td>1</td>\n",
       "      <td>0</td>\n",
       "      <td>0</td>\n",
       "      <td>0.90</td>\n",
       "    </tr>\n",
       "    <tr>\n",
       "      <th>2</th>\n",
       "      <td>7918</td>\n",
       "      <td>https://www.airbnb.com/rooms/7918</td>\n",
       "      <td>2.019060e+13</td>\n",
       "      <td>6/2/19</td>\n",
       "      <td>A Friendly Room - UCSF/USF - San Francisco</td>\n",
       "      <td>Nice and good public transportation.  7 minute...</td>\n",
       "      <td>Room rental-sunny view room/sink/Wi Fi (inner ...</td>\n",
       "      <td>Nice and good public transportation.  7 minute...</td>\n",
       "      <td>none</td>\n",
       "      <td>Shopping old town, restaurants, McDonald, Whol...</td>\n",
       "      <td>...</td>\n",
       "      <td>f</td>\n",
       "      <td>f</td>\n",
       "      <td>strict_14_with_grace_period</td>\n",
       "      <td>f</td>\n",
       "      <td>f</td>\n",
       "      <td>9</td>\n",
       "      <td>0</td>\n",
       "      <td>9</td>\n",
       "      <td>0</td>\n",
       "      <td>0.14</td>\n",
       "    </tr>\n",
       "    <tr>\n",
       "      <th>3</th>\n",
       "      <td>8142</td>\n",
       "      <td>https://www.airbnb.com/rooms/8142</td>\n",
       "      <td>2.019060e+13</td>\n",
       "      <td>6/2/19</td>\n",
       "      <td>Friendly Room Apt. Style -UCSF/USF - San Franc...</td>\n",
       "      <td>Nice and good public transportation.  7 minute...</td>\n",
       "      <td>Room rental Sunny view Rm/Wi-Fi/TV/sink/large ...</td>\n",
       "      <td>Nice and good public transportation.  7 minute...</td>\n",
       "      <td>none</td>\n",
       "      <td>NaN</td>\n",
       "      <td>...</td>\n",
       "      <td>f</td>\n",
       "      <td>f</td>\n",
       "      <td>strict_14_with_grace_period</td>\n",
       "      <td>f</td>\n",
       "      <td>f</td>\n",
       "      <td>9</td>\n",
       "      <td>0</td>\n",
       "      <td>9</td>\n",
       "      <td>0</td>\n",
       "      <td>0.14</td>\n",
       "    </tr>\n",
       "    <tr>\n",
       "      <th>4</th>\n",
       "      <td>8339</td>\n",
       "      <td>https://www.airbnb.com/rooms/8339</td>\n",
       "      <td>2.019060e+13</td>\n",
       "      <td>6/2/19</td>\n",
       "      <td>Historic Alamo Square Victorian</td>\n",
       "      <td>Pls email before booking.  Interior featured i...</td>\n",
       "      <td>Please send us a quick message before booking ...</td>\n",
       "      <td>Pls email before booking.  Interior featured i...</td>\n",
       "      <td>none</td>\n",
       "      <td>NaN</td>\n",
       "      <td>...</td>\n",
       "      <td>f</td>\n",
       "      <td>f</td>\n",
       "      <td>moderate</td>\n",
       "      <td>t</td>\n",
       "      <td>t</td>\n",
       "      <td>2</td>\n",
       "      <td>2</td>\n",
       "      <td>0</td>\n",
       "      <td>0</td>\n",
       "      <td>0.23</td>\n",
       "    </tr>\n",
       "  </tbody>\n",
       "</table>\n",
       "<p>5 rows × 106 columns</p>\n",
       "</div>"
      ],
      "text/plain": [
       "     id                        listing_url     scrape_id last_scraped  \\\n",
       "0   958   https://www.airbnb.com/rooms/958  2.019060e+13       6/2/19   \n",
       "1  5858  https://www.airbnb.com/rooms/5858  2.019060e+13       6/2/19   \n",
       "2  7918  https://www.airbnb.com/rooms/7918  2.019060e+13       6/2/19   \n",
       "3  8142  https://www.airbnb.com/rooms/8142  2.019060e+13       6/2/19   \n",
       "4  8339  https://www.airbnb.com/rooms/8339  2.019060e+13       6/2/19   \n",
       "\n",
       "                                                name  \\\n",
       "0                Bright, Modern Garden Unit - 1BR/1B   \n",
       "1                                 Creative Sanctuary   \n",
       "2         A Friendly Room - UCSF/USF - San Francisco   \n",
       "3  Friendly Room Apt. Style -UCSF/USF - San Franc...   \n",
       "4                    Historic Alamo Square Victorian   \n",
       "\n",
       "                                             summary  \\\n",
       "0  New update: the house next door is under const...   \n",
       "1                                                NaN   \n",
       "2  Nice and good public transportation.  7 minute...   \n",
       "3  Nice and good public transportation.  7 minute...   \n",
       "4  Pls email before booking.  Interior featured i...   \n",
       "\n",
       "                                               space  \\\n",
       "0  Newly remodeled, modern, and bright garden uni...   \n",
       "1  We live in a large Victorian house on a quiet ...   \n",
       "2  Room rental-sunny view room/sink/Wi Fi (inner ...   \n",
       "3  Room rental Sunny view Rm/Wi-Fi/TV/sink/large ...   \n",
       "4  Please send us a quick message before booking ...   \n",
       "\n",
       "                                         description experiences_offered  \\\n",
       "0  New update: the house next door is under const...                none   \n",
       "1  We live in a large Victorian house on a quiet ...                none   \n",
       "2  Nice and good public transportation.  7 minute...                none   \n",
       "3  Nice and good public transportation.  7 minute...                none   \n",
       "4  Pls email before booking.  Interior featured i...                none   \n",
       "\n",
       "                               neighborhood_overview  ... instant_bookable  \\\n",
       "0  *Quiet cul de sac in friendly neighborhood *St...  ...                t   \n",
       "1  I love how our neighborhood feels quiet but is...  ...                f   \n",
       "2  Shopping old town, restaurants, McDonald, Whol...  ...                f   \n",
       "3                                                NaN  ...                f   \n",
       "4                                                NaN  ...                f   \n",
       "\n",
       "  is_business_travel_ready          cancellation_policy  \\\n",
       "0                        f                     moderate   \n",
       "1                        f  strict_14_with_grace_period   \n",
       "2                        f  strict_14_with_grace_period   \n",
       "3                        f  strict_14_with_grace_period   \n",
       "4                        f                     moderate   \n",
       "\n",
       "  require_guest_profile_picture require_guest_phone_verification  \\\n",
       "0                             f                                f   \n",
       "1                             f                                f   \n",
       "2                             f                                f   \n",
       "3                             f                                f   \n",
       "4                             t                                t   \n",
       "\n",
       "   calculated_host_listings_count  \\\n",
       "0                               1   \n",
       "1                               1   \n",
       "2                               9   \n",
       "3                               9   \n",
       "4                               2   \n",
       "\n",
       "   calculated_host_listings_count_entire_homes  \\\n",
       "0                                            1   \n",
       "1                                            1   \n",
       "2                                            0   \n",
       "3                                            0   \n",
       "4                                            2   \n",
       "\n",
       "  calculated_host_listings_count_private_rooms  \\\n",
       "0                                            0   \n",
       "1                                            0   \n",
       "2                                            9   \n",
       "3                                            9   \n",
       "4                                            0   \n",
       "\n",
       "   calculated_host_listings_count_shared_rooms  reviews_per_month  \n",
       "0                                            0               1.60  \n",
       "1                                            0               0.90  \n",
       "2                                            0               0.14  \n",
       "3                                            0               0.14  \n",
       "4                                            0               0.23  \n",
       "\n",
       "[5 rows x 106 columns]"
      ]
     },
     "execution_count": 2,
     "metadata": {},
     "output_type": "execute_result"
    }
   ],
   "source": [
    "airbnb_df = pd.read_csv(\"../../data/raw/sf_airbnb_listings.csv\")\n",
    "airbnb_df.head()"
   ]
  },
  {
   "cell_type": "markdown",
   "metadata": {},
   "source": [
    "## Cleaning\n",
    "We're going to want to get rid of any columns that we don't need. Because there are 106, this may be a bit of a challenge."
   ]
  },
  {
   "cell_type": "code",
   "execution_count": 3,
   "metadata": {},
   "outputs": [
    {
     "data": {
      "text/plain": [
       "Index(['id', 'summary', 'space', 'description', 'house_rules',\n",
       "       'host_listings_count', 'host_total_listings_count', 'neighbourhood',\n",
       "       'neighbourhood_cleansed', 'neighbourhood_group_cleansed', 'zipcode',\n",
       "       'latitude', 'longitude', 'is_location_exact', 'room_type',\n",
       "       'accommodates', 'bathrooms', 'bedrooms', 'beds', 'amenities', 'price',\n",
       "       'minimum_nights', 'maximum_nights', 'availability_30',\n",
       "       'availability_60', 'availability_90', 'availability_365',\n",
       "       'number_of_reviews', 'review_scores_rating', 'review_scores_location',\n",
       "       'review_scores_value', 'reviews_per_month'],\n",
       "      dtype='object')"
      ]
     },
     "execution_count": 3,
     "metadata": {},
     "output_type": "execute_result"
    }
   ],
   "source": [
    "airbnb_df.drop(columns={\"access\", \"bed_type\", \"calculated_host_listings_count_entire_homes\", \"calculated_host_listings_count_private_rooms\", \"calculated_host_listings_count_shared_rooms\", \"calculated_host_listings_count\", \"calendar_last_scraped\", \"calendar_updated\", \"cancellation_policy\", \"city\", \"country_code\", \"country\", \"experiences_offered\", \"extra_people\", \"first_review\", \"guests_included\", \"has_availability\", \"host_about\", \"host_acceptance_rate\", \"host_has_profile_pic\", \"host_id\", \"host_identity_verified\", \"host_is_superhost\", \"host_location\", \"host_name\", \"host_neighbourhood\", \"host_picture_url\", \"host_response_rate\", \"host_response_time\", \"host_since\", \"host_thumbnail_url\", \"host_url\", \"host_verifications\", \"instant_bookable\", \"interaction\", \"is_business_travel_ready\", \"jurisdiction_names\", \"last_review\", \"last_scraped\", \"license\", \"listing_url\", \"market\", \"maximum_maximum_nights\", \"maximum_minimum_nights\", \"maximum_nights_avg_ntm\", \"medium_url\", \"minimum_maximum_nights\", \"minimum_minimum_nights\", \"minimum_nights_avg_ntm\", \"name\", \"neighborhood_overview\", \"notes\", \"number_of_reviews_ltm\", \"picture_url\", \"property_type\", \"require_guest_phone_verification\", \"require_guest_profile_picture\", \"requires_license\", \"review_scores_accuracy\", \"review_scores_checkin\", \"review_scores_cleanliness\", \"review_scores_communication\", \"scrape_id\", \"smart_location\", \"state\", \"street\", \"thumbnail_url\", \"transit\", \"xl_picture_url\", \"square_feet\", \"weekly_price\", \"monthly_price\", \"security_deposit\", \"cleaning_fee\"}, inplace=True)\n",
    "airbnb_df.keys()"
   ]
  },
  {
   "cell_type": "markdown",
   "metadata": {},
   "source": [
    "Check for duplicates:"
   ]
  },
  {
   "cell_type": "code",
   "execution_count": 4,
   "metadata": {},
   "outputs": [
    {
     "data": {
      "text/plain": [
       "33474561    1\n",
       "19642407    1\n",
       "1056844     1\n",
       "21026891    1\n",
       "1620039     1\n",
       "Name: id, dtype: int64"
      ]
     },
     "execution_count": 4,
     "metadata": {},
     "output_type": "execute_result"
    }
   ],
   "source": [
    "airbnb_df[\"id\"].value_counts().sort_values(ascending=False)[:5]"
   ]
  },
  {
   "cell_type": "markdown",
   "metadata": {},
   "source": [
    "No duplicates, so we can remove this column:"
   ]
  },
  {
   "cell_type": "code",
   "execution_count": 5,
   "metadata": {},
   "outputs": [],
   "source": [
    "airbnb_df = airbnb_df.drop(columns={\"id\"})"
   ]
  },
  {
   "cell_type": "markdown",
   "metadata": {},
   "source": [
    "Determine the difference between `cleansed` columns and non-cleansed columns:"
   ]
  },
  {
   "cell_type": "code",
   "execution_count": 6,
   "metadata": {},
   "outputs": [
    {
     "data": {
      "text/plain": [
       "array(['Western Addition', 'Bernal Heights', 'Haight Ashbury', 'Mission',\n",
       "       'Potrero Hill', 'Downtown/Civic Center', 'Castro/Upper Market',\n",
       "       'Inner Sunset', 'South of Market', 'Noe Valley', 'Nob Hill',\n",
       "       'Outer Richmond', 'Presidio Heights', 'Glen Park', 'Ocean View',\n",
       "       'Pacific Heights', 'Financial District', 'Twin Peaks',\n",
       "       'Russian Hill', 'Outer Sunset', 'Marina', 'Inner Richmond',\n",
       "       'Excelsior', 'Seacliff', 'Chinatown', 'West of Twin Peaks',\n",
       "       'Bayview', 'North Beach', 'Diamond Heights', 'Outer Mission',\n",
       "       'Parkside', 'Lakeshore', 'Crocker Amazon', 'Golden Gate Park',\n",
       "       'Visitacion Valley', 'Presidio'], dtype=object)"
      ]
     },
     "execution_count": 6,
     "metadata": {},
     "output_type": "execute_result"
    }
   ],
   "source": [
    "airbnb_df[\"neighbourhood_cleansed\"].unique()"
   ]
  },
  {
   "cell_type": "code",
   "execution_count": 7,
   "metadata": {},
   "outputs": [
    {
     "data": {
      "text/plain": [
       "array(['Lower Haight', 'Bernal Heights', 'Cole Valley', 'Alamo Square',\n",
       "       'Western Addition/NOPA', 'Mission District', 'Potrero Hill',\n",
       "       'Hayes Valley', 'Union Square', 'Haight-Ashbury', 'The Castro',\n",
       "       'South Beach', 'Noe Valley', 'Nob Hill', 'Richmond District',\n",
       "       'Presidio Heights', 'Glen Park', 'Dogpatch', 'Ingleside',\n",
       "       'Pacific Heights', 'SoMa', 'Financial District', 'Twin Peaks',\n",
       "       'Inner Sunset', 'Russian Hill', 'Outer Sunset', 'Marina',\n",
       "       'Excelsior', 'Chinatown', 'Civic Center', 'Tenderloin',\n",
       "       'Balboa Terrace', 'Bayview', 'Telegraph Hill', 'Diamond Heights',\n",
       "       'Duboce Triangle', 'West Portal', 'North Beach', 'Mission Terrace',\n",
       "       'Sunnyside', 'Cow Hollow', \"Fisherman''''s Wharf\", 'Lakeshore',\n",
       "       \"Fisherman''s Wharf\", 'Crocker Amazon', 'Downtown', 'Oceanview',\n",
       "       'Portola', 'Parkside', 'Presidio', 'Forest Hill',\n",
       "       'Visitacion Valley', 'Mission Bay', 'Sea Cliff', 'Daly City',\n",
       "       'Japantown'], dtype=object)"
      ]
     },
     "execution_count": 7,
     "metadata": {},
     "output_type": "execute_result"
    }
   ],
   "source": [
    "airbnb_df[\"neighbourhood\"].unique()"
   ]
  },
  {
   "cell_type": "markdown",
   "metadata": {},
   "source": [
    "It looks like `neighbourhood_cleansed` is just a more specific version of the `neighbour_hood` column. We'll use the cleansed version:"
   ]
  },
  {
   "cell_type": "code",
   "execution_count": 8,
   "metadata": {},
   "outputs": [],
   "source": [
    "airbnb_df.drop(columns={\"neighbourhood\"}, inplace=True)\n",
    "airbnb_df = airbnb_df.rename(columns={\"neighbourhood_cleansed\": \"neighborhood\"})"
   ]
  },
  {
   "cell_type": "code",
   "execution_count": 9,
   "metadata": {},
   "outputs": [
    {
     "data": {
      "text/plain": [
       "array([nan])"
      ]
     },
     "execution_count": 9,
     "metadata": {},
     "output_type": "execute_result"
    }
   ],
   "source": [
    "airbnb_df[\"neighbourhood_group_cleansed\"].unique()"
   ]
  },
  {
   "cell_type": "markdown",
   "metadata": {},
   "source": [
    "Well this is useless"
   ]
  },
  {
   "cell_type": "code",
   "execution_count": 10,
   "metadata": {},
   "outputs": [],
   "source": [
    "airbnb_df.drop(columns={\"neighbourhood_group_cleansed\"}, inplace=True)"
   ]
  },
  {
   "cell_type": "markdown",
   "metadata": {},
   "source": [
    "Check for null values:"
   ]
  },
  {
   "cell_type": "code",
   "execution_count": 11,
   "metadata": {},
   "outputs": [
    {
     "data": {
      "text/plain": [
       "summary                       203\n",
       "space                        1280\n",
       "description                    24\n",
       "house_rules                  2415\n",
       "host_listings_count             0\n",
       "host_total_listings_count       0\n",
       "neighborhood                    0\n",
       "zipcode                       245\n",
       "latitude                        0\n",
       "longitude                       0\n",
       "is_location_exact               0\n",
       "room_type                       0\n",
       "accommodates                    0\n",
       "bathrooms                      18\n",
       "bedrooms                        2\n",
       "beds                            7\n",
       "amenities                       0\n",
       "price                           0\n",
       "minimum_nights                  0\n",
       "maximum_nights                  0\n",
       "availability_30                 0\n",
       "availability_60                 0\n",
       "availability_90                 0\n",
       "availability_365                0\n",
       "number_of_reviews               0\n",
       "review_scores_rating         1537\n",
       "review_scores_location       1542\n",
       "review_scores_value          1542\n",
       "reviews_per_month            1494\n",
       "dtype: int64"
      ]
     },
     "execution_count": 11,
     "metadata": {},
     "output_type": "execute_result"
    }
   ],
   "source": [
    "airbnb_df.isna().sum()"
   ]
  },
  {
   "cell_type": "markdown",
   "metadata": {},
   "source": [
    "Let's take this one step at a time:"
   ]
  },
  {
   "cell_type": "code",
   "execution_count": 12,
   "metadata": {},
   "outputs": [
    {
     "data": {
      "text/plain": [
       "zipcode                    245\n",
       "review_scores_rating      1533\n",
       "review_scores_location    1538\n",
       "review_scores_value       1538\n",
       "reviews_per_month         1491\n",
       "dtype: int64"
      ]
     },
     "execution_count": 12,
     "metadata": {},
     "output_type": "execute_result"
    }
   ],
   "source": [
    "# Set summary, space, description, house_rules to empty string\n",
    "airbnb_df[[\"summary\", \"space\", \"description\", \"house_rules\"]] = airbnb_df[[\"summary\", \"space\", \"description\", \"house_rules\"]].fillna(\"\")\n",
    "\n",
    "# Delete any rows containing null values of bathrooms, bedrooms, and beds\n",
    "indecesToDrop = list(airbnb_df[airbnb_df[\"bathrooms\"].isna()].index)\n",
    "indecesToDrop.extend(airbnb_df[airbnb_df[\"bedrooms\"].isna()].index)\n",
    "indecesToDrop.extend(airbnb_df[airbnb_df[\"beds\"].isna()].index)\n",
    "airbnb_df.drop(indecesToDrop, inplace=True)\n",
    "\n",
    "airbnb_df.isna().sum()[airbnb_df.isna().sum() > 1]"
   ]
  },
  {
   "cell_type": "markdown",
   "metadata": {},
   "source": [
    "We will keep these as null values."
   ]
  },
  {
   "cell_type": "markdown",
   "metadata": {},
   "source": [
    "Next, let's fix the price. Because it is listed with a dollar sign, it is considered a string:"
   ]
  },
  {
   "cell_type": "code",
   "execution_count": 13,
   "metadata": {},
   "outputs": [
    {
     "data": {
      "text/plain": [
       "Series([], Name: price, dtype: object)"
      ]
     },
     "execution_count": 13,
     "metadata": {},
     "output_type": "execute_result"
    }
   ],
   "source": [
    "airbnb_df[\"price\"][airbnb_df[\"price\"].apply(lambda s: s[len(s)-3:] != \"00 \")]"
   ]
  },
  {
   "cell_type": "markdown",
   "metadata": {},
   "source": [
    "There are no prices with cents, so we'll just convert this into an int representing dollars:"
   ]
  },
  {
   "cell_type": "code",
   "execution_count": 14,
   "metadata": {},
   "outputs": [
    {
     "data": {
      "text/plain": [
       "count    7549.000000\n",
       "mean      215.617433\n",
       "std       256.577478\n",
       "min         0.000000\n",
       "25%       100.000000\n",
       "50%       152.000000\n",
       "75%       248.000000\n",
       "max      8000.000000\n",
       "Name: price, dtype: float64"
      ]
     },
     "execution_count": 14,
     "metadata": {},
     "output_type": "execute_result"
    }
   ],
   "source": [
    "airbnb_df[\"price\"] = airbnb_df[\"price\"].apply(lambda s: int(s[1:len(s)-4].replace(\",\", \"\")))\n",
    "airbnb_df[\"price\"].describe()"
   ]
  },
  {
   "cell_type": "markdown",
   "metadata": {},
   "source": [
    "What?? Why do we have a 0? Let's drop it."
   ]
  },
  {
   "cell_type": "code",
   "execution_count": 15,
   "metadata": {},
   "outputs": [
    {
     "data": {
      "text/plain": [
       "count    7548.000000\n",
       "mean      215.645999\n",
       "std       256.582470\n",
       "min        10.000000\n",
       "25%       100.000000\n",
       "50%       152.000000\n",
       "75%       248.250000\n",
       "max      8000.000000\n",
       "Name: price, dtype: float64"
      ]
     },
     "execution_count": 15,
     "metadata": {},
     "output_type": "execute_result"
    }
   ],
   "source": [
    "indeces_to_drop = airbnb_df[airbnb_df[\"price\"] == 0].index\n",
    "airbnb_df.drop(indeces_to_drop, inplace=True)\n",
    "airbnb_df[\"price\"].describe()"
   ]
  },
  {
   "cell_type": "code",
   "execution_count": 16,
   "metadata": {},
   "outputs": [
    {
     "data": {
      "text/plain": [
       "\"ur 100 year old home.  We''''ve been Hosts since Airbnb''''s 1st year (2009), and can suggest restau\""
      ]
     },
     "execution_count": 16,
     "metadata": {},
     "output_type": "execute_result"
    }
   ],
   "source": [
    "airbnb_df[airbnb_df[\"summary\"].apply(lambda s: \"'\" in s)].iloc[0][0][180:280]"
   ]
  },
  {
   "cell_type": "markdown",
   "metadata": {},
   "source": [
    "We have a problem with single quotes showing up multiple times in strings. Let's find all string values and fix this single quote problem:"
   ]
  },
  {
   "cell_type": "code",
   "execution_count": 17,
   "metadata": {
    "scrolled": true
   },
   "outputs": [],
   "source": [
    "types = (airbnb_df.dtypes == object)\n",
    "col_w_str = types[types].index\n",
    "indeces_to_delete = list(np.argwhere(col_w_str == \"is_location_exact\"))\n",
    "indeces_to_delete.extend(np.argwhere(col_w_str == \"zipcode\"))\n",
    "col_w_str = np.delete(col_w_str, indeces_to_delete)"
   ]
  },
  {
   "cell_type": "code",
   "execution_count": 18,
   "metadata": {},
   "outputs": [],
   "source": [
    "import re\n",
    "\n",
    "airbnb_df[col_w_str] = airbnb_df[col_w_str].apply(lambda row: row.apply(lambda s: \"'\".join(re.split(r\"'+\", s))), axis=1)"
   ]
  },
  {
   "cell_type": "markdown",
   "metadata": {},
   "source": [
    "Let's also add the supervisor district:"
   ]
  },
  {
   "cell_type": "code",
   "execution_count": 19,
   "metadata": {},
   "outputs": [
    {
     "data": {
      "text/plain": [
       "{'district_num': 8, 'name': 'Mandelman'}"
      ]
     },
     "execution_count": 19,
     "metadata": {},
     "output_type": "execute_result"
    }
   ],
   "source": [
    "import os\n",
    "import sys\n",
    "module_path = os.path.abspath(os.path.join('..')).split(\"/\")\n",
    "module_path = \"/\".join(module_path[:len(module_path) - 1]) # We have to go one level up\n",
    "if module_path not in sys.path:\n",
    "    sys.path.append(module_path)\n",
    "from src.features.supervisor_districts import sd\n",
    "sd.get_district(airbnb_df[\"longitude\"].iloc[0], airbnb_df[\"latitude\"].iloc[0])"
   ]
  },
  {
   "cell_type": "code",
   "execution_count": 20,
   "metadata": {
    "scrolled": true
   },
   "outputs": [
    {
     "data": {
      "text/plain": [
       "count    7542.000000\n",
       "mean        6.022673\n",
       "std         2.838095\n",
       "min         1.000000\n",
       "25%         3.000000\n",
       "50%         6.000000\n",
       "75%         8.000000\n",
       "max        11.000000\n",
       "Name: supervisor_district, dtype: float64"
      ]
     },
     "execution_count": 20,
     "metadata": {},
     "output_type": "execute_result"
    }
   ],
   "source": [
    "def get_district(row):\n",
    "    try:\n",
    "        return sd.get_district(row[\"longitude\"], row[\"latitude\"])[\"district_num\"]\n",
    "    except:\n",
    "        return np.nan\n",
    "\n",
    "airbnb_df[\"supervisor_district\"] = airbnb_df.apply(get_district, axis=1)\n",
    "airbnb_df[\"supervisor_district\"].describe()"
   ]
  },
  {
   "cell_type": "code",
   "execution_count": 21,
   "metadata": {
    "scrolled": true
   },
   "outputs": [
    {
     "data": {
      "text/plain": [
       "8.0     1261\n",
       "3.0     1122\n",
       "5.0      918\n",
       "9.0      875\n",
       "6.0      807\n",
       "2.0      574\n",
       "10.0     508\n",
       "4.0      391\n",
       "7.0      384\n",
       "1.0      354\n",
       "11.0     348\n",
       "Name: supervisor_district, dtype: int64"
      ]
     },
     "execution_count": 21,
     "metadata": {},
     "output_type": "execute_result"
    }
   ],
   "source": [
    "airbnb_df[\"supervisor_district\"].value_counts()"
   ]
  },
  {
   "cell_type": "markdown",
   "metadata": {},
   "source": [
    "No `NaN`s!"
   ]
  },
  {
   "cell_type": "markdown",
   "metadata": {},
   "source": [
    "Looks good to me! Let's export:"
   ]
  },
  {
   "cell_type": "code",
   "execution_count": 22,
   "metadata": {},
   "outputs": [],
   "source": [
    "airbnb_df.to_csv(\"../../data/processed/sf_airbnb_listings_clean.csv\")"
   ]
  }
 ],
 "metadata": {
  "kernelspec": {
   "display_name": "Python 3",
   "language": "python",
   "name": "python3"
  },
  "language_info": {
   "codemirror_mode": {
    "name": "ipython",
    "version": 3
   },
   "file_extension": ".py",
   "mimetype": "text/x-python",
   "name": "python",
   "nbconvert_exporter": "python",
   "pygments_lexer": "ipython3",
   "version": "3.5.2"
  }
 },
 "nbformat": 4,
 "nbformat_minor": 2
}
